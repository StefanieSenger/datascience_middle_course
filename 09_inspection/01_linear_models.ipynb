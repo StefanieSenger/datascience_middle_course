{
 "cells": [
  {
   "cell_type": "markdown",
   "id": "5a6b8f55-7f4c-4d30-a842-9f95b14218e7",
   "metadata": {},
   "source": [
    "# Inspection of linear models"
   ]
  },
  {
   "cell_type": "markdown",
   "id": "dee7827c-86b0-4f3d-95ba-c9b116a04888",
   "metadata": {},
   "source": [
    "In this notebook, we will discuss how to inspect attribute exposed by linear models after fitting and some of the caveats to have in mind when trying to interpret them.\n",
    "\n",
    "To illustrate this example, we will use the penguins dataset."
   ]
  },
  {
   "cell_type": "code",
   "execution_count": null,
   "id": "4a8da6d2-8185-497b-a650-afcf4182c05c",
   "metadata": {},
   "outputs": [],
   "source": [
    "import pandas as pd\n",
    "\n",
    "data = pd.read_csv(\"../datasets/penguins.csv\")\n",
    "data.head()"
   ]
  },
  {
   "cell_type": "markdown",
   "id": "bfe74497-4c0a-407b-9a75-918bb92b85bf",
   "metadata": {},
   "source": [
    "From the dataset, we will select a subset of features that we can easily get insight without to be an expert."
   ]
  },
  {
   "cell_type": "code",
   "execution_count": null,
   "id": "c8942035-cd41-450f-bd3e-667c51e63136",
   "metadata": {},
   "outputs": [],
   "source": [
    "data = data[[\n",
    "    \"Culmen Length (mm)\",\n",
    "    \"Culmen Depth (mm)\",\n",
    "    \"Flipper Length (mm)\",\n",
    "    \"Body Mass (g)\",\n",
    "    \"Sex\",\n",
    "]].dropna(axis=\"index\")"
   ]
  },
  {
   "cell_type": "code",
   "execution_count": null,
   "id": "0057a0d9-f5e8-45b5-bd38-cc1a863f5f3e",
   "metadata": {},
   "outputs": [],
   "source": [
    "data.info()"
   ]
  },
  {
   "cell_type": "markdown",
   "id": "211e7b47-f2fa-4d66-a950-c3c02e690e56",
   "metadata": {},
   "source": [
    "For our problem, we will try to predict the body mass of a penguins given other measurement and whether or not a penguin is a male or female."
   ]
  },
  {
   "cell_type": "code",
   "execution_count": null,
   "id": "d101293d-b63c-49b2-a753-9f1505590529",
   "metadata": {},
   "outputs": [],
   "source": [
    "target_name = \"Body Mass (g)\"\n",
    "X, y = data.drop(columns=target_name), data[target_name]"
   ]
  },
  {
   "cell_type": "code",
   "execution_count": null,
   "id": "2d1e2627-5b56-464d-b88c-34e02b11eadb",
   "metadata": {},
   "outputs": [],
   "source": [
    "import sklearn\n",
    "sklearn.set_config(display=\"diagram\")"
   ]
  },
  {
   "cell_type": "markdown",
   "id": "01dd6215-bb51-4ca7-83fd-2b6146198c6d",
   "metadata": {},
   "source": [
    "In this regard, the \"Sex\" of the penguin is a categorical variable and we will need to encode it. We will use a one-hot encoder for such processing."
   ]
  },
  {
   "cell_type": "code",
   "execution_count": null,
   "id": "9350d240-bf24-408b-9bae-dcf1f20ed981",
   "metadata": {},
   "outputs": [],
   "source": [
    "from sklearn.preprocessing import OneHotEncoder\n",
    "from sklearn.compose import make_column_selector as selector\n",
    "from sklearn.compose import make_column_transformer\n",
    "\n",
    "preprocessor = make_column_transformer(\n",
    "    (OneHotEncoder(handle_unknown=\"ignore\"), selector(dtype_include=object)),\n",
    "    remainder=\"passthrough\",\n",
    "    verbose_feature_names_out=False,  # to be less verbose in the feature names\n",
    ")\n",
    "preprocessor"
   ]
  },
  {
   "cell_type": "markdown",
   "id": "2eabe3d5-7f0e-415f-9032-6422bb7f1340",
   "metadata": {},
   "source": [
    "We will use a `RidgeCV` model regarding the modeling between the features and the target."
   ]
  },
  {
   "cell_type": "code",
   "execution_count": null,
   "id": "e8912953-0bb9-44f9-8bec-037a0f30bd29",
   "metadata": {},
   "outputs": [],
   "source": [
    "import numpy as np\n",
    "from sklearn.pipeline import make_pipeline\n",
    "from sklearn.linear_model import RidgeCV\n",
    "\n",
    "alphas = np.logspace(-3, 3, num=100)\n",
    "model = make_pipeline(\n",
    "    preprocessor, RidgeCV(alphas=alphas)\n",
    ")\n",
    "model"
   ]
  },
  {
   "cell_type": "markdown",
   "id": "30a1fce6-1018-4457-ab92-a6813eb19f8b",
   "metadata": {},
   "source": [
    "## Evaluate your model"
   ]
  },
  {
   "cell_type": "markdown",
   "id": "22c5f9a6-d0bb-4d2e-8c6b-e2d04a3a0af4",
   "metadata": {},
   "source": [
    "Before to do anything, be aware that any \"interpretation\" will be done on the model trained and not the data generative process. If your model preforms poorly, you can still inspect it. However, the interpretation will not be linked to the original dataset since the model did not succeed to model properly these data.\n",
    "\n",
    "Thus, an important step is to have an idea of the model accuracy. Let's perform a cross-validation to have an idea on the statistical model performance."
   ]
  },
  {
   "cell_type": "code",
   "execution_count": null,
   "id": "4c413930-d9db-4721-bc39-59b61bd3c019",
   "metadata": {},
   "outputs": [],
   "source": [
    "import pandas as pd\n",
    "from sklearn.model_selection import cross_validate, RepeatedKFold\n",
    "\n",
    "cv = RepeatedKFold(n_repeats=30, n_splits=5, random_state=0)\n",
    "cv_results = cross_validate(\n",
    "    model, X, y, cv=cv,\n",
    "    return_estimator=True, return_train_score=True,\n",
    "    n_jobs=-1,\n",
    ")\n",
    "cv_results = pd.DataFrame(cv_results)"
   ]
  },
  {
   "cell_type": "code",
   "execution_count": null,
   "id": "647fc7c7-0591-40e8-ae0f-d12efafece95",
   "metadata": {},
   "outputs": [],
   "source": [
    "import seaborn as sns\n",
    "sns.set_context(\"poster\")"
   ]
  },
  {
   "cell_type": "code",
   "execution_count": null,
   "id": "9c91c492-f49f-4a31-8a98-fa8e3b415662",
   "metadata": {},
   "outputs": [],
   "source": [
    "ax = cv_results[[\"train_score\", \"test_score\"]].plot.hist(bins=30, alpha=0.8)\n",
    "ax.set_xlim([0, 1])\n",
    "_ = ax.legend(loc=\"upper left\")"
   ]
  },
  {
   "cell_type": "markdown",
   "id": "dcaa7991-6e75-4cc9-9653-b5784dabb859",
   "metadata": {},
   "source": [
    "Good news, it seems that we get a reasonable score. Our model is capable of modeling the provided dataset.\n",
    "\n",
    "Since we stored the models trained and tested on each cross-validation fold, we can now check their coefficients."
   ]
  },
  {
   "cell_type": "markdown",
   "id": "2b37c6ef-647c-4cfd-9600-09e7ccfba6e3",
   "metadata": {},
   "source": [
    "<div class=\"alert alert-success\">\n",
    "    <p><b>EXERCISE</b>:</p>\n",
    "    Make a box plot of the coefficients the different models.\n",
    "</div>"
   ]
  },
  {
   "cell_type": "code",
   "execution_count": null,
   "id": "dff24ac7-32a6-4fdf-8c3b-e9eb9beeb41a",
   "metadata": {},
   "outputs": [],
   "source": [
    "# %load solutions/solution_01.py"
   ]
  },
  {
   "cell_type": "markdown",
   "id": "ac94d000-d5f1-4ae3-94a9-51929869e71c",
   "metadata": {},
   "source": [
    "By storing those during the cross-validation, we will have an information regarding the variability of these coefficients."
   ]
  },
  {
   "cell_type": "code",
   "execution_count": null,
   "id": "7bf5a61b-576b-43a6-935a-97ab920abdf6",
   "metadata": {},
   "outputs": [],
   "source": [
    "# %load solutions/solution_02.py"
   ]
  },
  {
   "cell_type": "markdown",
   "id": "f6e050ee-eba4-45dd-846f-3108624e7253",
   "metadata": {},
   "source": [
    "## Sign of the coefficients"
   ]
  },
  {
   "cell_type": "markdown",
   "id": "bf33935c-b667-44c3-998e-85a58c610cf5",
   "metadata": {},
   "source": [
    "A positive coefficient tell us that when their is an increase of the feature value, then their is an increase of the target value."
   ]
  },
  {
   "cell_type": "markdown",
   "id": "60b74517-a584-4fd5-bd04-edd555b7f8a9",
   "metadata": {},
   "source": [
    "<div class=\"alert alert-success\">\n",
    "    <p><b>QUESTION</b>:</p>\n",
    "    Why is the coefficient associated to <tt>Culmen Depth (mm)</tt> negative? Does the body mass of the penguins decreases with the depth of their culmen?\n",
    "</div>"
   ]
  },
  {
   "cell_type": "markdown",
   "id": "a632e313-f4b7-47a6-bc7a-3dce45b47bde",
   "metadata": {},
   "source": [
    "The coefficients of a linear model are a conditional association: they quantify the variation of a the output (the body mass) when the given feature is varied, keeping all other features constant. We should not interpret them as a marginal association, characterizing the link between the two quantities ignoring all the rest."
   ]
  },
  {
   "cell_type": "markdown",
   "id": "ef30bd4f-63bb-4f7f-a375-38b17c14229c",
   "metadata": {},
   "source": [
    "## Effect of correlated features"
   ]
  },
  {
   "cell_type": "markdown",
   "id": "5cf517ec-f238-4534-adde-11a1fd36de9b",
   "metadata": {},
   "source": [
    "In the above plot, we can as well think that our current encoding will create two features that are exactly anticorrelated: male and female penguins. This will have an impact on the coefficient as well. You might detect correlated feature by looking at the variation. Indeed, since only one of the feature is required, the model could use one of the two features to model the problem and depending of the CV fold, it would change.\n",
    "\n",
    "Let's see what would be the effect on removing one of the sex category. In addition, we also have an issue with the `\".\"` category."
   ]
  },
  {
   "cell_type": "markdown",
   "id": "a3bd95a2-7153-4f42-b25a-2d975c5c0d66",
   "metadata": {},
   "source": [
    "<div class=\"alert alert-success\">\n",
    "    <p><b>EXERCISE</b>:</p>\n",
    "    <ul>\n",
    "        <li>Remove the sample containg the category <tt>\".\"</tt>.</li>\n",
    "        <li>Change the preprocessor to drop one of the <tt>\"Sex\"</tt> column in the <tt>OneHotEncoder</tt>.</li>\n",
    "        <li>Plot the coefficients.</li>\n",
    "    </ul>\n",
    "    What is the effect on the coefficients?\n",
    "</div>"
   ]
  },
  {
   "cell_type": "code",
   "execution_count": null,
   "id": "e53e50c8-e0f7-4601-9843-94e9b8482882",
   "metadata": {},
   "outputs": [],
   "source": [
    "# %load solutions/solution_03.py"
   ]
  },
  {
   "cell_type": "markdown",
   "id": "4ac2fe87-129e-4833-b1d3-a020d9ddc99c",
   "metadata": {},
   "source": [
    "We see that we have 1 sample. We will remove it from the database."
   ]
  },
  {
   "cell_type": "code",
   "execution_count": null,
   "id": "5664e0d1-0911-4e66-9946-50e09d9ebd3a",
   "metadata": {},
   "outputs": [],
   "source": [
    "# %load solutions/solution_04.py"
   ]
  },
  {
   "cell_type": "markdown",
   "id": "9c22807f-fb10-464d-9c08-fb51a337ecdc",
   "metadata": {},
   "source": [
    "Now, we will modify our preprocessor such that we drop one of the column."
   ]
  },
  {
   "cell_type": "code",
   "execution_count": null,
   "id": "e9ade796-7e1a-475f-b099-568113fd0530",
   "metadata": {},
   "outputs": [],
   "source": [
    "# %load solutions/solution_05.py"
   ]
  },
  {
   "cell_type": "code",
   "execution_count": null,
   "id": "4e8a4a57-d5c3-4ba5-9476-86a38d5ce421",
   "metadata": {},
   "outputs": [],
   "source": [
    "# %load solutions/solution_06.py"
   ]
  },
  {
   "cell_type": "markdown",
   "id": "ff20782b-3a89-4ad5-93d8-2fd925be103a",
   "metadata": {},
   "source": [
    "Let's have first a quick look that our overall results did not drop."
   ]
  },
  {
   "cell_type": "code",
   "execution_count": null,
   "id": "60029073-73bd-4b42-882c-44d3bb111a15",
   "metadata": {},
   "outputs": [],
   "source": [
    "# %load solutions/solution_07.py"
   ]
  },
  {
   "cell_type": "code",
   "execution_count": null,
   "id": "e5ad2dc9-f892-4c3b-b9e5-85624ed9011b",
   "metadata": {},
   "outputs": [],
   "source": [
    "# %load solutions/solution_08.py"
   ]
  },
  {
   "cell_type": "markdown",
   "id": "de1085d6-36c6-477d-85cb-c1f849fdd791",
   "metadata": {},
   "source": [
    "Let's inspect our coefficients now."
   ]
  },
  {
   "cell_type": "code",
   "execution_count": null,
   "id": "2b259d98-404a-49a5-b77e-8185944ef692",
   "metadata": {},
   "outputs": [],
   "source": [
    "# %load solutions/solution_09.py"
   ]
  },
  {
   "cell_type": "code",
   "execution_count": null,
   "id": "74c6bf94-55d4-40cb-ac88-4ec72582989e",
   "metadata": {},
   "outputs": [],
   "source": [
    "# %load solutions/solution_10.py"
   ]
  },
  {
   "cell_type": "markdown",
   "id": "ffe3282a-70b5-40f7-ad07-78a9f1cd8678",
   "metadata": {},
   "source": [
    "We observe that we have much less coefficients variation. In addition, we observe that the correlated features has an impact on all features."
   ]
  },
  {
   "cell_type": "markdown",
   "id": "920e2f93-661b-4a6b-91d4-a5df48ffb6cd",
   "metadata": {},
   "source": [
    "## Scale of coefficients"
   ]
  },
  {
   "cell_type": "code",
   "execution_count": null,
   "id": "8e8abea7-e664-43ff-be88-c40c38d8cf2e",
   "metadata": {},
   "outputs": [],
   "source": [
    "coef.mean()"
   ]
  },
  {
   "cell_type": "markdown",
   "id": "05407981-e4f5-4cf4-8528-69de262f7c13",
   "metadata": {},
   "source": [
    "The value of the coefficients are expressed in their original unit. The flipper length coefficient value is expressed in g per mm. Increasing the flipper length of 1 mm will increase the body mass of 39 g. However, if features are not in the same unit, we cannot compare betweem them. One need to rescale the coefficients to have a relative comparison between them."
   ]
  },
  {
   "cell_type": "code",
   "execution_count": null,
   "id": "9244e3bc-f9da-43dd-b404-5c27dc3c9532",
   "metadata": {},
   "outputs": [],
   "source": [
    "X_transformed = pd.DataFrame(\n",
    "    preprocessor.fit_transform(X),\n",
    "    columns=preprocessor.get_feature_names_out(X.columns),\n",
    ")\n",
    "\n",
    "X_transformed.std(axis=0).plot(kind='barh', figsize=(9, 7))\n",
    "plt.title('Features std. dev.')"
   ]
  },
  {
   "cell_type": "markdown",
   "id": "e9ed803f-6345-4b1d-80e8-624f6190952c",
   "metadata": {},
   "source": [
    "So the right way to do so is to rescale the data during `fit`."
   ]
  },
  {
   "cell_type": "code",
   "execution_count": null,
   "id": "e3631dc1-624b-4b65-9f9a-dd6952018296",
   "metadata": {},
   "outputs": [],
   "source": [
    "from sklearn.preprocessing import StandardScaler\n",
    "\n",
    "preprocessor = make_column_transformer(\n",
    "    (OneHotEncoder(drop=\"if_binary\", handle_unknown=\"ignore\"), selector(dtype_include=object)),\n",
    "    (StandardScaler(), selector(dtype_exclude=object)),\n",
    "    verbose_feature_names_out=False,  # to be less verbose in the feature names\n",
    ")\n",
    "preprocessor"
   ]
  },
  {
   "cell_type": "code",
   "execution_count": null,
   "id": "fc190f31-7ae0-4440-86e3-08292bbd3884",
   "metadata": {},
   "outputs": [],
   "source": [
    "import numpy as np\n",
    "from sklearn.pipeline import make_pipeline\n",
    "from sklearn.linear_model import RidgeCV\n",
    "\n",
    "alphas = np.logspace(-3, 3, num=100)\n",
    "model = make_pipeline(\n",
    "    preprocessor, RidgeCV(alphas=alphas)\n",
    ")\n",
    "model"
   ]
  },
  {
   "cell_type": "code",
   "execution_count": null,
   "id": "237431bf-0c7b-46e3-a201-43d32abefb65",
   "metadata": {},
   "outputs": [],
   "source": [
    "cv_results = cross_validate(\n",
    "    model, X, y, cv=cv,\n",
    "    return_estimator=True, return_train_score=True,\n",
    "    n_jobs=-1,\n",
    ")\n",
    "cv_results = pd.DataFrame(cv_results)"
   ]
  },
  {
   "cell_type": "code",
   "execution_count": null,
   "id": "8765a396-cbb2-4335-9712-f9543fc20484",
   "metadata": {},
   "outputs": [],
   "source": [
    "ax = cv_results[[\"train_score\", \"test_score\"]].plot.hist(bins=30, alpha=0.8)\n",
    "ax.set_xlim([0, 1])\n",
    "_ = ax.legend(loc=\"upper left\")"
   ]
  },
  {
   "cell_type": "markdown",
   "id": "b12df7ec-88c1-41c4-8c30-310bedafdec9",
   "metadata": {},
   "source": [
    "Let's inspect our coefficients now."
   ]
  },
  {
   "cell_type": "code",
   "execution_count": null,
   "id": "2e948d27-b52b-4aa9-b725-7e20b12503eb",
   "metadata": {},
   "outputs": [],
   "source": [
    "preprocessor.fit(X)\n",
    "coef = [estimator[-1].coef_ for estimator in cv_results[\"estimator\"]]\n",
    "coef = pd.DataFrame(coef, columns=preprocessor.get_feature_names_out(X.columns))"
   ]
  },
  {
   "cell_type": "code",
   "execution_count": null,
   "id": "46e63640-79c8-4bbe-8aa5-63576cd07dc0",
   "metadata": {},
   "outputs": [],
   "source": [
    "_, ax = plt.subplots(figsize=(8, 6))\n",
    "ax = sns.boxplot(data=coef, orient='h', ax=ax, color=\"tab:blue\")\n",
    "ax.set_title(\"Coefficients during cross-validation\")\n",
    "_ = ax.vlines(0, 0, len(X.columns), linestyle=\"--\", alpha=0.4, color=\"black\")"
   ]
  },
  {
   "cell_type": "markdown",
   "id": "09563f4a-15ea-4e5a-ae16-8ae5f24d2543",
   "metadata": {},
   "source": [
    "Now that the coefficients have been scaled, we can safely compare them."
   ]
  },
  {
   "cell_type": "markdown",
   "id": "66f276df-a115-45be-81fd-e25f5e12580a",
   "metadata": {},
   "source": [
    "## Impact of the regularization on the coefficients"
   ]
  },
  {
   "cell_type": "markdown",
   "id": "047a06c5-d678-42b9-a7d7-74fe90c4de9d",
   "metadata": {},
   "source": [
    "We already mentioned this specificity earlier. One should check the variation of the regularization parameter in the cross-valdiation as well:"
   ]
  },
  {
   "cell_type": "code",
   "execution_count": null,
   "id": "961b1223-7c8a-4d6d-b2ed-704e312de379",
   "metadata": {},
   "outputs": [],
   "source": [
    "alpha = pd.Series(\n",
    "    [estimator[-1].alpha_ for estimator in cv_results[\"estimator\"]]\n",
    ")\n",
    "alpha"
   ]
  },
  {
   "cell_type": "code",
   "execution_count": null,
   "id": "86fd66c6-3ee8-43c0-9481-7a2b91e03020",
   "metadata": {},
   "outputs": [],
   "source": [
    "alpha.mean(), alpha.std()"
   ]
  },
  {
   "cell_type": "markdown",
   "id": "f1293aae-dfa7-444f-97fa-e3d92bda5a06",
   "metadata": {},
   "source": [
    "Here, we see that we have a little variation and we have a single type of models that work well. However, since regularization will shrink coefficients zeros, you need to ensure to look at this specific aspect. Let's have a look at forcing the regualarization strength in the ridge model."
   ]
  },
  {
   "cell_type": "markdown",
   "id": "762a90d5-c31b-4b52-8b82-03040a69d9ec",
   "metadata": {},
   "source": [
    "<div class=\"alert alert-success\">\n",
    "    <p><b>EXERCISE</b>:</p>\n",
    "    <ul>\n",
    "        <li>Run two pipelines by changing <tt>alpha</tt> from 1 to 100,000.</li>\n",
    "        <li>Plot the coefficients.</li>\n",
    "    </ul>\n",
    "    What is the effect of the regularization parameter on the coefficients.\n",
    "</div>"
   ]
  },
  {
   "cell_type": "code",
   "execution_count": null,
   "id": "d83907ad-21f1-43e6-8f0c-b23f458c7903",
   "metadata": {},
   "outputs": [],
   "source": [
    "# %load solutions/solution_11.py"
   ]
  },
  {
   "cell_type": "code",
   "execution_count": null,
   "id": "e8d49fef-7fce-4219-a501-963072c2efdb",
   "metadata": {},
   "outputs": [],
   "source": [
    "# %load solutions/solution_12.py"
   ]
  },
  {
   "cell_type": "markdown",
   "id": "af761c98-0b83-4524-87ca-323de1b7430b",
   "metadata": {},
   "source": [
    "Let's inspect our coefficients now."
   ]
  },
  {
   "cell_type": "code",
   "execution_count": null,
   "id": "737364fa-0fd6-44aa-aa26-073c22ca648e",
   "metadata": {},
   "outputs": [],
   "source": [
    "# %load solutions/solution_13.py"
   ]
  },
  {
   "cell_type": "code",
   "execution_count": null,
   "id": "2dd8c7c2-c439-4b7e-bf03-624c1f732ba1",
   "metadata": {},
   "outputs": [],
   "source": [
    "# %load solutions/solution_14.py"
   ]
  },
  {
   "cell_type": "markdown",
   "id": "b5ec4f50-ebac-4fed-af5b-47394df0b8e7",
   "metadata": {},
   "source": [
    "Now, let increase the strength to 100,000."
   ]
  },
  {
   "cell_type": "code",
   "execution_count": null,
   "id": "2768c283-ff70-4896-9101-1db4f46713c0",
   "metadata": {},
   "outputs": [],
   "source": [
    "# %load solutions/solution_15.py"
   ]
  },
  {
   "cell_type": "code",
   "execution_count": null,
   "id": "9dc2cdb5-2957-46e3-ba7b-624308a97880",
   "metadata": {},
   "outputs": [],
   "source": [
    "# %load solutions/solution_16.py"
   ]
  },
  {
   "cell_type": "markdown",
   "id": "271aa39a-aae0-4fba-9ed2-00c449c39081",
   "metadata": {},
   "source": [
    "Let's inspect our coefficients now."
   ]
  },
  {
   "cell_type": "code",
   "execution_count": null,
   "id": "f5e09f0f-7ebb-420a-8c46-6c24fef52c53",
   "metadata": {},
   "outputs": [],
   "source": [
    "# %load solutions/solution_17.py"
   ]
  },
  {
   "cell_type": "code",
   "execution_count": null,
   "id": "6371b93e-ffa7-41bf-93f5-fbc470c70389",
   "metadata": {},
   "outputs": [],
   "source": [
    "# %load solutions/solution_18.py"
   ]
  },
  {
   "cell_type": "markdown",
   "id": "a59f0d3c-95f2-444b-a217-d16a75ed72a6",
   "metadata": {},
   "source": [
    "We observe that the coefficients are shrinked."
   ]
  }
 ],
 "metadata": {
  "kernelspec": {
   "display_name": "Python 3 (ipykernel)",
   "language": "python",
   "name": "python3"
  },
  "language_info": {
   "codemirror_mode": {
    "name": "ipython",
    "version": 3
   },
   "file_extension": ".py",
   "mimetype": "text/x-python",
   "name": "python",
   "nbconvert_exporter": "python",
   "pygments_lexer": "ipython3",
   "version": "3.8.12"
  }
 },
 "nbformat": 4,
 "nbformat_minor": 5
}
