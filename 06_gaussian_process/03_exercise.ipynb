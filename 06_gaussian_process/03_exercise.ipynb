{
 "cells": [
  {
   "cell_type": "markdown",
   "id": "105aafd3-613c-4805-9ce8-b6342704d3e5",
   "metadata": {},
   "source": [
    "# Exercice: design your kernel for Gaussian Process"
   ]
  },
  {
   "cell_type": "markdown",
   "id": "2e02fd0d-cc32-4ca7-add5-7351ce1a3647",
   "metadata": {},
   "source": [
    "### Build the dataset\n",
    "\n",
    "We will derive a dataset from the Mauna Loa Observatory that collected air\n",
    "samples. We are interested in estimating the concentration of CO2 and\n",
    "extrapolate it for futher year. First, we load the original dataset available\n",
    "in OpenML."
   ]
  },
  {
   "cell_type": "code",
   "execution_count": null,
   "id": "88c13455-ad3c-45a0-9f8f-16e82a3b5a96",
   "metadata": {},
   "outputs": [],
   "source": [
    "from sklearn.datasets import fetch_openml\n",
    "\n",
    "co2 = fetch_openml(data_id=41187, as_frame=True)\n",
    "co2.frame.head()"
   ]
  },
  {
   "cell_type": "markdown",
   "id": "22b60161-2dd5-4637-971f-0a6168354feb",
   "metadata": {},
   "source": [
    "First, we process the original dataframe to create a date index and select\n",
    "only the CO2 column."
   ]
  },
  {
   "cell_type": "code",
   "execution_count": null,
   "id": "befd94a7-1d49-4983-90f3-7ad079dffb97",
   "metadata": {},
   "outputs": [],
   "source": [
    "import pandas as pd\n",
    "\n",
    "co2_data = co2.frame\n",
    "co2_data[\"date\"] = pd.to_datetime(co2_data[[\"year\", \"month\", \"day\"]])\n",
    "co2_data = co2_data[[\"date\", \"co2\"]].set_index(\"date\")\n",
    "co2_data.head()"
   ]
  },
  {
   "cell_type": "code",
   "execution_count": null,
   "id": "e4914d3b-19b2-4fcd-b654-72b0cc0f259a",
   "metadata": {},
   "outputs": [],
   "source": [
    "co2_data.index.min(), co2_data.index.max()"
   ]
  },
  {
   "cell_type": "markdown",
   "id": "1295c05a-b133-4b21-9dcf-bff86ae39e40",
   "metadata": {},
   "source": [
    "We see that we get CO2 concentration for some days from March, 1958 to\n",
    "December, 2001. We can plot these raw information to have a better\n",
    "understanding."
   ]
  },
  {
   "cell_type": "code",
   "execution_count": null,
   "id": "9dcac728-3e25-4d1e-8d68-53e1225865c7",
   "metadata": {},
   "outputs": [],
   "source": [
    "import seaborn as sns\n",
    "sns.set_context(\"poster\")"
   ]
  },
  {
   "cell_type": "code",
   "execution_count": null,
   "id": "494620f6-3055-4be6-84c3-8fb5fb883dae",
   "metadata": {},
   "outputs": [],
   "source": [
    "import matplotlib.pyplot as plt\n",
    "\n",
    "_, ax = plt.subplots(figsize=(8, 6))\n",
    "co2_data.plot(ax=ax)\n",
    "plt.ylabel(\"CO$_2$ concentration (ppm)\")\n",
    "_ = plt.title(\"Raw air samples measurements from \\nthe Mauna Loa Observatory\")"
   ]
  },
  {
   "cell_type": "markdown",
   "id": "07edeaa5-1e40-4535-b0c9-cd5a6ca1cb5f",
   "metadata": {},
   "source": [
    "We will preprocess the dataset by taking a monthly average and drop month\n",
    "for which no measurements were collected. Such a processing will have an\n",
    "smoothing effect on the data."
   ]
  },
  {
   "cell_type": "code",
   "execution_count": null,
   "id": "d2f7acbc-4a1c-48d3-b0c2-414d6e7f7829",
   "metadata": {},
   "outputs": [],
   "source": [
    "_, ax = plt.subplots(figsize=(8, 6))\n",
    "co2_data = co2_data.resample(\"M\").mean().dropna(axis=\"index\", how=\"any\")\n",
    "co2_data.plot(ax=ax)\n",
    "plt.ylabel(\"Monthly average of CO$_2$ concentration (ppm)\")\n",
    "_ = plt.title(\n",
    "    \"Monthly average of air samples measurements\\n\" \"from the Mauna Loa Observatory\"\n",
    ")"
   ]
  },
  {
   "cell_type": "markdown",
   "id": "a71d6843-02ca-40fc-acab-3aa955831cae",
   "metadata": {},
   "source": [
    "The idea in this example will be to predict the CO2 concentration in function\n",
    "of the date. We are as well interested in extrapolating for upcoming year\n",
    "after 2001.\n",
    "\n",
    "As a first step, we will divide the data and the target to estimate. The data\n",
    "being a date, we will convert it into a numeric."
   ]
  },
  {
   "cell_type": "code",
   "execution_count": null,
   "id": "d56ed157-792a-47eb-aba9-7016d28d649a",
   "metadata": {},
   "outputs": [],
   "source": [
    "X = (co2_data.index.year + co2_data.index.month / 12).to_numpy().reshape(-1, 1)\n",
    "y = co2_data[\"co2\"].to_numpy()"
   ]
  },
  {
   "cell_type": "markdown",
   "id": "eaa52051-3019-4da5-becf-7b15e7447b7a",
   "metadata": {},
   "source": [
    "<div class=\"alert alert-success\">\n",
    "    <p><b>EXERCISE</b>:</p>\n",
    "    Design a suitable kernel that could be used in a Gaussian Process to fit the training data. Extrapolate for future year up to 2025.\n",
    "</div>"
   ]
  },
  {
   "cell_type": "code",
   "execution_count": null,
   "id": "2c4e1be8-9ded-4449-98b1-6d4a1e3bef25",
   "metadata": {},
   "outputs": [],
   "source": []
  },
  {
   "cell_type": "markdown",
   "id": "06c7fd60-56c7-4aaa-8cae-93b7bb62c1a6",
   "metadata": {},
   "source": [
    "## Solution\n",
    "\n",
    "### Design the proper kernel\n",
    "\n",
    "To design the kernel to use with our Gaussian process, we can make some\n",
    "assumption regarding the data at hand. We observe that they have several\n",
    "characteristics: we see a long term rising trend, a pronounced seasonal\n",
    "variation and some smaller irregularities. We can use different appropriate\n",
    "kernel that would capture these features.\n",
    "\n",
    "First, the long term rising trend could be fitted using a radial basis\n",
    "function (RBF) kernel with a large length-scale parameter. The RBF kernel\n",
    "with a large length-scale enforces this component to be smooth. An trending\n",
    "increase is not enforced as to give a degree of freedom to our model. The\n",
    "specific length-scale and the amplitude are free hyperparameters."
   ]
  },
  {
   "cell_type": "code",
   "execution_count": null,
   "id": "07e669d6-9962-4edd-8c0c-74105f9722fc",
   "metadata": {},
   "outputs": [],
   "source": [
    "from sklearn.gaussian_process.kernels import RBF\n",
    "\n",
    "long_term_trend_kernel = 50.0 ** 2 * RBF(length_scale=50.0)"
   ]
  },
  {
   "cell_type": "markdown",
   "id": "77d9610c-0c26-4db4-bb4b-6adb5669509f",
   "metadata": {},
   "source": [
    "The seasonal variation is explained by the periodic exponential sine squared\n",
    "kernel with a fixed periodicity of 1 year. The length-scale of this periodic\n",
    "component, controlling its smoothness, is a free parameter. In order to allow\n",
    "decaying away from exact periodicity, the product with an RBF kernel is\n",
    "taken. The length-scale of this RBF component controls the decay time and is\n",
    "a further free parameter. This type of kernel is also known as locally\n",
    "periodic kernel."
   ]
  },
  {
   "cell_type": "code",
   "execution_count": null,
   "id": "1f763187-d044-45f6-87e8-23650b5186e4",
   "metadata": {},
   "outputs": [],
   "source": [
    "from sklearn.gaussian_process.kernels import ExpSineSquared\n",
    "\n",
    "seasonal_kernel = (\n",
    "    2.0 ** 2\n",
    "    * RBF(length_scale=100.0)\n",
    "    * ExpSineSquared(length_scale=1.0, periodicity=1.0, periodicity_bounds=\"fixed\")\n",
    ")"
   ]
  },
  {
   "cell_type": "markdown",
   "id": "317e1132-6843-4b57-90e6-0b54cb639e48",
   "metadata": {},
   "source": [
    "The small irregularities are to be explained by a rational quadratic kernel\n",
    "component, whose length-scale and alpha parameter, which quantifies the\n",
    "diffuseness of the length-scales, are to be determined. A rational quadratic\n",
    "kernel is equivalent to an RBF kernel with several length-scale and will\n",
    "better accommodate the different irregularities."
   ]
  },
  {
   "cell_type": "code",
   "execution_count": null,
   "id": "7f7365c2-80be-4a19-8c6a-65986600700b",
   "metadata": {},
   "outputs": [],
   "source": [
    "from sklearn.gaussian_process.kernels import RationalQuadratic\n",
    "\n",
    "irregularities_kernel = 0.5 ** 2 * RationalQuadratic(length_scale=1.0, alpha=1.0)"
   ]
  },
  {
   "cell_type": "markdown",
   "id": "57b17330-404d-4389-8c8b-943e7582623d",
   "metadata": {},
   "source": [
    "Finally, the noise in the dataset can be accounted with a kernel consisting\n",
    "of an RBF kernel contribution, which shall explain the correlated noise\n",
    "components such as local weather phenomena, and a white kernel contribution\n",
    "for the white noise. The relative amplitudes and the RBF's length scale are\n",
    "further free parameters."
   ]
  },
  {
   "cell_type": "code",
   "execution_count": null,
   "id": "623fb3b7-b82c-49a9-a38e-0fe7afa0c239",
   "metadata": {},
   "outputs": [],
   "source": [
    "from sklearn.gaussian_process.kernels import WhiteKernel\n",
    "\n",
    "noise_kernel = 0.1 ** 2 * RBF(length_scale=0.1) + WhiteKernel(\n",
    "    noise_level=0.1 ** 2, noise_level_bounds=(1e-5, 1e5)\n",
    ")"
   ]
  },
  {
   "cell_type": "code",
   "execution_count": null,
   "id": "8147ad3b-3461-43f1-a54f-04e44d15b1bf",
   "metadata": {},
   "outputs": [],
   "source": [
    "# Thus, our final kernel is an addition of all previous kernel.\n",
    "co2_kernel = (\n",
    "    long_term_trend_kernel + seasonal_kernel + irregularities_kernel + noise_kernel\n",
    ")\n",
    "co2_kernel"
   ]
  },
  {
   "cell_type": "markdown",
   "id": "94c7bfee-15f4-4138-ae06-77b6b15e0422",
   "metadata": {},
   "source": [
    "### Model fitting and extrapolation\n",
    "\n",
    "Now, we are ready to use a Gaussian process regressor and fit the available\n",
    "data. To follow the example from the literature, we will subtract the mean\n",
    "from the target. We could have used `normalize_y=True`. However, doing so\n",
    "would have also scaled the target (dividing `y` by its standard deviation).\n",
    "Thus, the hyperparameters of the different kernel would have had different\n",
    "meaning since they would not have been expressed in ppm."
   ]
  },
  {
   "cell_type": "code",
   "execution_count": null,
   "id": "f31276f1-df62-4144-b469-9ecade1fe797",
   "metadata": {},
   "outputs": [],
   "source": [
    "from sklearn.gaussian_process import GaussianProcessRegressor\n",
    "\n",
    "y_mean = y.mean()\n",
    "gaussian_process = GaussianProcessRegressor(kernel=co2_kernel, normalize_y=False)\n",
    "gaussian_process.fit(X, y - y_mean)"
   ]
  },
  {
   "cell_type": "markdown",
   "id": "fed4ec5c-c582-48b8-8009-e64e9e70180b",
   "metadata": {},
   "source": [
    "Now, we will use the Gaussian process to predict on:\n",
    "\n",
    "- training data to inspect the goodness of fit;\n",
    "- future data to see the extrapolation done by the model.\n",
    "\n",
    "Thus, we create synthetic data from 1958 to the current month. In addition,\n",
    "we need to add the subtracted mean computed during training."
   ]
  },
  {
   "cell_type": "code",
   "execution_count": null,
   "id": "2deac732-e44d-4146-8783-aa6bfc339a44",
   "metadata": {},
   "outputs": [],
   "source": [
    "import datetime\n",
    "import numpy as np\n",
    "\n",
    "today = datetime.datetime.now()\n",
    "current_month = today.year + today.month / 12\n",
    "X_test = np.linspace(start=1958, stop=current_month, num=1_000).reshape(-1, 1)\n",
    "mean_y_pred, std_y_pred = gaussian_process.predict(X_test, return_std=True)\n",
    "mean_y_pred += y_mean"
   ]
  },
  {
   "cell_type": "code",
   "execution_count": null,
   "id": "9549d44a-80ba-4091-b44f-32cadd376cb8",
   "metadata": {},
   "outputs": [],
   "source": [
    "_, ax = plt.subplots(figsize=(8, 6))\n",
    "ax.plot(X, y, color=\"black\", linestyle=\"dashed\", label=\"Measurements\")\n",
    "ax.plot(X_test, mean_y_pred, color=\"tab:blue\", alpha=0.4, label=\"Gaussian process\")\n",
    "ax.fill_between(\n",
    "    X_test.ravel(),\n",
    "    mean_y_pred - std_y_pred,\n",
    "    mean_y_pred + std_y_pred,\n",
    "    color=\"tab:blue\",\n",
    "    alpha=0.2,\n",
    ")\n",
    "ax.legend()\n",
    "ax.set_xlabel(\"Year\")\n",
    "ax.set_ylabel(\"Monthly average of CO$_2$ concentration (ppm)\")\n",
    "_ = ax.set_title(\n",
    "    \"Monthly average of air samples measurements\\n\" \"from the Mauna Loa Observatory\"\n",
    ")"
   ]
  },
  {
   "cell_type": "markdown",
   "id": "31aadba9-a668-4ad8-bea2-c70cb95a67f0",
   "metadata": {},
   "source": [
    "Our fitted model is capable to fit previous data properly and extrapolate to\n",
    "future year with confidence.\n",
    "\n",
    "### Interpretation of kernel hyperparameters\n",
    "\n",
    "Now, we can have a look at the hyperparameters of the kernel."
   ]
  },
  {
   "cell_type": "code",
   "execution_count": null,
   "id": "d4704f00-e4b2-417f-8e54-eb4a42ee2fad",
   "metadata": {},
   "outputs": [],
   "source": [
    "gaussian_process.kernel_"
   ]
  },
  {
   "cell_type": "markdown",
   "id": "2fe01759-d82f-4acd-8d1c-fc56741396b7",
   "metadata": {},
   "source": [
    "Thus, most of the target signal, with the mean substracted, is explained by a\n",
    "long-term rising trend for ~45 ppm and a length-scale of ~52 years. The\n",
    "periodic component has an amplitude of ~2.6ppm, a decay time of ~90 years and\n",
    "a length-scale of ~1.5. The long decay time indicates that we have a\n",
    "component very close to a seasonal periodicity. The correlated noise has an\n",
    "amplitude of ~0.2 ppm with a length scale of ~0.12 years and a white-noise\n",
    "contribution of ~0.04 ppm. Thus, the overall noise level is very small,\n",
    "indicating that the data can be very well explained by the model."
   ]
  }
 ],
 "metadata": {
  "kernelspec": {
   "display_name": "Python 3 (ipykernel)",
   "language": "python",
   "name": "python3"
  },
  "language_info": {
   "codemirror_mode": {
    "name": "ipython",
    "version": 3
   },
   "file_extension": ".py",
   "mimetype": "text/x-python",
   "name": "python",
   "nbconvert_exporter": "python",
   "pygments_lexer": "ipython3",
   "version": "3.8.12"
  }
 },
 "nbformat": 4,
 "nbformat_minor": 5
}
