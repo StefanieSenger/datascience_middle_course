{
 "cells": [
  {
   "cell_type": "markdown",
   "id": "d0709fa4-db18-4310-9d21-3666fd78583f",
   "metadata": {},
   "source": [
    "# Linear models - Preprocessing"
   ]
  },
  {
   "cell_type": "markdown",
   "id": "2e327e94-88fe-44f1-a11d-cac727ebf1f9",
   "metadata": {},
   "source": [
    "In this notebook, we will discuss the importance of preprocessing in linear models, especially when the solver used rely on gradient-based optimization method."
   ]
  },
  {
   "cell_type": "code",
   "execution_count": 1,
   "id": "355d294d-691d-4035-bca3-c088d87fa0b7",
   "metadata": {},
   "outputs": [],
   "source": [
    "# temporary fix to avoid spurious warning raised in scikit-learn 1.0.0\n",
    "# it will be solved in scikit-learn 1.0.1\n",
    "import warnings\n",
    "warnings.filterwarnings(\"ignore\", message=\"X has feature names.*\")\n",
    "warnings.filterwarnings(\"ignore\", message=\"X does not have valid feature names.*\")"
   ]
  },
  {
   "cell_type": "markdown",
   "id": "9c1c9540-ddb1-48b1-a81a-c20b811b74f6",
   "metadata": {},
   "source": [
    "## Importance of data scaling"
   ]
  },
  {
   "cell_type": "markdown",
   "id": "38881c73-d8b0-457d-a737-79089791f6d3",
   "metadata": {},
   "source": [
    "Since we would like to demonstrate issue related to gradient-based optimization solver, we will need to use a linear model that does not rely on an algorithm that provide a closed-form solution. Such algorithm is `LogisticRegression` for instance (in the contrary to `LinearRegression` or `Ridge`).\n",
    "\n",
    "Thus, let's start by loading our penguins dataset to distinguish the different species."
   ]
  },
  {
   "cell_type": "code",
   "execution_count": 2,
   "id": "6a595eda",
   "metadata": {},
   "outputs": [],
   "source": [
    "import pandas as pd\n",
    "\n",
    "data = pd.read_csv(\"../datasets/penguins_classification.csv\")\n",
    "target_name = \"Species\"\n",
    "X = data.drop(columns=target_name)\n",
    "y = data[target_name]"
   ]
  },
  {
   "cell_type": "markdown",
   "id": "5826886d-8733-4cc4-8443-e16d0c6fa440",
   "metadata": {},
   "source": [
    "Up to now, we did not bother much about evaluating our model: we used a single dataset just to illustrate some fitting property of the different estimators. However, the preprocessing that we are going to use need to be applied in a specific manner depending if one is training or testing a model. Therefore, we will start by using a training and testing set."
   ]
  },
  {
   "cell_type": "code",
   "execution_count": 3,
   "id": "cb2c7241",
   "metadata": {},
   "outputs": [
    {
     "data": {
      "text/html": [
       "<div>\n",
       "<style scoped>\n",
       "    .dataframe tbody tr th:only-of-type {\n",
       "        vertical-align: middle;\n",
       "    }\n",
       "\n",
       "    .dataframe tbody tr th {\n",
       "        vertical-align: top;\n",
       "    }\n",
       "\n",
       "    .dataframe thead th {\n",
       "        text-align: right;\n",
       "    }\n",
       "</style>\n",
       "<table border=\"1\" class=\"dataframe\">\n",
       "  <thead>\n",
       "    <tr style=\"text-align: right;\">\n",
       "      <th></th>\n",
       "      <th>Culmen Length (mm)</th>\n",
       "      <th>Culmen Depth (mm)</th>\n",
       "    </tr>\n",
       "  </thead>\n",
       "  <tbody>\n",
       "    <tr>\n",
       "      <th>306</th>\n",
       "      <td>42.5</td>\n",
       "      <td>16.7</td>\n",
       "    </tr>\n",
       "    <tr>\n",
       "      <th>101</th>\n",
       "      <td>37.7</td>\n",
       "      <td>16.0</td>\n",
       "    </tr>\n",
       "    <tr>\n",
       "      <th>153</th>\n",
       "      <td>48.7</td>\n",
       "      <td>14.1</td>\n",
       "    </tr>\n",
       "    <tr>\n",
       "      <th>341</th>\n",
       "      <td>50.2</td>\n",
       "      <td>18.7</td>\n",
       "    </tr>\n",
       "    <tr>\n",
       "      <th>81</th>\n",
       "      <td>36.7</td>\n",
       "      <td>18.8</td>\n",
       "    </tr>\n",
       "  </tbody>\n",
       "</table>\n",
       "</div>"
      ],
      "text/plain": [
       "     Culmen Length (mm)  Culmen Depth (mm)\n",
       "306                42.5               16.7\n",
       "101                37.7               16.0\n",
       "153                48.7               14.1\n",
       "341                50.2               18.7\n",
       "81                 36.7               18.8"
      ]
     },
     "execution_count": 3,
     "metadata": {},
     "output_type": "execute_result"
    }
   ],
   "source": [
    "from sklearn.model_selection import train_test_split\n",
    "\n",
    "X_train, X_test, y_train, y_test = train_test_split(\n",
    "    X, y, random_state=0\n",
    ")\n",
    "X_train.head()"
   ]
  },
  {
   "cell_type": "markdown",
   "id": "e5e4d50e-10bc-401c-bf5c-40c1ed6a1b6f",
   "metadata": {},
   "source": [
    "Previously, we showed that we could train a `LogisticRegression` model in the following manner."
   ]
  },
  {
   "cell_type": "code",
   "execution_count": 4,
   "id": "15a62475",
   "metadata": {},
   "outputs": [
    {
     "data": {
      "text/plain": [
       "0.9767441860465116"
      ]
     },
     "execution_count": 4,
     "metadata": {},
     "output_type": "execute_result"
    }
   ],
   "source": [
    "from sklearn.linear_model import LogisticRegression\n",
    "\n",
    "model = LogisticRegression()\n",
    "model.fit(X_train, y_train)\n",
    "model.score(X_test, y_test)"
   ]
  },
  {
   "cell_type": "markdown",
   "id": "89018b19-6bbf-4821-b11b-d37e8824ba32",
   "metadata": {},
   "source": [
    "We previously stated that this model is minimizing a specific loss function (log loss). However, we did not mentioned what algorithm was used to find the optimal parameters $\\beta$ that minimize this log loss. We only discuss such details with `LinearRegression` where we used the Normal equation that is a closed-form solution to the least squared minimization.\n",
    "\n",
    "For the `LogisticRegression`, the problem does not have a closed-form solution. Instead, the different algorithms rely on the derivatives of the log loss to find the best parameter. One can check the available algorithm looking at the documentation of the `solver` parameter: https://scikit-learn.org/stable/modules/generated/sklearn.linear_model.LogisticRegression.html\n",
    "\n",
    "All the different solvers rely on derivatives of the log loss, meaning that an iterative algorithm will take place to find the optimal parameters of the model. Therefore, once the `LogisticRegression` is fitted, we can know the number of iteration that an algorithm did to find the optimal parameters."
   ]
  },
  {
   "cell_type": "code",
   "execution_count": 5,
   "id": "297449a1",
   "metadata": {},
   "outputs": [
    {
     "data": {
      "text/plain": [
       "array([74], dtype=int32)"
      ]
     },
     "execution_count": 5,
     "metadata": {},
     "output_type": "execute_result"
    }
   ],
   "source": [
    "model.n_iter_"
   ]
  },
  {
   "cell_type": "markdown",
   "id": "94f0bbf4-b994-478a-9cb3-d45c8a301af8",
   "metadata": {},
   "source": [
    "However, there is something that is not really proper regarding our training dataset. We can have a look to our dataset"
   ]
  },
  {
   "cell_type": "code",
   "execution_count": 6,
   "id": "c8ada9ce-d1e9-43c3-9265-c35837c8ba39",
   "metadata": {},
   "outputs": [
    {
     "data": {
      "image/png": "[encoded data removed]",
      "text/plain": [
       "<Figure size 576x576 with 1 Axes>"
      ]
     },
     "metadata": {
      "needs_background": "light"
     },
     "output_type": "display_data"
    }
   ],
   "source": [
    "import matplotlib.pyplot as plt\n",
    "import seaborn as sns\n",
    "sns.set_context(\"poster\")\n",
    "\n",
    "_, ax = plt.subplots(figsize=(8, 8))\n",
    "ax = sns.kdeplot(\n",
    "    data=X_train,\n",
    "    x=\"Culmen Length (mm)\",\n",
    "    y=\"Culmen Depth (mm)\",\n",
    "    levels=10,\n",
    "    fill=True,\n",
    "    cmap=plt.cm.viridis,\n",
    "    ax=ax,\n",
    ")\n",
    "_ = ax.axis(\"square\")"
   ]
  },
  {
   "cell_type": "markdown",
   "id": "192947ba-a636-453c-8b54-2eabbdfaad0c",
   "metadata": {},
   "source": [
    "Looking at our data distribution, we observed that the deviation from the mean is more important for the culmen length feature than the culmen depth feature. This will have an impact when dealing with gradient-based model."
   ]
  },
  {
   "cell_type": "markdown",
   "id": "8f083ad5-4845-4ffd-ab9c-20578937ae38",
   "metadata": {},
   "source": [
    "<div class=\"alert alert-success\">\n",
    "    <p><b>EXERCISE</b>:</p>\n",
    "    <ul>\n",
    "        <li>Using pandas, rescale the dataset such that they will be centered to (0, 0) and have a unit standard deviation for both feature.</li>\n",
    "        <li>Plot the distribution of the data as previously done.</li>\n",
    "        <li>Fit a <tt>LogisticRegression</tt> on the scaled dataset.</li>\n",
    "        <li>Check the number of iterations needed to train the model.</li>\n",
    "    </ul>\n",
    "</div>"
   ]
  },
  {
   "cell_type": "code",
   "execution_count": 7,
   "id": "5cfa6d11-e6bf-47f0-83ec-c44ef02f0533",
   "metadata": {},
   "outputs": [],
   "source": [
    "X_train_scaled = (X_train - X_train.mean()) / X_train.std()"
   ]
  },
  {
   "cell_type": "code",
   "execution_count": 8,
   "id": "790992aa-f207-4b3c-b63d-54c3f31acafd",
   "metadata": {},
   "outputs": [
    {
     "data": {
      "image/png": "[encoded data removed]",
      "text/plain": [
       "<Figure size 576x576 with 1 Axes>"
      ]
     },
     "metadata": {
      "needs_background": "light"
     },
     "output_type": "display_data"
    }
   ],
   "source": [
    "_, ax = plt.subplots(figsize=(8, 8))\n",
    "ax = sns.kdeplot(\n",
    "    data=X_train_scaled,\n",
    "    x=\"Culmen Length (mm)\",\n",
    "    y=\"Culmen Depth (mm)\",\n",
    "    levels=10,\n",
    "    fill=True,\n",
    "    cmap=plt.cm.viridis,\n",
    "    ax=ax,\n",
    ")\n",
    "_ = ax.axis(\"square\")"
   ]
  },
  {
   "cell_type": "code",
   "execution_count": 9,
   "id": "636f923e-ae55-45f3-ab44-1c744ca9b84d",
   "metadata": {},
   "outputs": [
    {
     "data": {
      "text/plain": [
       "array([14], dtype=int32)"
      ]
     },
     "execution_count": 9,
     "metadata": {},
     "output_type": "execute_result"
    }
   ],
   "source": [
    "model = LogisticRegression()\n",
    "model.fit(X_train_scaled, y_train)\n",
    "model.n_iter_"
   ]
  },
  {
   "cell_type": "markdown",
   "id": "d1caa206-d7e2-4302-b5be-17ece84b9749",
   "metadata": {},
   "source": [
    "## Scikit-learn transformers API"
   ]
  },
  {
   "cell_type": "markdown",
   "id": "7fd77b08-0601-4199-9b2c-46c78e9ab625",
   "metadata": {},
   "source": [
    "There is a family of estimator in scikit-learn that allows to \"transform\" data. As predictor, they can learn some states during `fit` and later reuse these states when calling the method `transform`. Let's perform the previous scaling using the `StandardScaler` transformer from scikit-learn."
   ]
  },
  {
   "cell_type": "code",
   "execution_count": 10,
   "id": "58571235",
   "metadata": {},
   "outputs": [
    {
     "data": {
      "text/plain": [
       "StandardScaler()"
      ]
     },
     "execution_count": 10,
     "metadata": {},
     "output_type": "execute_result"
    }
   ],
   "source": [
    "from sklearn.preprocessing import StandardScaler\n",
    "\n",
    "scaler = StandardScaler()\n",
    "scaler.fit(X_train)"
   ]
  },
  {
   "cell_type": "markdown",
   "id": "520b2d62-0a5a-420d-b612-dcaf2f6f40f6",
   "metadata": {},
   "source": [
    "As stated, we expect our scaler to have some state after calling `fit`. Indeed, our scaler will have store the mean and standard deviation of the dataset."
   ]
  },
  {
   "cell_type": "code",
   "execution_count": 11,
   "id": "eceb7b3c-2525-4726-a137-bc3a30b306f1",
   "metadata": {},
   "outputs": [
    {
     "data": {
      "text/plain": [
       "(array([44.11640625, 17.046875  ]), array([5.44877104, 1.92943634]))"
      ]
     },
     "execution_count": 11,
     "metadata": {},
     "output_type": "execute_result"
    }
   ],
   "source": [
    "scaler.mean_, scaler.scale_"
   ]
  },
  {
   "cell_type": "markdown",
   "id": "9c845a85-6113-4096-aa7b-eff57087307a",
   "metadata": {},
   "source": [
    "Now we can use the `transform` method to scale the data."
   ]
  },
  {
   "cell_type": "code",
   "execution_count": 12,
   "id": "29a41cf3-db0a-4368-be13-79065dce8832",
   "metadata": {},
   "outputs": [
    {
     "data": {
      "text/html": [
       "<div>\n",
       "<style scoped>\n",
       "    .dataframe tbody tr th:only-of-type {\n",
       "        vertical-align: middle;\n",
       "    }\n",
       "\n",
       "    .dataframe tbody tr th {\n",
       "        vertical-align: top;\n",
       "    }\n",
       "\n",
       "    .dataframe thead th {\n",
       "        text-align: right;\n",
       "    }\n",
       "</style>\n",
       "<table border=\"1\" class=\"dataframe\">\n",
       "  <thead>\n",
       "    <tr style=\"text-align: right;\">\n",
       "      <th></th>\n",
       "      <th>Culmen Length (mm)</th>\n",
       "      <th>Culmen Depth (mm)</th>\n",
       "    </tr>\n",
       "  </thead>\n",
       "  <tbody>\n",
       "    <tr>\n",
       "      <th>0</th>\n",
       "      <td>-0.296655</td>\n",
       "      <td>-0.179780</td>\n",
       "    </tr>\n",
       "    <tr>\n",
       "      <th>1</th>\n",
       "      <td>-1.177588</td>\n",
       "      <td>-0.542581</td>\n",
       "    </tr>\n",
       "    <tr>\n",
       "      <th>2</th>\n",
       "      <td>0.841216</td>\n",
       "      <td>-1.527324</td>\n",
       "    </tr>\n",
       "    <tr>\n",
       "      <th>3</th>\n",
       "      <td>1.116508</td>\n",
       "      <td>0.856792</td>\n",
       "    </tr>\n",
       "    <tr>\n",
       "      <th>4</th>\n",
       "      <td>-1.361115</td>\n",
       "      <td>0.908620</td>\n",
       "    </tr>\n",
       "  </tbody>\n",
       "</table>\n",
       "</div>"
      ],
      "text/plain": [
       "   Culmen Length (mm)  Culmen Depth (mm)\n",
       "0           -0.296655          -0.179780\n",
       "1           -1.177588          -0.542581\n",
       "2            0.841216          -1.527324\n",
       "3            1.116508           0.856792\n",
       "4           -1.361115           0.908620"
      ]
     },
     "execution_count": 12,
     "metadata": {},
     "output_type": "execute_result"
    }
   ],
   "source": [
    "X_train_scaled = scaler.transform(X_train)\n",
    "# scikit-learn will transform any pandas dataframe into a NumPy array\n",
    "X_train_scaled = pd.DataFrame(X_train_scaled, columns=X_train.columns)\n",
    "X_train_scaled.head()"
   ]
  },
  {
   "cell_type": "markdown",
   "id": "b430f198-a741-4976-bfc3-1cc665c15a38",
   "metadata": {},
   "source": [
    "Let's plot the distribution of the data to convince ourself that the transformation applied is the same than we did by hand earlier."
   ]
  },
  {
   "cell_type": "code",
   "execution_count": 13,
   "id": "ea2c2c32-d807-40d1-9655-b18b7a2bb390",
   "metadata": {},
   "outputs": [
    {
     "data": {
      "image/png": "[encoded data removed]",
      "text/plain": [
       "<Figure size 576x576 with 1 Axes>"
      ]
     },
     "metadata": {
      "needs_background": "light"
     },
     "output_type": "display_data"
    }
   ],
   "source": [
    "_, ax = plt.subplots(figsize=(8, 8))\n",
    "ax = sns.kdeplot(\n",
    "    data=X_train_scaled,\n",
    "    x=\"Culmen Length (mm)\",\n",
    "    y=\"Culmen Depth (mm)\",\n",
    "    levels=10,\n",
    "    fill=True,\n",
    "    cmap=plt.cm.viridis,\n",
    "    ax=ax,\n",
    ")\n",
    "_ = ax.axis(\"square\")"
   ]
  },
  {
   "cell_type": "code",
   "execution_count": 14,
   "id": "e7f8d47a",
   "metadata": {},
   "outputs": [
    {
     "data": {
      "text/plain": [
       "Culmen Length (mm)    5.620504e-16\n",
       "Culmen Depth (mm)     5.898060e-17\n",
       "dtype: float64"
      ]
     },
     "execution_count": 14,
     "metadata": {},
     "output_type": "execute_result"
    }
   ],
   "source": [
    "X_train_scaled.mean()"
   ]
  },
  {
   "cell_type": "code",
   "execution_count": 15,
   "id": "80247c9e",
   "metadata": {},
   "outputs": [
    {
     "data": {
      "text/plain": [
       "Culmen Length (mm)    1.001959\n",
       "Culmen Depth (mm)     1.001959\n",
       "dtype: float64"
      ]
     },
     "execution_count": 15,
     "metadata": {},
     "output_type": "execute_result"
    }
   ],
   "source": [
    "X_train_scaled.std()"
   ]
  },
  {
   "cell_type": "markdown",
   "id": "4539ac7b-17ea-4bff-86fa-43d4ee6a4d27",
   "metadata": {},
   "source": [
    "The advantage of using scikit-learn transformer over manually manipulating the dataset is that we can make complex pipeline. A pipeline can be represented as a sequence of scikit-learn transformers finishing by a scikit-learn predictor. This pipeline will have the same API than a scikit-learn predictor (i.e. `fit`, `predict`, `predict_proba`, `decision_function`), and will take care of the transformation and the transformation state for us.\n",
    "\n",
    "Let's define such of a scikit-learn pipeline."
   ]
  },
  {
   "cell_type": "code",
   "execution_count": 16,
   "id": "4cb42b08",
   "metadata": {},
   "outputs": [],
   "source": [
    "import sklearn\n",
    "# to make nice diagram when plotting complex pipeline\n",
    "sklearn.set_config(display=\"diagram\")"
   ]
  },
  {
   "cell_type": "code",
   "execution_count": 17,
   "id": "60eb86ec",
   "metadata": {},
   "outputs": [
    {
     "data": {
      "text/html": [
       "<style>#sk-3fa0ea39-ac79-40cd-a24b-95e879da2638 {color: black;background-color: white;}#sk-3fa0ea39-ac79-40cd-a24b-95e879da2638 pre{padding: 0;}#sk-3fa0ea39-ac79-40cd-a24b-95e879da2638 div.sk-toggleable {background-color: white;}#sk-3fa0ea39-ac79-40cd-a24b-95e879da2638 label.sk-toggleable__label {cursor: pointer;display: block;width: 100%;margin-bottom: 0;padding: 0.3em;box-sizing: border-box;text-align: center;}#sk-3fa0ea39-ac79-40cd-a24b-95e879da2638 div.sk-toggleable__content {max-height: 0;max-width: 0;overflow: hidden;text-align: left;background-color: #f0f8ff;}#sk-3fa0ea39-ac79-40cd-a24b-95e879da2638 div.sk-toggleable__content pre {margin: 0.2em;color: black;border-radius: 0.25em;background-color: #f0f8ff;}#sk-3fa0ea39-ac79-40cd-a24b-95e879da2638 input.sk-toggleable__control:checked~div.sk-toggleable__content {max-height: 200px;max-width: 100%;overflow: auto;}#sk-3fa0ea39-ac79-40cd-a24b-95e879da2638 div.sk-estimator input.sk-toggleable__control:checked~label.sk-toggleable__label {background-color: #d4ebff;}#sk-3fa0ea39-ac79-40cd-a24b-95e879da2638 div.sk-label input.sk-toggleable__control:checked~label.sk-toggleable__label {background-color: #d4ebff;}#sk-3fa0ea39-ac79-40cd-a24b-95e879da2638 input.sk-hidden--visually {border: 0;clip: rect(1px 1px 1px 1px);clip: rect(1px, 1px, 1px, 1px);height: 1px;margin: -1px;overflow: hidden;padding: 0;position: absolute;width: 1px;}#sk-3fa0ea39-ac79-40cd-a24b-95e879da2638 div.sk-estimator {font-family: monospace;background-color: #f0f8ff;border: 1px dotted black;border-radius: 0.25em;box-sizing: border-box;margin-bottom: 0.5em;}#sk-3fa0ea39-ac79-40cd-a24b-95e879da2638 div.sk-estimator:hover {background-color: #d4ebff;}#sk-3fa0ea39-ac79-40cd-a24b-95e879da2638 div.sk-parallel-item::after {content: \"\";width: 100%;border-bottom: 1px solid gray;flex-grow: 1;}#sk-3fa0ea39-ac79-40cd-a24b-95e879da2638 div.sk-label:hover label.sk-toggleable__label {background-color: #d4ebff;}#sk-3fa0ea39-ac79-40cd-a24b-95e879da2638 div.sk-serial::before {content: \"\";position: absolute;border-left: 1px solid gray;box-sizing: border-box;top: 2em;bottom: 0;left: 50%;}#sk-3fa0ea39-ac79-40cd-a24b-95e879da2638 div.sk-serial {display: flex;flex-direction: column;align-items: center;background-color: white;padding-right: 0.2em;padding-left: 0.2em;}#sk-3fa0ea39-ac79-40cd-a24b-95e879da2638 div.sk-item {z-index: 1;}#sk-3fa0ea39-ac79-40cd-a24b-95e879da2638 div.sk-parallel {display: flex;align-items: stretch;justify-content: center;background-color: white;}#sk-3fa0ea39-ac79-40cd-a24b-95e879da2638 div.sk-parallel::before {content: \"\";position: absolute;border-left: 1px solid gray;box-sizing: border-box;top: 2em;bottom: 0;left: 50%;}#sk-3fa0ea39-ac79-40cd-a24b-95e879da2638 div.sk-parallel-item {display: flex;flex-direction: column;position: relative;background-color: white;}#sk-3fa0ea39-ac79-40cd-a24b-95e879da2638 div.sk-parallel-item:first-child::after {align-self: flex-end;width: 50%;}#sk-3fa0ea39-ac79-40cd-a24b-95e879da2638 div.sk-parallel-item:last-child::after {align-self: flex-start;width: 50%;}#sk-3fa0ea39-ac79-40cd-a24b-95e879da2638 div.sk-parallel-item:only-child::after {width: 0;}#sk-3fa0ea39-ac79-40cd-a24b-95e879da2638 div.sk-dashed-wrapped {border: 1px dashed gray;margin: 0 0.4em 0.5em 0.4em;box-sizing: border-box;padding-bottom: 0.4em;background-color: white;position: relative;}#sk-3fa0ea39-ac79-40cd-a24b-95e879da2638 div.sk-label label {font-family: monospace;font-weight: bold;background-color: white;display: inline-block;line-height: 1.2em;}#sk-3fa0ea39-ac79-40cd-a24b-95e879da2638 div.sk-label-container {position: relative;z-index: 2;text-align: center;}#sk-3fa0ea39-ac79-40cd-a24b-95e879da2638 div.sk-container {display: inline-block;position: relative;}</style><div id=\"sk-3fa0ea39-ac79-40cd-a24b-95e879da2638\" class\"sk-top-container\"><div class=\"sk-container\"><div class=\"sk-item sk-dashed-wrapped\"><div class=\"sk-label-container\"><div class=\"sk-label sk-toggleable\"><input class=\"sk-toggleable__control sk-hidden--visually\" id=\"35f453d9-bc12-40b5-b1e9-747a379213e4\" type=\"checkbox\" ><label class=\"sk-toggleable__label\" for=\"35f453d9-bc12-40b5-b1e9-747a379213e4\">Pipeline</label><div class=\"sk-toggleable__content\"><pre>Pipeline(steps=[('standardscaler', StandardScaler()),\n",
       "                ('logisticregression', LogisticRegression())])</pre></div></div></div><div class=\"sk-serial\"><div class=\"sk-item\"><div class=\"sk-estimator sk-toggleable\"><input class=\"sk-toggleable__control sk-hidden--visually\" id=\"724f4f01-7674-448e-997f-c971b80b610b\" type=\"checkbox\" ><label class=\"sk-toggleable__label\" for=\"724f4f01-7674-448e-997f-c971b80b610b\">StandardScaler</label><div class=\"sk-toggleable__content\"><pre>StandardScaler()</pre></div></div></div><div class=\"sk-item\"><div class=\"sk-estimator sk-toggleable\"><input class=\"sk-toggleable__control sk-hidden--visually\" id=\"71597ed7-5b95-4af0-8989-e0dcb424fe55\" type=\"checkbox\" ><label class=\"sk-toggleable__label\" for=\"71597ed7-5b95-4af0-8989-e0dcb424fe55\">LogisticRegression</label><div class=\"sk-toggleable__content\"><pre>LogisticRegression()</pre></div></div></div></div></div></div></div>"
      ],
      "text/plain": [
       "Pipeline(steps=[('standardscaler', StandardScaler()),\n",
       "                ('logisticregression', LogisticRegression())])"
      ]
     },
     "execution_count": 17,
     "metadata": {},
     "output_type": "execute_result"
    }
   ],
   "source": [
    "from sklearn.preprocessing import StandardScaler\n",
    "from sklearn.pipeline import make_pipeline\n",
    "\n",
    "model = make_pipeline(StandardScaler(), LogisticRegression())\n",
    "model"
   ]
  },
  {
   "cell_type": "markdown",
   "id": "2842c799-036e-4c0a-a998-41186ae42e47",
   "metadata": {},
   "source": [
    "Here, we created a pipeline that will be in charge of scaling the data first and then pass it to the classifier. Let's demonstrate how to train this pipeline."
   ]
  },
  {
   "cell_type": "code",
   "execution_count": 18,
   "id": "dda70405-5975-4712-8eed-86eeb28a565e",
   "metadata": {},
   "outputs": [
    {
     "data": {
      "text/html": [
       "<style>#sk-37c0a5a3-1af4-41a9-9e5d-ab9d5b96186e {color: black;background-color: white;}#sk-37c0a5a3-1af4-41a9-9e5d-ab9d5b96186e pre{padding: 0;}#sk-37c0a5a3-1af4-41a9-9e5d-ab9d5b96186e div.sk-toggleable {background-color: white;}#sk-37c0a5a3-1af4-41a9-9e5d-ab9d5b96186e label.sk-toggleable__label {cursor: pointer;display: block;width: 100%;margin-bottom: 0;padding: 0.3em;box-sizing: border-box;text-align: center;}#sk-37c0a5a3-1af4-41a9-9e5d-ab9d5b96186e div.sk-toggleable__content {max-height: 0;max-width: 0;overflow: hidden;text-align: left;background-color: #f0f8ff;}#sk-37c0a5a3-1af4-41a9-9e5d-ab9d5b96186e div.sk-toggleable__content pre {margin: 0.2em;color: black;border-radius: 0.25em;background-color: #f0f8ff;}#sk-37c0a5a3-1af4-41a9-9e5d-ab9d5b96186e input.sk-toggleable__control:checked~div.sk-toggleable__content {max-height: 200px;max-width: 100%;overflow: auto;}#sk-37c0a5a3-1af4-41a9-9e5d-ab9d5b96186e div.sk-estimator input.sk-toggleable__control:checked~label.sk-toggleable__label {background-color: #d4ebff;}#sk-37c0a5a3-1af4-41a9-9e5d-ab9d5b96186e div.sk-label input.sk-toggleable__control:checked~label.sk-toggleable__label {background-color: #d4ebff;}#sk-37c0a5a3-1af4-41a9-9e5d-ab9d5b96186e input.sk-hidden--visually {border: 0;clip: rect(1px 1px 1px 1px);clip: rect(1px, 1px, 1px, 1px);height: 1px;margin: -1px;overflow: hidden;padding: 0;position: absolute;width: 1px;}#sk-37c0a5a3-1af4-41a9-9e5d-ab9d5b96186e div.sk-estimator {font-family: monospace;background-color: #f0f8ff;border: 1px dotted black;border-radius: 0.25em;box-sizing: border-box;margin-bottom: 0.5em;}#sk-37c0a5a3-1af4-41a9-9e5d-ab9d5b96186e div.sk-estimator:hover {background-color: #d4ebff;}#sk-37c0a5a3-1af4-41a9-9e5d-ab9d5b96186e div.sk-parallel-item::after {content: \"\";width: 100%;border-bottom: 1px solid gray;flex-grow: 1;}#sk-37c0a5a3-1af4-41a9-9e5d-ab9d5b96186e div.sk-label:hover label.sk-toggleable__label {background-color: #d4ebff;}#sk-37c0a5a3-1af4-41a9-9e5d-ab9d5b96186e div.sk-serial::before {content: \"\";position: absolute;border-left: 1px solid gray;box-sizing: border-box;top: 2em;bottom: 0;left: 50%;}#sk-37c0a5a3-1af4-41a9-9e5d-ab9d5b96186e div.sk-serial {display: flex;flex-direction: column;align-items: center;background-color: white;padding-right: 0.2em;padding-left: 0.2em;}#sk-37c0a5a3-1af4-41a9-9e5d-ab9d5b96186e div.sk-item {z-index: 1;}#sk-37c0a5a3-1af4-41a9-9e5d-ab9d5b96186e div.sk-parallel {display: flex;align-items: stretch;justify-content: center;background-color: white;}#sk-37c0a5a3-1af4-41a9-9e5d-ab9d5b96186e div.sk-parallel::before {content: \"\";position: absolute;border-left: 1px solid gray;box-sizing: border-box;top: 2em;bottom: 0;left: 50%;}#sk-37c0a5a3-1af4-41a9-9e5d-ab9d5b96186e div.sk-parallel-item {display: flex;flex-direction: column;position: relative;background-color: white;}#sk-37c0a5a3-1af4-41a9-9e5d-ab9d5b96186e div.sk-parallel-item:first-child::after {align-self: flex-end;width: 50%;}#sk-37c0a5a3-1af4-41a9-9e5d-ab9d5b96186e div.sk-parallel-item:last-child::after {align-self: flex-start;width: 50%;}#sk-37c0a5a3-1af4-41a9-9e5d-ab9d5b96186e div.sk-parallel-item:only-child::after {width: 0;}#sk-37c0a5a3-1af4-41a9-9e5d-ab9d5b96186e div.sk-dashed-wrapped {border: 1px dashed gray;margin: 0 0.4em 0.5em 0.4em;box-sizing: border-box;padding-bottom: 0.4em;background-color: white;position: relative;}#sk-37c0a5a3-1af4-41a9-9e5d-ab9d5b96186e div.sk-label label {font-family: monospace;font-weight: bold;background-color: white;display: inline-block;line-height: 1.2em;}#sk-37c0a5a3-1af4-41a9-9e5d-ab9d5b96186e div.sk-label-container {position: relative;z-index: 2;text-align: center;}#sk-37c0a5a3-1af4-41a9-9e5d-ab9d5b96186e div.sk-container {display: inline-block;position: relative;}</style><div id=\"sk-37c0a5a3-1af4-41a9-9e5d-ab9d5b96186e\" class\"sk-top-container\"><div class=\"sk-container\"><div class=\"sk-item sk-dashed-wrapped\"><div class=\"sk-label-container\"><div class=\"sk-label sk-toggleable\"><input class=\"sk-toggleable__control sk-hidden--visually\" id=\"85dc8b2a-916f-413f-a648-30eecfd63a5b\" type=\"checkbox\" ><label class=\"sk-toggleable__label\" for=\"85dc8b2a-916f-413f-a648-30eecfd63a5b\">Pipeline</label><div class=\"sk-toggleable__content\"><pre>Pipeline(steps=[('standardscaler', StandardScaler()),\n",
       "                ('logisticregression', LogisticRegression())])</pre></div></div></div><div class=\"sk-serial\"><div class=\"sk-item\"><div class=\"sk-estimator sk-toggleable\"><input class=\"sk-toggleable__control sk-hidden--visually\" id=\"5606d829-2746-454c-a72b-d45165019d2c\" type=\"checkbox\" ><label class=\"sk-toggleable__label\" for=\"5606d829-2746-454c-a72b-d45165019d2c\">StandardScaler</label><div class=\"sk-toggleable__content\"><pre>StandardScaler()</pre></div></div></div><div class=\"sk-item\"><div class=\"sk-estimator sk-toggleable\"><input class=\"sk-toggleable__control sk-hidden--visually\" id=\"61955edf-5d76-42db-895e-0352860e6070\" type=\"checkbox\" ><label class=\"sk-toggleable__label\" for=\"61955edf-5d76-42db-895e-0352860e6070\">LogisticRegression</label><div class=\"sk-toggleable__content\"><pre>LogisticRegression()</pre></div></div></div></div></div></div></div>"
      ],
      "text/plain": [
       "Pipeline(steps=[('standardscaler', StandardScaler()),\n",
       "                ('logisticregression', LogisticRegression())])"
      ]
     },
     "execution_count": 18,
     "metadata": {},
     "output_type": "execute_result"
    }
   ],
   "source": [
    "model.fit(X_train, y_train)"
   ]
  },
  {
   "cell_type": "markdown",
   "id": "398d0fd2-dff3-4e01-81ce-db715db26602",
   "metadata": {},
   "source": [
    "We just trained our model without the need to take care about the scaling ourselve. We can check that model have internal state learnt during `fit`. Let's first check our scaler."
   ]
  },
  {
   "cell_type": "code",
   "execution_count": 19,
   "id": "b8fe37b9-b61f-4ccd-bd25-a8ef3266610f",
   "metadata": {},
   "outputs": [
    {
     "data": {
      "text/plain": [
       "(array([44.11640625, 17.046875  ]), array([5.44877104, 1.92943634]))"
      ]
     },
     "execution_count": 19,
     "metadata": {},
     "output_type": "execute_result"
    }
   ],
   "source": [
    "model[0].mean_, model[0].scale_"
   ]
  },
  {
   "cell_type": "markdown",
   "id": "48fbfb5c-a2b0-419b-82f3-5dc51641dd5a",
   "metadata": {},
   "source": [
    "So the first step of the pipeline stored the mean and standard deviation of the training set. Did we learn the optimal parameter of the `LogisticRegression`?"
   ]
  },
  {
   "cell_type": "code",
   "execution_count": 20,
   "id": "7390bbde-6963-4f86-8543-e3d1eab6599a",
   "metadata": {},
   "outputs": [
    {
     "data": {
      "text/plain": [
       "array([[-2.87194706,  2.22608624],\n",
       "       [ 1.03286407,  0.84888563],\n",
       "       [ 1.83908299, -3.07497187]])"
      ]
     },
     "execution_count": 20,
     "metadata": {},
     "output_type": "execute_result"
    }
   ],
   "source": [
    "model[-1].coef_"
   ]
  },
  {
   "cell_type": "markdown",
   "id": "8341df0a-aee7-4ef3-9c36-6098624a2734",
   "metadata": {},
   "source": [
    "Apparently, we did. We can even check the number of iteration that it took to train the model."
   ]
  },
  {
   "cell_type": "code",
   "execution_count": 21,
   "id": "6f533d4b-3068-46db-8058-2a5e10151f3a",
   "metadata": {},
   "outputs": [
    {
     "data": {
      "text/plain": [
       "array([14], dtype=int32)"
      ]
     },
     "execution_count": 21,
     "metadata": {},
     "output_type": "execute_result"
    }
   ],
   "source": [
    "model[-1].n_iter_"
   ]
  },
  {
   "cell_type": "markdown",
   "id": "43cfc328-9620-452c-a78b-cd6b848830b7",
   "metadata": {},
   "source": [
    "So the pipeline did all the job that we previously manually did with the advantage that it exposes the same API than any predictor that we used up to now. What about prediction and scoring?\n",
    "\n",
    "Indeed, during prediction, we would need to scale the testing set using the statistic found during training. Using the pipeline with the `predict` method will take care of this processing for us."
   ]
  },
  {
   "cell_type": "code",
   "execution_count": 22,
   "id": "d0fcabbf",
   "metadata": {},
   "outputs": [],
   "source": [
    "y_pred = model.predict(X_test)"
   ]
  },
  {
   "cell_type": "code",
   "execution_count": 23,
   "id": "e4506576-343b-4b59-ae84-0d7d0dc26cb4",
   "metadata": {},
   "outputs": [
    {
     "data": {
      "text/plain": [
       "0.9883720930232558"
      ]
     },
     "execution_count": 23,
     "metadata": {},
     "output_type": "execute_result"
    }
   ],
   "source": [
    "(y_test == y_pred).mean()"
   ]
  },
  {
   "cell_type": "markdown",
   "id": "dc1ebf65-4036-4c7a-9ef7-8447666d4ce2",
   "metadata": {},
   "source": [
    "<div class=\"alert alert-success\">\n",
    "    <p><b>EXERCISE</b>:</p>\n",
    "    In the first course, we saw that we could pass a model to <tt>cross_validate</tt> to get a distrbution of score.\n",
    "    Use the previous complex pipeline, and evaluate it using the <tt>cross_validate</tt> function.\n",
    "</div>"
   ]
  },
  {
   "cell_type": "markdown",
   "id": "fcfadaf2-f73f-44cb-9038-41b677b32175",
   "metadata": {},
   "source": [
    "## Side effect of longer processing"
   ]
  },
  {
   "cell_type": "markdown",
   "id": "acd75f8b-6a1d-49d0-857c-6bd63d48b6bb",
   "metadata": {},
   "source": [
    "We would like to trigger a behaviour that you could encounter in scikit-learn. It is quite important to know what it means and how to act. Let's load a dataset first."
   ]
  },
  {
   "cell_type": "code",
   "execution_count": 24,
   "id": "03a2820f",
   "metadata": {},
   "outputs": [
    {
     "data": {
      "text/html": [
       "<div>\n",
       "<style scoped>\n",
       "    .dataframe tbody tr th:only-of-type {\n",
       "        vertical-align: middle;\n",
       "    }\n",
       "\n",
       "    .dataframe tbody tr th {\n",
       "        vertical-align: top;\n",
       "    }\n",
       "\n",
       "    .dataframe thead th {\n",
       "        text-align: right;\n",
       "    }\n",
       "</style>\n",
       "<table border=\"1\" class=\"dataframe\">\n",
       "  <thead>\n",
       "    <tr style=\"text-align: right;\">\n",
       "      <th></th>\n",
       "      <th>age</th>\n",
       "      <th>education-num</th>\n",
       "      <th>capital-gain</th>\n",
       "      <th>capital-loss</th>\n",
       "      <th>hours-per-week</th>\n",
       "      <th>class</th>\n",
       "    </tr>\n",
       "  </thead>\n",
       "  <tbody>\n",
       "    <tr>\n",
       "      <th>0</th>\n",
       "      <td>25</td>\n",
       "      <td>7</td>\n",
       "      <td>0</td>\n",
       "      <td>0</td>\n",
       "      <td>40</td>\n",
       "      <td>&lt;=50K</td>\n",
       "    </tr>\n",
       "    <tr>\n",
       "      <th>1</th>\n",
       "      <td>38</td>\n",
       "      <td>9</td>\n",
       "      <td>0</td>\n",
       "      <td>0</td>\n",
       "      <td>50</td>\n",
       "      <td>&lt;=50K</td>\n",
       "    </tr>\n",
       "    <tr>\n",
       "      <th>2</th>\n",
       "      <td>28</td>\n",
       "      <td>12</td>\n",
       "      <td>0</td>\n",
       "      <td>0</td>\n",
       "      <td>40</td>\n",
       "      <td>&gt;50K</td>\n",
       "    </tr>\n",
       "    <tr>\n",
       "      <th>3</th>\n",
       "      <td>44</td>\n",
       "      <td>10</td>\n",
       "      <td>7688</td>\n",
       "      <td>0</td>\n",
       "      <td>40</td>\n",
       "      <td>&gt;50K</td>\n",
       "    </tr>\n",
       "    <tr>\n",
       "      <th>4</th>\n",
       "      <td>18</td>\n",
       "      <td>10</td>\n",
       "      <td>0</td>\n",
       "      <td>0</td>\n",
       "      <td>30</td>\n",
       "      <td>&lt;=50K</td>\n",
       "    </tr>\n",
       "  </tbody>\n",
       "</table>\n",
       "</div>"
      ],
      "text/plain": [
       "   age  education-num  capital-gain  capital-loss  hours-per-week   class\n",
       "0   25              7             0             0              40   <=50K\n",
       "1   38              9             0             0              50   <=50K\n",
       "2   28             12             0             0              40    >50K\n",
       "3   44             10          7688             0              40    >50K\n",
       "4   18             10             0             0              30   <=50K"
      ]
     },
     "execution_count": 24,
     "metadata": {},
     "output_type": "execute_result"
    }
   ],
   "source": [
    "data = pd.read_csv(\"../datasets/adult-census-numeric-all.csv\")\n",
    "data.head()"
   ]
  },
  {
   "cell_type": "code",
   "execution_count": 25,
   "id": "0fcaecc8",
   "metadata": {},
   "outputs": [],
   "source": [
    "target_name = \"class\"\n",
    "X = data.drop(columns=target_name)\n",
    "y = data[target_name]"
   ]
  },
  {
   "cell_type": "markdown",
   "id": "82020403-826f-4384-a802-74083e3e464b",
   "metadata": {},
   "source": [
    "This dataset is linked to a classification task."
   ]
  },
  {
   "cell_type": "markdown",
   "id": "8f5b5501-c50d-4190-94d1-015f951e29a1",
   "metadata": {},
   "source": [
    "<div class=\"alert alert-success\">\n",
    "    <p><b>EXERCISE</b>:</p>\n",
    "    Fit a <tt>LogisticRegression</tt> algorithm without scaling the data first. In addition, force the maximum number of iteration of the solver to be at most 50 iterations. What is the result of the training?\n",
    "</div>"
   ]
  },
  {
   "cell_type": "code",
   "execution_count": 26,
   "id": "1e599906",
   "metadata": {},
   "outputs": [
    {
     "name": "stderr",
     "output_type": "stream",
     "text": [
      "/Users/glemaitre/mambaforge/envs/teaching/lib/python3.8/site-packages/sklearn/linear_model/_logistic.py:814: ConvergenceWarning: lbfgs failed to converge (status=1):\n",
      "STOP: TOTAL NO. of ITERATIONS REACHED LIMIT.\n",
      "\n",
      "Increase the number of iterations (max_iter) or scale the data as shown in:\n",
      "    https://scikit-learn.org/stable/modules/preprocessing.html\n",
      "Please also refer to the documentation for alternative solver options:\n",
      "    https://scikit-learn.org/stable/modules/linear_model.html#logistic-regression\n",
      "  n_iter_i = _check_optimize_result(\n"
     ]
    },
    {
     "data": {
      "text/html": [
       "<style>#sk-84f91660-f3c7-40f6-a0ef-14ad47bb5501 {color: black;background-color: white;}#sk-84f91660-f3c7-40f6-a0ef-14ad47bb5501 pre{padding: 0;}#sk-84f91660-f3c7-40f6-a0ef-14ad47bb5501 div.sk-toggleable {background-color: white;}#sk-84f91660-f3c7-40f6-a0ef-14ad47bb5501 label.sk-toggleable__label {cursor: pointer;display: block;width: 100%;margin-bottom: 0;padding: 0.3em;box-sizing: border-box;text-align: center;}#sk-84f91660-f3c7-40f6-a0ef-14ad47bb5501 div.sk-toggleable__content {max-height: 0;max-width: 0;overflow: hidden;text-align: left;background-color: #f0f8ff;}#sk-84f91660-f3c7-40f6-a0ef-14ad47bb5501 div.sk-toggleable__content pre {margin: 0.2em;color: black;border-radius: 0.25em;background-color: #f0f8ff;}#sk-84f91660-f3c7-40f6-a0ef-14ad47bb5501 input.sk-toggleable__control:checked~div.sk-toggleable__content {max-height: 200px;max-width: 100%;overflow: auto;}#sk-84f91660-f3c7-40f6-a0ef-14ad47bb5501 div.sk-estimator input.sk-toggleable__control:checked~label.sk-toggleable__label {background-color: #d4ebff;}#sk-84f91660-f3c7-40f6-a0ef-14ad47bb5501 div.sk-label input.sk-toggleable__control:checked~label.sk-toggleable__label {background-color: #d4ebff;}#sk-84f91660-f3c7-40f6-a0ef-14ad47bb5501 input.sk-hidden--visually {border: 0;clip: rect(1px 1px 1px 1px);clip: rect(1px, 1px, 1px, 1px);height: 1px;margin: -1px;overflow: hidden;padding: 0;position: absolute;width: 1px;}#sk-84f91660-f3c7-40f6-a0ef-14ad47bb5501 div.sk-estimator {font-family: monospace;background-color: #f0f8ff;border: 1px dotted black;border-radius: 0.25em;box-sizing: border-box;margin-bottom: 0.5em;}#sk-84f91660-f3c7-40f6-a0ef-14ad47bb5501 div.sk-estimator:hover {background-color: #d4ebff;}#sk-84f91660-f3c7-40f6-a0ef-14ad47bb5501 div.sk-parallel-item::after {content: \"\";width: 100%;border-bottom: 1px solid gray;flex-grow: 1;}#sk-84f91660-f3c7-40f6-a0ef-14ad47bb5501 div.sk-label:hover label.sk-toggleable__label {background-color: #d4ebff;}#sk-84f91660-f3c7-40f6-a0ef-14ad47bb5501 div.sk-serial::before {content: \"\";position: absolute;border-left: 1px solid gray;box-sizing: border-box;top: 2em;bottom: 0;left: 50%;}#sk-84f91660-f3c7-40f6-a0ef-14ad47bb5501 div.sk-serial {display: flex;flex-direction: column;align-items: center;background-color: white;padding-right: 0.2em;padding-left: 0.2em;}#sk-84f91660-f3c7-40f6-a0ef-14ad47bb5501 div.sk-item {z-index: 1;}#sk-84f91660-f3c7-40f6-a0ef-14ad47bb5501 div.sk-parallel {display: flex;align-items: stretch;justify-content: center;background-color: white;}#sk-84f91660-f3c7-40f6-a0ef-14ad47bb5501 div.sk-parallel::before {content: \"\";position: absolute;border-left: 1px solid gray;box-sizing: border-box;top: 2em;bottom: 0;left: 50%;}#sk-84f91660-f3c7-40f6-a0ef-14ad47bb5501 div.sk-parallel-item {display: flex;flex-direction: column;position: relative;background-color: white;}#sk-84f91660-f3c7-40f6-a0ef-14ad47bb5501 div.sk-parallel-item:first-child::after {align-self: flex-end;width: 50%;}#sk-84f91660-f3c7-40f6-a0ef-14ad47bb5501 div.sk-parallel-item:last-child::after {align-self: flex-start;width: 50%;}#sk-84f91660-f3c7-40f6-a0ef-14ad47bb5501 div.sk-parallel-item:only-child::after {width: 0;}#sk-84f91660-f3c7-40f6-a0ef-14ad47bb5501 div.sk-dashed-wrapped {border: 1px dashed gray;margin: 0 0.4em 0.5em 0.4em;box-sizing: border-box;padding-bottom: 0.4em;background-color: white;position: relative;}#sk-84f91660-f3c7-40f6-a0ef-14ad47bb5501 div.sk-label label {font-family: monospace;font-weight: bold;background-color: white;display: inline-block;line-height: 1.2em;}#sk-84f91660-f3c7-40f6-a0ef-14ad47bb5501 div.sk-label-container {position: relative;z-index: 2;text-align: center;}#sk-84f91660-f3c7-40f6-a0ef-14ad47bb5501 div.sk-container {display: inline-block;position: relative;}</style><div id=\"sk-84f91660-f3c7-40f6-a0ef-14ad47bb5501\" class\"sk-top-container\"><div class=\"sk-container\"><div class=\"sk-item\"><div class=\"sk-estimator sk-toggleable\"><input class=\"sk-toggleable__control sk-hidden--visually\" id=\"991d7d77-b31c-4674-af93-f21d2e0b6ee0\" type=\"checkbox\" checked><label class=\"sk-toggleable__label\" for=\"991d7d77-b31c-4674-af93-f21d2e0b6ee0\">LogisticRegression</label><div class=\"sk-toggleable__content\"><pre>LogisticRegression(max_iter=50)</pre></div></div></div></div></div>"
      ],
      "text/plain": [
       "LogisticRegression(max_iter=50)"
      ]
     },
     "execution_count": 26,
     "metadata": {},
     "output_type": "execute_result"
    }
   ],
   "source": [
    "model = LogisticRegression(max_iter=50)\n",
    "model.fit(X, y)"
   ]
  },
  {
   "cell_type": "markdown",
   "id": "939c309f-a26e-46ab-b65d-1f993573f34f",
   "metadata": {},
   "source": [
    "<div class=\"alert alert-success\">\n",
    "    <p><b>EXERCISE</b>:</p>\n",
    "    Implement both proposals stipulated in the warning message and argument which option you should choose and why?\n",
    "</div>"
   ]
  },
  {
   "cell_type": "code",
   "execution_count": 27,
   "id": "796ef774",
   "metadata": {},
   "outputs": [
    {
     "data": {
      "text/html": [
       "<style>#sk-3cd137b5-c186-49ea-b04b-53cdfe748d0d {color: black;background-color: white;}#sk-3cd137b5-c186-49ea-b04b-53cdfe748d0d pre{padding: 0;}#sk-3cd137b5-c186-49ea-b04b-53cdfe748d0d div.sk-toggleable {background-color: white;}#sk-3cd137b5-c186-49ea-b04b-53cdfe748d0d label.sk-toggleable__label {cursor: pointer;display: block;width: 100%;margin-bottom: 0;padding: 0.3em;box-sizing: border-box;text-align: center;}#sk-3cd137b5-c186-49ea-b04b-53cdfe748d0d div.sk-toggleable__content {max-height: 0;max-width: 0;overflow: hidden;text-align: left;background-color: #f0f8ff;}#sk-3cd137b5-c186-49ea-b04b-53cdfe748d0d div.sk-toggleable__content pre {margin: 0.2em;color: black;border-radius: 0.25em;background-color: #f0f8ff;}#sk-3cd137b5-c186-49ea-b04b-53cdfe748d0d input.sk-toggleable__control:checked~div.sk-toggleable__content {max-height: 200px;max-width: 100%;overflow: auto;}#sk-3cd137b5-c186-49ea-b04b-53cdfe748d0d div.sk-estimator input.sk-toggleable__control:checked~label.sk-toggleable__label {background-color: #d4ebff;}#sk-3cd137b5-c186-49ea-b04b-53cdfe748d0d div.sk-label input.sk-toggleable__control:checked~label.sk-toggleable__label {background-color: #d4ebff;}#sk-3cd137b5-c186-49ea-b04b-53cdfe748d0d input.sk-hidden--visually {border: 0;clip: rect(1px 1px 1px 1px);clip: rect(1px, 1px, 1px, 1px);height: 1px;margin: -1px;overflow: hidden;padding: 0;position: absolute;width: 1px;}#sk-3cd137b5-c186-49ea-b04b-53cdfe748d0d div.sk-estimator {font-family: monospace;background-color: #f0f8ff;border: 1px dotted black;border-radius: 0.25em;box-sizing: border-box;margin-bottom: 0.5em;}#sk-3cd137b5-c186-49ea-b04b-53cdfe748d0d div.sk-estimator:hover {background-color: #d4ebff;}#sk-3cd137b5-c186-49ea-b04b-53cdfe748d0d div.sk-parallel-item::after {content: \"\";width: 100%;border-bottom: 1px solid gray;flex-grow: 1;}#sk-3cd137b5-c186-49ea-b04b-53cdfe748d0d div.sk-label:hover label.sk-toggleable__label {background-color: #d4ebff;}#sk-3cd137b5-c186-49ea-b04b-53cdfe748d0d div.sk-serial::before {content: \"\";position: absolute;border-left: 1px solid gray;box-sizing: border-box;top: 2em;bottom: 0;left: 50%;}#sk-3cd137b5-c186-49ea-b04b-53cdfe748d0d div.sk-serial {display: flex;flex-direction: column;align-items: center;background-color: white;padding-right: 0.2em;padding-left: 0.2em;}#sk-3cd137b5-c186-49ea-b04b-53cdfe748d0d div.sk-item {z-index: 1;}#sk-3cd137b5-c186-49ea-b04b-53cdfe748d0d div.sk-parallel {display: flex;align-items: stretch;justify-content: center;background-color: white;}#sk-3cd137b5-c186-49ea-b04b-53cdfe748d0d div.sk-parallel::before {content: \"\";position: absolute;border-left: 1px solid gray;box-sizing: border-box;top: 2em;bottom: 0;left: 50%;}#sk-3cd137b5-c186-49ea-b04b-53cdfe748d0d div.sk-parallel-item {display: flex;flex-direction: column;position: relative;background-color: white;}#sk-3cd137b5-c186-49ea-b04b-53cdfe748d0d div.sk-parallel-item:first-child::after {align-self: flex-end;width: 50%;}#sk-3cd137b5-c186-49ea-b04b-53cdfe748d0d div.sk-parallel-item:last-child::after {align-self: flex-start;width: 50%;}#sk-3cd137b5-c186-49ea-b04b-53cdfe748d0d div.sk-parallel-item:only-child::after {width: 0;}#sk-3cd137b5-c186-49ea-b04b-53cdfe748d0d div.sk-dashed-wrapped {border: 1px dashed gray;margin: 0 0.4em 0.5em 0.4em;box-sizing: border-box;padding-bottom: 0.4em;background-color: white;position: relative;}#sk-3cd137b5-c186-49ea-b04b-53cdfe748d0d div.sk-label label {font-family: monospace;font-weight: bold;background-color: white;display: inline-block;line-height: 1.2em;}#sk-3cd137b5-c186-49ea-b04b-53cdfe748d0d div.sk-label-container {position: relative;z-index: 2;text-align: center;}#sk-3cd137b5-c186-49ea-b04b-53cdfe748d0d div.sk-container {display: inline-block;position: relative;}</style><div id=\"sk-3cd137b5-c186-49ea-b04b-53cdfe748d0d\" class\"sk-top-container\"><div class=\"sk-container\"><div class=\"sk-item\"><div class=\"sk-estimator sk-toggleable\"><input class=\"sk-toggleable__control sk-hidden--visually\" id=\"6f037d57-a39a-44c8-9a91-cb3b51bb9d2d\" type=\"checkbox\" checked><label class=\"sk-toggleable__label\" for=\"6f037d57-a39a-44c8-9a91-cb3b51bb9d2d\">LogisticRegression</label><div class=\"sk-toggleable__content\"><pre>LogisticRegression(max_iter=1000)</pre></div></div></div></div></div>"
      ],
      "text/plain": [
       "LogisticRegression(max_iter=1000)"
      ]
     },
     "execution_count": 27,
     "metadata": {},
     "output_type": "execute_result"
    }
   ],
   "source": [
    "model.set_params(max_iter=1_000)\n",
    "model.fit(X, y)"
   ]
  },
  {
   "cell_type": "code",
   "execution_count": 28,
   "id": "3638f984",
   "metadata": {},
   "outputs": [
    {
     "data": {
      "text/plain": [
       "array([100], dtype=int32)"
      ]
     },
     "execution_count": 28,
     "metadata": {},
     "output_type": "execute_result"
    }
   ],
   "source": [
    "model.n_iter_"
   ]
  },
  {
   "cell_type": "code",
   "execution_count": 29,
   "id": "9dda2212",
   "metadata": {},
   "outputs": [
    {
     "data": {
      "text/html": [
       "<style>#sk-6e28bb06-b3dd-42c2-88ad-902f5dc19643 {color: black;background-color: white;}#sk-6e28bb06-b3dd-42c2-88ad-902f5dc19643 pre{padding: 0;}#sk-6e28bb06-b3dd-42c2-88ad-902f5dc19643 div.sk-toggleable {background-color: white;}#sk-6e28bb06-b3dd-42c2-88ad-902f5dc19643 label.sk-toggleable__label {cursor: pointer;display: block;width: 100%;margin-bottom: 0;padding: 0.3em;box-sizing: border-box;text-align: center;}#sk-6e28bb06-b3dd-42c2-88ad-902f5dc19643 div.sk-toggleable__content {max-height: 0;max-width: 0;overflow: hidden;text-align: left;background-color: #f0f8ff;}#sk-6e28bb06-b3dd-42c2-88ad-902f5dc19643 div.sk-toggleable__content pre {margin: 0.2em;color: black;border-radius: 0.25em;background-color: #f0f8ff;}#sk-6e28bb06-b3dd-42c2-88ad-902f5dc19643 input.sk-toggleable__control:checked~div.sk-toggleable__content {max-height: 200px;max-width: 100%;overflow: auto;}#sk-6e28bb06-b3dd-42c2-88ad-902f5dc19643 div.sk-estimator input.sk-toggleable__control:checked~label.sk-toggleable__label {background-color: #d4ebff;}#sk-6e28bb06-b3dd-42c2-88ad-902f5dc19643 div.sk-label input.sk-toggleable__control:checked~label.sk-toggleable__label {background-color: #d4ebff;}#sk-6e28bb06-b3dd-42c2-88ad-902f5dc19643 input.sk-hidden--visually {border: 0;clip: rect(1px 1px 1px 1px);clip: rect(1px, 1px, 1px, 1px);height: 1px;margin: -1px;overflow: hidden;padding: 0;position: absolute;width: 1px;}#sk-6e28bb06-b3dd-42c2-88ad-902f5dc19643 div.sk-estimator {font-family: monospace;background-color: #f0f8ff;border: 1px dotted black;border-radius: 0.25em;box-sizing: border-box;margin-bottom: 0.5em;}#sk-6e28bb06-b3dd-42c2-88ad-902f5dc19643 div.sk-estimator:hover {background-color: #d4ebff;}#sk-6e28bb06-b3dd-42c2-88ad-902f5dc19643 div.sk-parallel-item::after {content: \"\";width: 100%;border-bottom: 1px solid gray;flex-grow: 1;}#sk-6e28bb06-b3dd-42c2-88ad-902f5dc19643 div.sk-label:hover label.sk-toggleable__label {background-color: #d4ebff;}#sk-6e28bb06-b3dd-42c2-88ad-902f5dc19643 div.sk-serial::before {content: \"\";position: absolute;border-left: 1px solid gray;box-sizing: border-box;top: 2em;bottom: 0;left: 50%;}#sk-6e28bb06-b3dd-42c2-88ad-902f5dc19643 div.sk-serial {display: flex;flex-direction: column;align-items: center;background-color: white;padding-right: 0.2em;padding-left: 0.2em;}#sk-6e28bb06-b3dd-42c2-88ad-902f5dc19643 div.sk-item {z-index: 1;}#sk-6e28bb06-b3dd-42c2-88ad-902f5dc19643 div.sk-parallel {display: flex;align-items: stretch;justify-content: center;background-color: white;}#sk-6e28bb06-b3dd-42c2-88ad-902f5dc19643 div.sk-parallel::before {content: \"\";position: absolute;border-left: 1px solid gray;box-sizing: border-box;top: 2em;bottom: 0;left: 50%;}#sk-6e28bb06-b3dd-42c2-88ad-902f5dc19643 div.sk-parallel-item {display: flex;flex-direction: column;position: relative;background-color: white;}#sk-6e28bb06-b3dd-42c2-88ad-902f5dc19643 div.sk-parallel-item:first-child::after {align-self: flex-end;width: 50%;}#sk-6e28bb06-b3dd-42c2-88ad-902f5dc19643 div.sk-parallel-item:last-child::after {align-self: flex-start;width: 50%;}#sk-6e28bb06-b3dd-42c2-88ad-902f5dc19643 div.sk-parallel-item:only-child::after {width: 0;}#sk-6e28bb06-b3dd-42c2-88ad-902f5dc19643 div.sk-dashed-wrapped {border: 1px dashed gray;margin: 0 0.4em 0.5em 0.4em;box-sizing: border-box;padding-bottom: 0.4em;background-color: white;position: relative;}#sk-6e28bb06-b3dd-42c2-88ad-902f5dc19643 div.sk-label label {font-family: monospace;font-weight: bold;background-color: white;display: inline-block;line-height: 1.2em;}#sk-6e28bb06-b3dd-42c2-88ad-902f5dc19643 div.sk-label-container {position: relative;z-index: 2;text-align: center;}#sk-6e28bb06-b3dd-42c2-88ad-902f5dc19643 div.sk-container {display: inline-block;position: relative;}</style><div id=\"sk-6e28bb06-b3dd-42c2-88ad-902f5dc19643\" class\"sk-top-container\"><div class=\"sk-container\"><div class=\"sk-item sk-dashed-wrapped\"><div class=\"sk-label-container\"><div class=\"sk-label sk-toggleable\"><input class=\"sk-toggleable__control sk-hidden--visually\" id=\"9fcc3ef5-58d9-47cd-9a42-be85b40301e6\" type=\"checkbox\" ><label class=\"sk-toggleable__label\" for=\"9fcc3ef5-58d9-47cd-9a42-be85b40301e6\">Pipeline</label><div class=\"sk-toggleable__content\"><pre>Pipeline(steps=[('standardscaler', StandardScaler()),\n",
       "                ('logisticregression', LogisticRegression())])</pre></div></div></div><div class=\"sk-serial\"><div class=\"sk-item\"><div class=\"sk-estimator sk-toggleable\"><input class=\"sk-toggleable__control sk-hidden--visually\" id=\"fd24e496-50ef-46e9-bbfc-f8b8b4a8f217\" type=\"checkbox\" ><label class=\"sk-toggleable__label\" for=\"fd24e496-50ef-46e9-bbfc-f8b8b4a8f217\">StandardScaler</label><div class=\"sk-toggleable__content\"><pre>StandardScaler()</pre></div></div></div><div class=\"sk-item\"><div class=\"sk-estimator sk-toggleable\"><input class=\"sk-toggleable__control sk-hidden--visually\" id=\"f00be363-9b0f-4340-8791-653ff8de24c9\" type=\"checkbox\" ><label class=\"sk-toggleable__label\" for=\"f00be363-9b0f-4340-8791-653ff8de24c9\">LogisticRegression</label><div class=\"sk-toggleable__content\"><pre>LogisticRegression()</pre></div></div></div></div></div></div></div>"
      ],
      "text/plain": [
       "Pipeline(steps=[('standardscaler', StandardScaler()),\n",
       "                ('logisticregression', LogisticRegression())])"
      ]
     },
     "execution_count": 29,
     "metadata": {},
     "output_type": "execute_result"
    }
   ],
   "source": [
    "pipe = make_pipeline(StandardScaler(), LogisticRegression())\n",
    "pipe.fit(X, y)"
   ]
  },
  {
   "cell_type": "code",
   "execution_count": 30,
   "id": "948a4232",
   "metadata": {},
   "outputs": [
    {
     "data": {
      "text/plain": [
       "array([13], dtype=int32)"
      ]
     },
     "execution_count": 30,
     "metadata": {},
     "output_type": "execute_result"
    }
   ],
   "source": [
    "pipe[-1].n_iter_"
   ]
  },
  {
   "cell_type": "markdown",
   "id": "a343f2cc-dbe1-4de1-b335-f0172c6a3790",
   "metadata": {},
   "source": [
    "<div class=\"alert alert-success\">\n",
    "    <p><b>EXERCISE</b>:</p>\n",
    "    What is the impact of using a scaler on the coefficient?\n",
    "</div>"
   ]
  },
  {
   "cell_type": "code",
   "execution_count": 31,
   "id": "dbeee109",
   "metadata": {},
   "outputs": [
    {
     "data": {
      "image/png": "[encoded data removed]",
      "text/plain": [
       "<Figure size 432x288 with 1 Axes>"
      ]
     },
     "metadata": {
      "needs_background": "light"
     },
     "output_type": "display_data"
    }
   ],
   "source": [
    "coef = pd.Series(model.coef_[0], index=X.columns)\n",
    "_ = coef.plot.barh()"
   ]
  },
  {
   "cell_type": "code",
   "execution_count": 32,
   "id": "28df6f95",
   "metadata": {},
   "outputs": [
    {
     "data": {
      "image/png": "[encoded data removed]",
      "text/plain": [
       "<Figure size 432x288 with 1 Axes>"
      ]
     },
     "metadata": {
      "needs_background": "light"
     },
     "output_type": "display_data"
    }
   ],
   "source": [
    "coef = pd.Series(pipe[-1].coef_[0], index=X.columns)\n",
    "_ = coef.plot.barh()"
   ]
  }
 ],
 "metadata": {
  "kernelspec": {
   "display_name": "Python 3 (ipykernel)",
   "language": "python",
   "name": "python3"
  },
  "language_info": {
   "codemirror_mode": {
    "name": "ipython",
    "version": 3
   },
   "file_extension": ".py",
   "mimetype": "text/x-python",
   "name": "python",
   "nbconvert_exporter": "python",
   "pygments_lexer": "ipython3",
   "version": "3.8.12"
  }
 },
 "nbformat": 4,
 "nbformat_minor": 5
}
