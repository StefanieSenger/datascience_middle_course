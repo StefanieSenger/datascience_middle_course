{
 "cells": [
  {
   "cell_type": "code",
   "execution_count": 1,
   "id": "355d294d-691d-4035-bca3-c088d87fa0b7",
   "metadata": {},
   "outputs": [],
   "source": [
    "# temporary fix to avoid spurious warning raised in scikit-learn 1.0.0\n",
    "# it will be solved in scikit-learn 1.0.1\n",
    "import warnings\n",
    "warnings.filterwarnings(\"ignore\", message=\"X has feature names.*\")\n",
    "warnings.filterwarnings(\"ignore\", message=\"X does not have valid feature names.*\")"
   ]
  },
  {
   "cell_type": "code",
   "execution_count": 2,
   "id": "6a595eda",
   "metadata": {},
   "outputs": [],
   "source": [
    "import pandas as pd\n",
    "\n",
    "data = pd.read_csv(\"../datasets/penguins_classification.csv\")\n",
    "target_name = \"Species\"\n",
    "X = data.drop(columns=target_name)\n",
    "y = data[target_name]"
   ]
  },
  {
   "cell_type": "code",
   "execution_count": 3,
   "id": "cb2c7241",
   "metadata": {},
   "outputs": [
    {
     "data": {
      "text/html": [
       "<div>\n",
       "<style scoped>\n",
       "    .dataframe tbody tr th:only-of-type {\n",
       "        vertical-align: middle;\n",
       "    }\n",
       "\n",
       "    .dataframe tbody tr th {\n",
       "        vertical-align: top;\n",
       "    }\n",
       "\n",
       "    .dataframe thead th {\n",
       "        text-align: right;\n",
       "    }\n",
       "</style>\n",
       "<table border=\"1\" class=\"dataframe\">\n",
       "  <thead>\n",
       "    <tr style=\"text-align: right;\">\n",
       "      <th></th>\n",
       "      <th>Culmen Length (mm)</th>\n",
       "      <th>Culmen Depth (mm)</th>\n",
       "    </tr>\n",
       "  </thead>\n",
       "  <tbody>\n",
       "    <tr>\n",
       "      <th>306</th>\n",
       "      <td>42.5</td>\n",
       "      <td>16.7</td>\n",
       "    </tr>\n",
       "    <tr>\n",
       "      <th>101</th>\n",
       "      <td>37.7</td>\n",
       "      <td>16.0</td>\n",
       "    </tr>\n",
       "    <tr>\n",
       "      <th>153</th>\n",
       "      <td>48.7</td>\n",
       "      <td>14.1</td>\n",
       "    </tr>\n",
       "    <tr>\n",
       "      <th>341</th>\n",
       "      <td>50.2</td>\n",
       "      <td>18.7</td>\n",
       "    </tr>\n",
       "    <tr>\n",
       "      <th>81</th>\n",
       "      <td>36.7</td>\n",
       "      <td>18.8</td>\n",
       "    </tr>\n",
       "  </tbody>\n",
       "</table>\n",
       "</div>"
      ],
      "text/plain": [
       "     Culmen Length (mm)  Culmen Depth (mm)\n",
       "306                42.5               16.7\n",
       "101                37.7               16.0\n",
       "153                48.7               14.1\n",
       "341                50.2               18.7\n",
       "81                 36.7               18.8"
      ]
     },
     "execution_count": 3,
     "metadata": {},
     "output_type": "execute_result"
    }
   ],
   "source": [
    "from sklearn.model_selection import train_test_split\n",
    "\n",
    "X_train, X_test, y_train, y_test = train_test_split(\n",
    "    X, y, random_state=0\n",
    ")\n",
    "X_train.head()"
   ]
  },
  {
   "cell_type": "code",
   "execution_count": 4,
   "id": "15a62475",
   "metadata": {},
   "outputs": [
    {
     "data": {
      "text/plain": [
       "0.9767441860465116"
      ]
     },
     "execution_count": 4,
     "metadata": {},
     "output_type": "execute_result"
    }
   ],
   "source": [
    "from sklearn.linear_model import LogisticRegression\n",
    "\n",
    "model = LogisticRegression()\n",
    "model.fit(X_train, y_train)\n",
    "model.score(X_test, y_test)"
   ]
  },
  {
   "cell_type": "code",
   "execution_count": 5,
   "id": "297449a1",
   "metadata": {},
   "outputs": [
    {
     "data": {
      "text/plain": [
       "array([74], dtype=int32)"
      ]
     },
     "execution_count": 5,
     "metadata": {},
     "output_type": "execute_result"
    }
   ],
   "source": [
    "model.n_iter_"
   ]
  },
  {
   "cell_type": "code",
   "execution_count": 9,
   "id": "58571235",
   "metadata": {},
   "outputs": [
    {
     "data": {
      "text/html": [
       "<div>\n",
       "<style scoped>\n",
       "    .dataframe tbody tr th:only-of-type {\n",
       "        vertical-align: middle;\n",
       "    }\n",
       "\n",
       "    .dataframe tbody tr th {\n",
       "        vertical-align: top;\n",
       "    }\n",
       "\n",
       "    .dataframe thead th {\n",
       "        text-align: right;\n",
       "    }\n",
       "</style>\n",
       "<table border=\"1\" class=\"dataframe\">\n",
       "  <thead>\n",
       "    <tr style=\"text-align: right;\">\n",
       "      <th></th>\n",
       "      <th>Culmen Length (mm)</th>\n",
       "      <th>Culmen Depth (mm)</th>\n",
       "    </tr>\n",
       "  </thead>\n",
       "  <tbody>\n",
       "    <tr>\n",
       "      <th>0</th>\n",
       "      <td>-0.296655</td>\n",
       "      <td>-0.179780</td>\n",
       "    </tr>\n",
       "    <tr>\n",
       "      <th>1</th>\n",
       "      <td>-1.177588</td>\n",
       "      <td>-0.542581</td>\n",
       "    </tr>\n",
       "    <tr>\n",
       "      <th>2</th>\n",
       "      <td>0.841216</td>\n",
       "      <td>-1.527324</td>\n",
       "    </tr>\n",
       "    <tr>\n",
       "      <th>3</th>\n",
       "      <td>1.116508</td>\n",
       "      <td>0.856792</td>\n",
       "    </tr>\n",
       "    <tr>\n",
       "      <th>4</th>\n",
       "      <td>-1.361115</td>\n",
       "      <td>0.908620</td>\n",
       "    </tr>\n",
       "  </tbody>\n",
       "</table>\n",
       "</div>"
      ],
      "text/plain": [
       "   Culmen Length (mm)  Culmen Depth (mm)\n",
       "0           -0.296655          -0.179780\n",
       "1           -1.177588          -0.542581\n",
       "2            0.841216          -1.527324\n",
       "3            1.116508           0.856792\n",
       "4           -1.361115           0.908620"
      ]
     },
     "execution_count": 9,
     "metadata": {},
     "output_type": "execute_result"
    }
   ],
   "source": [
    "from sklearn.preprocessing import StandardScaler\n",
    "\n",
    "scaler = StandardScaler()\n",
    "scaler.fit(X_train)\n",
    "X_train_scaled = scaler.transform(X_train)\n",
    "X_train_scaled = pd.DataFrame(X_train_scaled, columns=X_train.columns)\n",
    "X_train_scaled.head()"
   ]
  },
  {
   "cell_type": "code",
   "execution_count": 10,
   "id": "e7f8d47a",
   "metadata": {},
   "outputs": [
    {
     "data": {
      "text/plain": [
       "(Culmen Length (mm)    44.116406\n",
       " Culmen Depth (mm)     17.046875\n",
       " dtype: float64,\n",
       " Culmen Length (mm)    5.620504e-16\n",
       " Culmen Depth (mm)     5.898060e-17\n",
       " dtype: float64)"
      ]
     },
     "execution_count": 10,
     "metadata": {},
     "output_type": "execute_result"
    }
   ],
   "source": [
    "X_train.mean(), X_train_scaled.mean()"
   ]
  },
  {
   "cell_type": "code",
   "execution_count": 11,
   "id": "80247c9e",
   "metadata": {},
   "outputs": [
    {
     "data": {
      "text/plain": [
       "(Culmen Length (mm)    5.459444\n",
       " Culmen Depth (mm)     1.933216\n",
       " dtype: float64,\n",
       " Culmen Length (mm)    1.001959\n",
       " Culmen Depth (mm)     1.001959\n",
       " dtype: float64)"
      ]
     },
     "execution_count": 11,
     "metadata": {},
     "output_type": "execute_result"
    }
   ],
   "source": [
    "X_train.std(), X_train_scaled.std()"
   ]
  },
  {
   "cell_type": "code",
   "execution_count": 12,
   "id": "eeecb6d1",
   "metadata": {},
   "outputs": [
    {
     "data": {
      "text/plain": [
       "array([14], dtype=int32)"
      ]
     },
     "execution_count": 12,
     "metadata": {},
     "output_type": "execute_result"
    }
   ],
   "source": [
    "model.fit(X_train_scaled, y_train)\n",
    "model.n_iter_"
   ]
  },
  {
   "cell_type": "code",
   "execution_count": 13,
   "id": "df78812e",
   "metadata": {},
   "outputs": [
    {
     "data": {
      "text/plain": [
       "0.9883720930232558"
      ]
     },
     "execution_count": 13,
     "metadata": {},
     "output_type": "execute_result"
    }
   ],
   "source": [
    "X_test_scaled = scaler.transform(X_test)\n",
    "model.score(X_test_scaled, y_test)"
   ]
  },
  {
   "cell_type": "code",
   "execution_count": 14,
   "id": "4cb42b08",
   "metadata": {},
   "outputs": [],
   "source": [
    "import sklearn\n",
    "\n",
    "sklearn.set_config(display=\"diagram\")"
   ]
  },
  {
   "cell_type": "code",
   "execution_count": 15,
   "id": "60eb86ec",
   "metadata": {},
   "outputs": [
    {
     "data": {
      "text/html": [
       "<style>#sk-1f86d776-b4b4-4478-876f-63b31c2a86b7 {color: black;background-color: white;}#sk-1f86d776-b4b4-4478-876f-63b31c2a86b7 pre{padding: 0;}#sk-1f86d776-b4b4-4478-876f-63b31c2a86b7 div.sk-toggleable {background-color: white;}#sk-1f86d776-b4b4-4478-876f-63b31c2a86b7 label.sk-toggleable__label {cursor: pointer;display: block;width: 100%;margin-bottom: 0;padding: 0.3em;box-sizing: border-box;text-align: center;}#sk-1f86d776-b4b4-4478-876f-63b31c2a86b7 div.sk-toggleable__content {max-height: 0;max-width: 0;overflow: hidden;text-align: left;background-color: #f0f8ff;}#sk-1f86d776-b4b4-4478-876f-63b31c2a86b7 div.sk-toggleable__content pre {margin: 0.2em;color: black;border-radius: 0.25em;background-color: #f0f8ff;}#sk-1f86d776-b4b4-4478-876f-63b31c2a86b7 input.sk-toggleable__control:checked~div.sk-toggleable__content {max-height: 200px;max-width: 100%;overflow: auto;}#sk-1f86d776-b4b4-4478-876f-63b31c2a86b7 div.sk-estimator input.sk-toggleable__control:checked~label.sk-toggleable__label {background-color: #d4ebff;}#sk-1f86d776-b4b4-4478-876f-63b31c2a86b7 div.sk-label input.sk-toggleable__control:checked~label.sk-toggleable__label {background-color: #d4ebff;}#sk-1f86d776-b4b4-4478-876f-63b31c2a86b7 input.sk-hidden--visually {border: 0;clip: rect(1px 1px 1px 1px);clip: rect(1px, 1px, 1px, 1px);height: 1px;margin: -1px;overflow: hidden;padding: 0;position: absolute;width: 1px;}#sk-1f86d776-b4b4-4478-876f-63b31c2a86b7 div.sk-estimator {font-family: monospace;background-color: #f0f8ff;border: 1px dotted black;border-radius: 0.25em;box-sizing: border-box;margin-bottom: 0.5em;}#sk-1f86d776-b4b4-4478-876f-63b31c2a86b7 div.sk-estimator:hover {background-color: #d4ebff;}#sk-1f86d776-b4b4-4478-876f-63b31c2a86b7 div.sk-parallel-item::after {content: \"\";width: 100%;border-bottom: 1px solid gray;flex-grow: 1;}#sk-1f86d776-b4b4-4478-876f-63b31c2a86b7 div.sk-label:hover label.sk-toggleable__label {background-color: #d4ebff;}#sk-1f86d776-b4b4-4478-876f-63b31c2a86b7 div.sk-serial::before {content: \"\";position: absolute;border-left: 1px solid gray;box-sizing: border-box;top: 2em;bottom: 0;left: 50%;}#sk-1f86d776-b4b4-4478-876f-63b31c2a86b7 div.sk-serial {display: flex;flex-direction: column;align-items: center;background-color: white;padding-right: 0.2em;padding-left: 0.2em;}#sk-1f86d776-b4b4-4478-876f-63b31c2a86b7 div.sk-item {z-index: 1;}#sk-1f86d776-b4b4-4478-876f-63b31c2a86b7 div.sk-parallel {display: flex;align-items: stretch;justify-content: center;background-color: white;}#sk-1f86d776-b4b4-4478-876f-63b31c2a86b7 div.sk-parallel::before {content: \"\";position: absolute;border-left: 1px solid gray;box-sizing: border-box;top: 2em;bottom: 0;left: 50%;}#sk-1f86d776-b4b4-4478-876f-63b31c2a86b7 div.sk-parallel-item {display: flex;flex-direction: column;position: relative;background-color: white;}#sk-1f86d776-b4b4-4478-876f-63b31c2a86b7 div.sk-parallel-item:first-child::after {align-self: flex-end;width: 50%;}#sk-1f86d776-b4b4-4478-876f-63b31c2a86b7 div.sk-parallel-item:last-child::after {align-self: flex-start;width: 50%;}#sk-1f86d776-b4b4-4478-876f-63b31c2a86b7 div.sk-parallel-item:only-child::after {width: 0;}#sk-1f86d776-b4b4-4478-876f-63b31c2a86b7 div.sk-dashed-wrapped {border: 1px dashed gray;margin: 0 0.4em 0.5em 0.4em;box-sizing: border-box;padding-bottom: 0.4em;background-color: white;position: relative;}#sk-1f86d776-b4b4-4478-876f-63b31c2a86b7 div.sk-label label {font-family: monospace;font-weight: bold;background-color: white;display: inline-block;line-height: 1.2em;}#sk-1f86d776-b4b4-4478-876f-63b31c2a86b7 div.sk-label-container {position: relative;z-index: 2;text-align: center;}#sk-1f86d776-b4b4-4478-876f-63b31c2a86b7 div.sk-container {display: inline-block;position: relative;}</style><div id=\"sk-1f86d776-b4b4-4478-876f-63b31c2a86b7\" class\"sk-top-container\"><div class=\"sk-container\"><div class=\"sk-item sk-dashed-wrapped\"><div class=\"sk-label-container\"><div class=\"sk-label sk-toggleable\"><input class=\"sk-toggleable__control sk-hidden--visually\" id=\"0c388fd7-0ed9-4e71-8280-dbcdc5e30ca1\" type=\"checkbox\" ><label class=\"sk-toggleable__label\" for=\"0c388fd7-0ed9-4e71-8280-dbcdc5e30ca1\">Pipeline</label><div class=\"sk-toggleable__content\"><pre>Pipeline(steps=[('standardscaler', StandardScaler()),\n",
       "                ('logisticregression', LogisticRegression())])</pre></div></div></div><div class=\"sk-serial\"><div class=\"sk-item\"><div class=\"sk-estimator sk-toggleable\"><input class=\"sk-toggleable__control sk-hidden--visually\" id=\"1bc3918a-a390-43e4-a9b0-9f368eff1a9d\" type=\"checkbox\" ><label class=\"sk-toggleable__label\" for=\"1bc3918a-a390-43e4-a9b0-9f368eff1a9d\">StandardScaler</label><div class=\"sk-toggleable__content\"><pre>StandardScaler()</pre></div></div></div><div class=\"sk-item\"><div class=\"sk-estimator sk-toggleable\"><input class=\"sk-toggleable__control sk-hidden--visually\" id=\"af8edcc0-deae-46a9-9f4e-853e8cd0de2b\" type=\"checkbox\" ><label class=\"sk-toggleable__label\" for=\"af8edcc0-deae-46a9-9f4e-853e8cd0de2b\">LogisticRegression</label><div class=\"sk-toggleable__content\"><pre>LogisticRegression()</pre></div></div></div></div></div></div></div>"
      ],
      "text/plain": [
       "Pipeline(steps=[('standardscaler', StandardScaler()),\n",
       "                ('logisticregression', LogisticRegression())])"
      ]
     },
     "execution_count": 15,
     "metadata": {},
     "output_type": "execute_result"
    }
   ],
   "source": [
    "from sklearn.preprocessing import StandardScaler\n",
    "from sklearn.pipeline import make_pipeline\n",
    "\n",
    "model = make_pipeline(StandardScaler(), LogisticRegression())\n",
    "model.fit(X_train, y_train)"
   ]
  },
  {
   "cell_type": "code",
   "execution_count": 16,
   "id": "d0fcabbf",
   "metadata": {},
   "outputs": [
    {
     "data": {
      "text/plain": [
       "0.9883720930232558"
      ]
     },
     "execution_count": 16,
     "metadata": {},
     "output_type": "execute_result"
    }
   ],
   "source": [
    "model.score(X_test, y_test)"
   ]
  },
  {
   "cell_type": "code",
   "execution_count": 17,
   "id": "e69e7cf9",
   "metadata": {},
   "outputs": [
    {
     "data": {
      "text/plain": [
       "array([14], dtype=int32)"
      ]
     },
     "execution_count": 17,
     "metadata": {},
     "output_type": "execute_result"
    }
   ],
   "source": [
    "model[-1].n_iter_"
   ]
  },
  {
   "cell_type": "code",
   "execution_count": 18,
   "id": "03a2820f",
   "metadata": {},
   "outputs": [
    {
     "data": {
      "text/html": [
       "<div>\n",
       "<style scoped>\n",
       "    .dataframe tbody tr th:only-of-type {\n",
       "        vertical-align: middle;\n",
       "    }\n",
       "\n",
       "    .dataframe tbody tr th {\n",
       "        vertical-align: top;\n",
       "    }\n",
       "\n",
       "    .dataframe thead th {\n",
       "        text-align: right;\n",
       "    }\n",
       "</style>\n",
       "<table border=\"1\" class=\"dataframe\">\n",
       "  <thead>\n",
       "    <tr style=\"text-align: right;\">\n",
       "      <th></th>\n",
       "      <th>age</th>\n",
       "      <th>education-num</th>\n",
       "      <th>capital-gain</th>\n",
       "      <th>capital-loss</th>\n",
       "      <th>hours-per-week</th>\n",
       "      <th>class</th>\n",
       "    </tr>\n",
       "  </thead>\n",
       "  <tbody>\n",
       "    <tr>\n",
       "      <th>0</th>\n",
       "      <td>25</td>\n",
       "      <td>7</td>\n",
       "      <td>0</td>\n",
       "      <td>0</td>\n",
       "      <td>40</td>\n",
       "      <td>&lt;=50K</td>\n",
       "    </tr>\n",
       "    <tr>\n",
       "      <th>1</th>\n",
       "      <td>38</td>\n",
       "      <td>9</td>\n",
       "      <td>0</td>\n",
       "      <td>0</td>\n",
       "      <td>50</td>\n",
       "      <td>&lt;=50K</td>\n",
       "    </tr>\n",
       "    <tr>\n",
       "      <th>2</th>\n",
       "      <td>28</td>\n",
       "      <td>12</td>\n",
       "      <td>0</td>\n",
       "      <td>0</td>\n",
       "      <td>40</td>\n",
       "      <td>&gt;50K</td>\n",
       "    </tr>\n",
       "    <tr>\n",
       "      <th>3</th>\n",
       "      <td>44</td>\n",
       "      <td>10</td>\n",
       "      <td>7688</td>\n",
       "      <td>0</td>\n",
       "      <td>40</td>\n",
       "      <td>&gt;50K</td>\n",
       "    </tr>\n",
       "    <tr>\n",
       "      <th>4</th>\n",
       "      <td>18</td>\n",
       "      <td>10</td>\n",
       "      <td>0</td>\n",
       "      <td>0</td>\n",
       "      <td>30</td>\n",
       "      <td>&lt;=50K</td>\n",
       "    </tr>\n",
       "  </tbody>\n",
       "</table>\n",
       "</div>"
      ],
      "text/plain": [
       "   age  education-num  capital-gain  capital-loss  hours-per-week   class\n",
       "0   25              7             0             0              40   <=50K\n",
       "1   38              9             0             0              50   <=50K\n",
       "2   28             12             0             0              40    >50K\n",
       "3   44             10          7688             0              40    >50K\n",
       "4   18             10             0             0              30   <=50K"
      ]
     },
     "execution_count": 18,
     "metadata": {},
     "output_type": "execute_result"
    }
   ],
   "source": [
    "data = pd.read_csv(\"../datasets/adult-census-numeric-all.csv\")\n",
    "data.head()"
   ]
  },
  {
   "cell_type": "code",
   "execution_count": 19,
   "id": "0fcaecc8",
   "metadata": {},
   "outputs": [],
   "source": [
    "target_name = \"class\"\n",
    "X = data.drop(columns=target_name)\n",
    "y = data[target_name]"
   ]
  },
  {
   "cell_type": "code",
   "execution_count": 20,
   "id": "1e599906",
   "metadata": {},
   "outputs": [
    {
     "name": "stderr",
     "output_type": "stream",
     "text": [
      "/Users/glemaitre/mambaforge/envs/teaching/lib/python3.8/site-packages/sklearn/linear_model/_logistic.py:814: ConvergenceWarning: lbfgs failed to converge (status=1):\n",
      "STOP: TOTAL NO. of ITERATIONS REACHED LIMIT.\n",
      "\n",
      "Increase the number of iterations (max_iter) or scale the data as shown in:\n",
      "    https://scikit-learn.org/stable/modules/preprocessing.html\n",
      "Please also refer to the documentation for alternative solver options:\n",
      "    https://scikit-learn.org/stable/modules/linear_model.html#logistic-regression\n",
      "  n_iter_i = _check_optimize_result(\n"
     ]
    },
    {
     "data": {
      "text/html": [
       "<style>#sk-2f5cd09b-5524-400e-8d14-f00f0fdd3062 {color: black;background-color: white;}#sk-2f5cd09b-5524-400e-8d14-f00f0fdd3062 pre{padding: 0;}#sk-2f5cd09b-5524-400e-8d14-f00f0fdd3062 div.sk-toggleable {background-color: white;}#sk-2f5cd09b-5524-400e-8d14-f00f0fdd3062 label.sk-toggleable__label {cursor: pointer;display: block;width: 100%;margin-bottom: 0;padding: 0.3em;box-sizing: border-box;text-align: center;}#sk-2f5cd09b-5524-400e-8d14-f00f0fdd3062 div.sk-toggleable__content {max-height: 0;max-width: 0;overflow: hidden;text-align: left;background-color: #f0f8ff;}#sk-2f5cd09b-5524-400e-8d14-f00f0fdd3062 div.sk-toggleable__content pre {margin: 0.2em;color: black;border-radius: 0.25em;background-color: #f0f8ff;}#sk-2f5cd09b-5524-400e-8d14-f00f0fdd3062 input.sk-toggleable__control:checked~div.sk-toggleable__content {max-height: 200px;max-width: 100%;overflow: auto;}#sk-2f5cd09b-5524-400e-8d14-f00f0fdd3062 div.sk-estimator input.sk-toggleable__control:checked~label.sk-toggleable__label {background-color: #d4ebff;}#sk-2f5cd09b-5524-400e-8d14-f00f0fdd3062 div.sk-label input.sk-toggleable__control:checked~label.sk-toggleable__label {background-color: #d4ebff;}#sk-2f5cd09b-5524-400e-8d14-f00f0fdd3062 input.sk-hidden--visually {border: 0;clip: rect(1px 1px 1px 1px);clip: rect(1px, 1px, 1px, 1px);height: 1px;margin: -1px;overflow: hidden;padding: 0;position: absolute;width: 1px;}#sk-2f5cd09b-5524-400e-8d14-f00f0fdd3062 div.sk-estimator {font-family: monospace;background-color: #f0f8ff;border: 1px dotted black;border-radius: 0.25em;box-sizing: border-box;margin-bottom: 0.5em;}#sk-2f5cd09b-5524-400e-8d14-f00f0fdd3062 div.sk-estimator:hover {background-color: #d4ebff;}#sk-2f5cd09b-5524-400e-8d14-f00f0fdd3062 div.sk-parallel-item::after {content: \"\";width: 100%;border-bottom: 1px solid gray;flex-grow: 1;}#sk-2f5cd09b-5524-400e-8d14-f00f0fdd3062 div.sk-label:hover label.sk-toggleable__label {background-color: #d4ebff;}#sk-2f5cd09b-5524-400e-8d14-f00f0fdd3062 div.sk-serial::before {content: \"\";position: absolute;border-left: 1px solid gray;box-sizing: border-box;top: 2em;bottom: 0;left: 50%;}#sk-2f5cd09b-5524-400e-8d14-f00f0fdd3062 div.sk-serial {display: flex;flex-direction: column;align-items: center;background-color: white;padding-right: 0.2em;padding-left: 0.2em;}#sk-2f5cd09b-5524-400e-8d14-f00f0fdd3062 div.sk-item {z-index: 1;}#sk-2f5cd09b-5524-400e-8d14-f00f0fdd3062 div.sk-parallel {display: flex;align-items: stretch;justify-content: center;background-color: white;}#sk-2f5cd09b-5524-400e-8d14-f00f0fdd3062 div.sk-parallel::before {content: \"\";position: absolute;border-left: 1px solid gray;box-sizing: border-box;top: 2em;bottom: 0;left: 50%;}#sk-2f5cd09b-5524-400e-8d14-f00f0fdd3062 div.sk-parallel-item {display: flex;flex-direction: column;position: relative;background-color: white;}#sk-2f5cd09b-5524-400e-8d14-f00f0fdd3062 div.sk-parallel-item:first-child::after {align-self: flex-end;width: 50%;}#sk-2f5cd09b-5524-400e-8d14-f00f0fdd3062 div.sk-parallel-item:last-child::after {align-self: flex-start;width: 50%;}#sk-2f5cd09b-5524-400e-8d14-f00f0fdd3062 div.sk-parallel-item:only-child::after {width: 0;}#sk-2f5cd09b-5524-400e-8d14-f00f0fdd3062 div.sk-dashed-wrapped {border: 1px dashed gray;margin: 0 0.4em 0.5em 0.4em;box-sizing: border-box;padding-bottom: 0.4em;background-color: white;position: relative;}#sk-2f5cd09b-5524-400e-8d14-f00f0fdd3062 div.sk-label label {font-family: monospace;font-weight: bold;background-color: white;display: inline-block;line-height: 1.2em;}#sk-2f5cd09b-5524-400e-8d14-f00f0fdd3062 div.sk-label-container {position: relative;z-index: 2;text-align: center;}#sk-2f5cd09b-5524-400e-8d14-f00f0fdd3062 div.sk-container {display: inline-block;position: relative;}</style><div id=\"sk-2f5cd09b-5524-400e-8d14-f00f0fdd3062\" class\"sk-top-container\"><div class=\"sk-container\"><div class=\"sk-item\"><div class=\"sk-estimator sk-toggleable\"><input class=\"sk-toggleable__control sk-hidden--visually\" id=\"81439c91-49ae-4f96-9cfb-97fdc8d5cda8\" type=\"checkbox\" checked><label class=\"sk-toggleable__label\" for=\"81439c91-49ae-4f96-9cfb-97fdc8d5cda8\">LogisticRegression</label><div class=\"sk-toggleable__content\"><pre>LogisticRegression(max_iter=50)</pre></div></div></div></div></div>"
      ],
      "text/plain": [
       "LogisticRegression(max_iter=50)"
      ]
     },
     "execution_count": 20,
     "metadata": {},
     "output_type": "execute_result"
    }
   ],
   "source": [
    "model = LogisticRegression(max_iter=50)\n",
    "model.fit(X, y)"
   ]
  },
  {
   "cell_type": "code",
   "execution_count": 21,
   "id": "796ef774",
   "metadata": {},
   "outputs": [
    {
     "data": {
      "text/html": [
       "<style>#sk-f6f6f45f-1fc4-4830-912f-cc115fdfbf9f {color: black;background-color: white;}#sk-f6f6f45f-1fc4-4830-912f-cc115fdfbf9f pre{padding: 0;}#sk-f6f6f45f-1fc4-4830-912f-cc115fdfbf9f div.sk-toggleable {background-color: white;}#sk-f6f6f45f-1fc4-4830-912f-cc115fdfbf9f label.sk-toggleable__label {cursor: pointer;display: block;width: 100%;margin-bottom: 0;padding: 0.3em;box-sizing: border-box;text-align: center;}#sk-f6f6f45f-1fc4-4830-912f-cc115fdfbf9f div.sk-toggleable__content {max-height: 0;max-width: 0;overflow: hidden;text-align: left;background-color: #f0f8ff;}#sk-f6f6f45f-1fc4-4830-912f-cc115fdfbf9f div.sk-toggleable__content pre {margin: 0.2em;color: black;border-radius: 0.25em;background-color: #f0f8ff;}#sk-f6f6f45f-1fc4-4830-912f-cc115fdfbf9f input.sk-toggleable__control:checked~div.sk-toggleable__content {max-height: 200px;max-width: 100%;overflow: auto;}#sk-f6f6f45f-1fc4-4830-912f-cc115fdfbf9f div.sk-estimator input.sk-toggleable__control:checked~label.sk-toggleable__label {background-color: #d4ebff;}#sk-f6f6f45f-1fc4-4830-912f-cc115fdfbf9f div.sk-label input.sk-toggleable__control:checked~label.sk-toggleable__label {background-color: #d4ebff;}#sk-f6f6f45f-1fc4-4830-912f-cc115fdfbf9f input.sk-hidden--visually {border: 0;clip: rect(1px 1px 1px 1px);clip: rect(1px, 1px, 1px, 1px);height: 1px;margin: -1px;overflow: hidden;padding: 0;position: absolute;width: 1px;}#sk-f6f6f45f-1fc4-4830-912f-cc115fdfbf9f div.sk-estimator {font-family: monospace;background-color: #f0f8ff;border: 1px dotted black;border-radius: 0.25em;box-sizing: border-box;margin-bottom: 0.5em;}#sk-f6f6f45f-1fc4-4830-912f-cc115fdfbf9f div.sk-estimator:hover {background-color: #d4ebff;}#sk-f6f6f45f-1fc4-4830-912f-cc115fdfbf9f div.sk-parallel-item::after {content: \"\";width: 100%;border-bottom: 1px solid gray;flex-grow: 1;}#sk-f6f6f45f-1fc4-4830-912f-cc115fdfbf9f div.sk-label:hover label.sk-toggleable__label {background-color: #d4ebff;}#sk-f6f6f45f-1fc4-4830-912f-cc115fdfbf9f div.sk-serial::before {content: \"\";position: absolute;border-left: 1px solid gray;box-sizing: border-box;top: 2em;bottom: 0;left: 50%;}#sk-f6f6f45f-1fc4-4830-912f-cc115fdfbf9f div.sk-serial {display: flex;flex-direction: column;align-items: center;background-color: white;padding-right: 0.2em;padding-left: 0.2em;}#sk-f6f6f45f-1fc4-4830-912f-cc115fdfbf9f div.sk-item {z-index: 1;}#sk-f6f6f45f-1fc4-4830-912f-cc115fdfbf9f div.sk-parallel {display: flex;align-items: stretch;justify-content: center;background-color: white;}#sk-f6f6f45f-1fc4-4830-912f-cc115fdfbf9f div.sk-parallel::before {content: \"\";position: absolute;border-left: 1px solid gray;box-sizing: border-box;top: 2em;bottom: 0;left: 50%;}#sk-f6f6f45f-1fc4-4830-912f-cc115fdfbf9f div.sk-parallel-item {display: flex;flex-direction: column;position: relative;background-color: white;}#sk-f6f6f45f-1fc4-4830-912f-cc115fdfbf9f div.sk-parallel-item:first-child::after {align-self: flex-end;width: 50%;}#sk-f6f6f45f-1fc4-4830-912f-cc115fdfbf9f div.sk-parallel-item:last-child::after {align-self: flex-start;width: 50%;}#sk-f6f6f45f-1fc4-4830-912f-cc115fdfbf9f div.sk-parallel-item:only-child::after {width: 0;}#sk-f6f6f45f-1fc4-4830-912f-cc115fdfbf9f div.sk-dashed-wrapped {border: 1px dashed gray;margin: 0 0.4em 0.5em 0.4em;box-sizing: border-box;padding-bottom: 0.4em;background-color: white;position: relative;}#sk-f6f6f45f-1fc4-4830-912f-cc115fdfbf9f div.sk-label label {font-family: monospace;font-weight: bold;background-color: white;display: inline-block;line-height: 1.2em;}#sk-f6f6f45f-1fc4-4830-912f-cc115fdfbf9f div.sk-label-container {position: relative;z-index: 2;text-align: center;}#sk-f6f6f45f-1fc4-4830-912f-cc115fdfbf9f div.sk-container {display: inline-block;position: relative;}</style><div id=\"sk-f6f6f45f-1fc4-4830-912f-cc115fdfbf9f\" class\"sk-top-container\"><div class=\"sk-container\"><div class=\"sk-item\"><div class=\"sk-estimator sk-toggleable\"><input class=\"sk-toggleable__control sk-hidden--visually\" id=\"6583ee28-2e68-4d8e-af3f-14809941c3b1\" type=\"checkbox\" checked><label class=\"sk-toggleable__label\" for=\"6583ee28-2e68-4d8e-af3f-14809941c3b1\">LogisticRegression</label><div class=\"sk-toggleable__content\"><pre>LogisticRegression(max_iter=1000)</pre></div></div></div></div></div>"
      ],
      "text/plain": [
       "LogisticRegression(max_iter=1000)"
      ]
     },
     "execution_count": 21,
     "metadata": {},
     "output_type": "execute_result"
    }
   ],
   "source": [
    "model.set_params(max_iter=1_000)\n",
    "model.fit(X, y)"
   ]
  },
  {
   "cell_type": "code",
   "execution_count": 22,
   "id": "3638f984",
   "metadata": {},
   "outputs": [
    {
     "data": {
      "text/plain": [
       "array([100], dtype=int32)"
      ]
     },
     "execution_count": 22,
     "metadata": {},
     "output_type": "execute_result"
    }
   ],
   "source": [
    "model.n_iter_"
   ]
  },
  {
   "cell_type": "code",
   "execution_count": 23,
   "id": "90ab9cae",
   "metadata": {},
   "outputs": [],
   "source": [
    "import seaborn as sns\n",
    "sns.set_context(\"poster\")"
   ]
  },
  {
   "cell_type": "code",
   "execution_count": 24,
   "id": "dbeee109",
   "metadata": {},
   "outputs": [
    {
     "data": {
      "image/png": "[encoded data removed]",
      "text/plain": [
       "<Figure size 432x288 with 1 Axes>"
      ]
     },
     "metadata": {
      "needs_background": "light"
     },
     "output_type": "display_data"
    }
   ],
   "source": [
    "coef = pd.Series(model.coef_[0], index=X.columns)\n",
    "_ = coef.plot.barh()"
   ]
  },
  {
   "cell_type": "code",
   "execution_count": 25,
   "id": "9dda2212",
   "metadata": {},
   "outputs": [
    {
     "data": {
      "text/html": [
       "<style>#sk-688c8fa7-bc5f-4938-9c15-8ae3a25dfe07 {color: black;background-color: white;}#sk-688c8fa7-bc5f-4938-9c15-8ae3a25dfe07 pre{padding: 0;}#sk-688c8fa7-bc5f-4938-9c15-8ae3a25dfe07 div.sk-toggleable {background-color: white;}#sk-688c8fa7-bc5f-4938-9c15-8ae3a25dfe07 label.sk-toggleable__label {cursor: pointer;display: block;width: 100%;margin-bottom: 0;padding: 0.3em;box-sizing: border-box;text-align: center;}#sk-688c8fa7-bc5f-4938-9c15-8ae3a25dfe07 div.sk-toggleable__content {max-height: 0;max-width: 0;overflow: hidden;text-align: left;background-color: #f0f8ff;}#sk-688c8fa7-bc5f-4938-9c15-8ae3a25dfe07 div.sk-toggleable__content pre {margin: 0.2em;color: black;border-radius: 0.25em;background-color: #f0f8ff;}#sk-688c8fa7-bc5f-4938-9c15-8ae3a25dfe07 input.sk-toggleable__control:checked~div.sk-toggleable__content {max-height: 200px;max-width: 100%;overflow: auto;}#sk-688c8fa7-bc5f-4938-9c15-8ae3a25dfe07 div.sk-estimator input.sk-toggleable__control:checked~label.sk-toggleable__label {background-color: #d4ebff;}#sk-688c8fa7-bc5f-4938-9c15-8ae3a25dfe07 div.sk-label input.sk-toggleable__control:checked~label.sk-toggleable__label {background-color: #d4ebff;}#sk-688c8fa7-bc5f-4938-9c15-8ae3a25dfe07 input.sk-hidden--visually {border: 0;clip: rect(1px 1px 1px 1px);clip: rect(1px, 1px, 1px, 1px);height: 1px;margin: -1px;overflow: hidden;padding: 0;position: absolute;width: 1px;}#sk-688c8fa7-bc5f-4938-9c15-8ae3a25dfe07 div.sk-estimator {font-family: monospace;background-color: #f0f8ff;border: 1px dotted black;border-radius: 0.25em;box-sizing: border-box;margin-bottom: 0.5em;}#sk-688c8fa7-bc5f-4938-9c15-8ae3a25dfe07 div.sk-estimator:hover {background-color: #d4ebff;}#sk-688c8fa7-bc5f-4938-9c15-8ae3a25dfe07 div.sk-parallel-item::after {content: \"\";width: 100%;border-bottom: 1px solid gray;flex-grow: 1;}#sk-688c8fa7-bc5f-4938-9c15-8ae3a25dfe07 div.sk-label:hover label.sk-toggleable__label {background-color: #d4ebff;}#sk-688c8fa7-bc5f-4938-9c15-8ae3a25dfe07 div.sk-serial::before {content: \"\";position: absolute;border-left: 1px solid gray;box-sizing: border-box;top: 2em;bottom: 0;left: 50%;}#sk-688c8fa7-bc5f-4938-9c15-8ae3a25dfe07 div.sk-serial {display: flex;flex-direction: column;align-items: center;background-color: white;padding-right: 0.2em;padding-left: 0.2em;}#sk-688c8fa7-bc5f-4938-9c15-8ae3a25dfe07 div.sk-item {z-index: 1;}#sk-688c8fa7-bc5f-4938-9c15-8ae3a25dfe07 div.sk-parallel {display: flex;align-items: stretch;justify-content: center;background-color: white;}#sk-688c8fa7-bc5f-4938-9c15-8ae3a25dfe07 div.sk-parallel::before {content: \"\";position: absolute;border-left: 1px solid gray;box-sizing: border-box;top: 2em;bottom: 0;left: 50%;}#sk-688c8fa7-bc5f-4938-9c15-8ae3a25dfe07 div.sk-parallel-item {display: flex;flex-direction: column;position: relative;background-color: white;}#sk-688c8fa7-bc5f-4938-9c15-8ae3a25dfe07 div.sk-parallel-item:first-child::after {align-self: flex-end;width: 50%;}#sk-688c8fa7-bc5f-4938-9c15-8ae3a25dfe07 div.sk-parallel-item:last-child::after {align-self: flex-start;width: 50%;}#sk-688c8fa7-bc5f-4938-9c15-8ae3a25dfe07 div.sk-parallel-item:only-child::after {width: 0;}#sk-688c8fa7-bc5f-4938-9c15-8ae3a25dfe07 div.sk-dashed-wrapped {border: 1px dashed gray;margin: 0 0.4em 0.5em 0.4em;box-sizing: border-box;padding-bottom: 0.4em;background-color: white;position: relative;}#sk-688c8fa7-bc5f-4938-9c15-8ae3a25dfe07 div.sk-label label {font-family: monospace;font-weight: bold;background-color: white;display: inline-block;line-height: 1.2em;}#sk-688c8fa7-bc5f-4938-9c15-8ae3a25dfe07 div.sk-label-container {position: relative;z-index: 2;text-align: center;}#sk-688c8fa7-bc5f-4938-9c15-8ae3a25dfe07 div.sk-container {display: inline-block;position: relative;}</style><div id=\"sk-688c8fa7-bc5f-4938-9c15-8ae3a25dfe07\" class\"sk-top-container\"><div class=\"sk-container\"><div class=\"sk-item sk-dashed-wrapped\"><div class=\"sk-label-container\"><div class=\"sk-label sk-toggleable\"><input class=\"sk-toggleable__control sk-hidden--visually\" id=\"aa99d4cf-b589-4c86-9911-02e2ba5627e3\" type=\"checkbox\" ><label class=\"sk-toggleable__label\" for=\"aa99d4cf-b589-4c86-9911-02e2ba5627e3\">Pipeline</label><div class=\"sk-toggleable__content\"><pre>Pipeline(steps=[('standardscaler', StandardScaler()),\n",
       "                ('logisticregression', LogisticRegression())])</pre></div></div></div><div class=\"sk-serial\"><div class=\"sk-item\"><div class=\"sk-estimator sk-toggleable\"><input class=\"sk-toggleable__control sk-hidden--visually\" id=\"ed14ee97-0cb8-45a9-9592-3ccd22365ad9\" type=\"checkbox\" ><label class=\"sk-toggleable__label\" for=\"ed14ee97-0cb8-45a9-9592-3ccd22365ad9\">StandardScaler</label><div class=\"sk-toggleable__content\"><pre>StandardScaler()</pre></div></div></div><div class=\"sk-item\"><div class=\"sk-estimator sk-toggleable\"><input class=\"sk-toggleable__control sk-hidden--visually\" id=\"104f6829-3604-42bc-a1c4-0bbce110f221\" type=\"checkbox\" ><label class=\"sk-toggleable__label\" for=\"104f6829-3604-42bc-a1c4-0bbce110f221\">LogisticRegression</label><div class=\"sk-toggleable__content\"><pre>LogisticRegression()</pre></div></div></div></div></div></div></div>"
      ],
      "text/plain": [
       "Pipeline(steps=[('standardscaler', StandardScaler()),\n",
       "                ('logisticregression', LogisticRegression())])"
      ]
     },
     "execution_count": 25,
     "metadata": {},
     "output_type": "execute_result"
    }
   ],
   "source": [
    "model = make_pipeline(StandardScaler(), LogisticRegression())\n",
    "model.fit(X, y)"
   ]
  },
  {
   "cell_type": "code",
   "execution_count": 26,
   "id": "948a4232",
   "metadata": {},
   "outputs": [
    {
     "data": {
      "text/plain": [
       "array([13], dtype=int32)"
      ]
     },
     "execution_count": 26,
     "metadata": {},
     "output_type": "execute_result"
    }
   ],
   "source": [
    "model[-1].n_iter_"
   ]
  },
  {
   "cell_type": "code",
   "execution_count": 27,
   "id": "28df6f95",
   "metadata": {},
   "outputs": [
    {
     "data": {
      "image/png": "[encoded data removed]",
      "text/plain": [
       "<Figure size 432x288 with 1 Axes>"
      ]
     },
     "metadata": {
      "needs_background": "light"
     },
     "output_type": "display_data"
    }
   ],
   "source": [
    "coef = pd.Series(model[-1].coef_[0], index=X.columns)\n",
    "_ = coef.plot.barh()"
   ]
  }
 ],
 "metadata": {
  "kernelspec": {
   "display_name": "Python 3 (ipykernel)",
   "language": "python",
   "name": "python3"
  },
  "language_info": {
   "codemirror_mode": {
    "name": "ipython",
    "version": 3
   },
   "file_extension": ".py",
   "mimetype": "text/x-python",
   "name": "python",
   "nbconvert_exporter": "python",
   "pygments_lexer": "ipython3",
   "version": "3.8.12"
  }
 },
 "nbformat": 4,
 "nbformat_minor": 5
}
