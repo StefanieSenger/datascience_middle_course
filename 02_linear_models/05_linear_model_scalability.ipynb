{
 "cells": [
  {
   "cell_type": "markdown",
   "id": "00fabcd7-4e93-4107-9b99-566d1d452a54",
   "metadata": {},
   "source": [
    "# Linear models - scalability"
   ]
  },
  {
   "cell_type": "markdown",
   "id": "ea9aabb3-f395-4398-b944-cf81d5efe062",
   "metadata": {},
   "source": [
    "In this notebook, we will make a quick note to show the `partial_fit` functionality of some estimator that could be used to train a model."
   ]
  },
  {
   "cell_type": "code",
   "execution_count": 1,
   "id": "966dab39",
   "metadata": {},
   "outputs": [
    {
     "data": {
      "text/html": [
       "<div>\n",
       "<style scoped>\n",
       "    .dataframe tbody tr th:only-of-type {\n",
       "        vertical-align: middle;\n",
       "    }\n",
       "\n",
       "    .dataframe tbody tr th {\n",
       "        vertical-align: top;\n",
       "    }\n",
       "\n",
       "    .dataframe thead th {\n",
       "        text-align: right;\n",
       "    }\n",
       "</style>\n",
       "<table border=\"1\" class=\"dataframe\">\n",
       "  <thead>\n",
       "    <tr style=\"text-align: right;\">\n",
       "      <th></th>\n",
       "      <th>age</th>\n",
       "      <th>education-num</th>\n",
       "      <th>capital-gain</th>\n",
       "      <th>capital-loss</th>\n",
       "      <th>hours-per-week</th>\n",
       "      <th>class</th>\n",
       "    </tr>\n",
       "  </thead>\n",
       "  <tbody>\n",
       "    <tr>\n",
       "      <th>0</th>\n",
       "      <td>25</td>\n",
       "      <td>7</td>\n",
       "      <td>0</td>\n",
       "      <td>0</td>\n",
       "      <td>40</td>\n",
       "      <td>&lt;=50K</td>\n",
       "    </tr>\n",
       "    <tr>\n",
       "      <th>1</th>\n",
       "      <td>38</td>\n",
       "      <td>9</td>\n",
       "      <td>0</td>\n",
       "      <td>0</td>\n",
       "      <td>50</td>\n",
       "      <td>&lt;=50K</td>\n",
       "    </tr>\n",
       "    <tr>\n",
       "      <th>2</th>\n",
       "      <td>28</td>\n",
       "      <td>12</td>\n",
       "      <td>0</td>\n",
       "      <td>0</td>\n",
       "      <td>40</td>\n",
       "      <td>&gt;50K</td>\n",
       "    </tr>\n",
       "    <tr>\n",
       "      <th>3</th>\n",
       "      <td>44</td>\n",
       "      <td>10</td>\n",
       "      <td>7688</td>\n",
       "      <td>0</td>\n",
       "      <td>40</td>\n",
       "      <td>&gt;50K</td>\n",
       "    </tr>\n",
       "    <tr>\n",
       "      <th>4</th>\n",
       "      <td>18</td>\n",
       "      <td>10</td>\n",
       "      <td>0</td>\n",
       "      <td>0</td>\n",
       "      <td>30</td>\n",
       "      <td>&lt;=50K</td>\n",
       "    </tr>\n",
       "  </tbody>\n",
       "</table>\n",
       "</div>"
      ],
      "text/plain": [
       "   age  education-num  capital-gain  capital-loss  hours-per-week   class\n",
       "0   25              7             0             0              40   <=50K\n",
       "1   38              9             0             0              50   <=50K\n",
       "2   28             12             0             0              40    >50K\n",
       "3   44             10          7688             0              40    >50K\n",
       "4   18             10             0             0              30   <=50K"
      ]
     },
     "execution_count": 1,
     "metadata": {},
     "output_type": "execute_result"
    }
   ],
   "source": [
    "import pandas as pd\n",
    "\n",
    "data = pd.read_csv(\"../datasets/adult-census-numeric-all.csv\")\n",
    "data.head()"
   ]
  },
  {
   "cell_type": "code",
   "execution_count": 2,
   "id": "87405a58",
   "metadata": {},
   "outputs": [],
   "source": [
    "target_name = \"class\"\n",
    "X = data.drop(columns=target_name)\n",
    "y = data[target_name]"
   ]
  },
  {
   "cell_type": "code",
   "execution_count": 3,
   "id": "0c56d183",
   "metadata": {},
   "outputs": [],
   "source": [
    "from sklearn.model_selection import train_test_split\n",
    "\n",
    "X_train, X_test, y_train, y_test = train_test_split(\n",
    "    X, y, random_state=0,\n",
    ")"
   ]
  },
  {
   "cell_type": "code",
   "execution_count": 4,
   "id": "91f73681",
   "metadata": {},
   "outputs": [],
   "source": [
    "from sklearn.preprocessing import StandardScaler\n",
    "\n",
    "scaler = StandardScaler()"
   ]
  },
  {
   "cell_type": "code",
   "execution_count": 5,
   "id": "2ed8ad98",
   "metadata": {},
   "outputs": [],
   "source": [
    "batch_size = 100\n",
    "start = 0\n",
    "while start < y_train.size:\n",
    "    stop = start + batch_size\n",
    "    scaler.partial_fit(X_train[start:stop])\n",
    "    start = stop"
   ]
  },
  {
   "cell_type": "code",
   "execution_count": 6,
   "id": "1f28b284",
   "metadata": {},
   "outputs": [
    {
     "data": {
      "text/plain": [
       "(array([  38.68545767,   10.07327127, 1063.20692856,   86.77983129,\n",
       "          40.42248369]),\n",
       " array([1.88511311e+02, 6.61175889e+00, 5.43824675e+07, 1.61245256e+05,\n",
       "        1.54386985e+02]))"
      ]
     },
     "execution_count": 6,
     "metadata": {},
     "output_type": "execute_result"
    }
   ],
   "source": [
    "scaler.mean_, scaler.var_"
   ]
  },
  {
   "cell_type": "code",
   "execution_count": 7,
   "id": "7a3cfe49",
   "metadata": {},
   "outputs": [
    {
     "data": {
      "text/plain": [
       "(array([  38.68545767,   10.07327127, 1063.20692856,   86.77983129,\n",
       "          40.42248369]),\n",
       " array([1.88511311e+02, 6.61175889e+00, 5.43824675e+07, 1.61245256e+05,\n",
       "        1.54386985e+02]))"
      ]
     },
     "execution_count": 7,
     "metadata": {},
     "output_type": "execute_result"
    }
   ],
   "source": [
    "scaler = StandardScaler().fit(X_train)\n",
    "scaler.mean_, scaler.var_"
   ]
  },
  {
   "cell_type": "code",
   "execution_count": 9,
   "id": "4d8a4036",
   "metadata": {},
   "outputs": [],
   "source": [
    "from sklearn.linear_model import SGDClassifier\n",
    "\n",
    "model = SGDClassifier(loss=\"hinge\", alpha=0.01, max_iter=200)"
   ]
  },
  {
   "cell_type": "code",
   "execution_count": 10,
   "id": "1c13ff3f",
   "metadata": {},
   "outputs": [
    {
     "name": "stdout",
     "output_type": "stream",
     "text": [
      "Iteration #1: Weights:\n",
      "[[0.01482068 0.25556641 1.30735298 0.38501694 0.20974326]]\n",
      "Iteration #2: Weights:\n",
      "[[0.25661497 0.23623037 1.07041435 0.33384739 0.16809809]]\n",
      "Iteration #3: Weights:\n",
      "[[0.15510484 0.20522907 1.27752695 0.22135532 0.13047763]]\n",
      "Iteration #4: Weights:\n",
      "[[0.15752789 0.21567381 1.19598888 0.23075887 0.08618274]]\n",
      "Iteration #5: Weights:\n",
      "[[0.13307296 0.1875683  1.07980003 0.2715925  0.07231146]]\n",
      "Iteration #6: Weights:\n",
      "[[0.13556772 0.14004452 1.09434847 0.2794567  0.08625648]]\n",
      "Iteration #7: Weights:\n",
      "[[0.08004633 0.14936342 1.14292221 0.30575399 0.07220483]]\n",
      "Iteration #8: Weights:\n",
      "[[0.07659844 0.1616876  1.18038861 0.15086681 0.04759882]]\n",
      "Iteration #9: Weights:\n",
      "[[0.10789898 0.2235596  1.21571193 0.21749484 0.15053511]]\n",
      "Iteration #10: Weights:\n",
      "[[0.12893306 0.17821288 1.21891103 0.14149952 0.10998177]]\n"
     ]
    }
   ],
   "source": [
    "import numpy as np\n",
    "\n",
    "batch_size = 4_000\n",
    "start = 0\n",
    "iteration = 1\n",
    "while start < y_train.size:\n",
    "    stop = start + batch_size\n",
    "    X_scaled = scaler.transform(X_train[start:stop])\n",
    "    if not start:\n",
    "        params = {\"classes\": np.unique(y)}\n",
    "    else:\n",
    "        params = {}\n",
    "    model.partial_fit(X_scaled, y_train[start:stop], **params)\n",
    "    print(\n",
    "        f\"Iteration #{iteration}: Weights:\\n\"\n",
    "        f\"{model.coef_}\"\n",
    "    )\n",
    "    iteration += 1\n",
    "    start = stop"
   ]
  },
  {
   "cell_type": "code",
   "execution_count": null,
   "id": "a1c3a303",
   "metadata": {},
   "outputs": [],
   "source": []
  }
 ],
 "metadata": {
  "kernelspec": {
   "display_name": "datascience_middle_course",
   "language": "python",
   "name": "python3"
  },
  "language_info": {
   "codemirror_mode": {
    "name": "ipython",
    "version": 3
   },
   "file_extension": ".py",
   "mimetype": "text/x-python",
   "name": "python",
   "nbconvert_exporter": "python",
   "pygments_lexer": "ipython3",
   "version": "3.12.2"
  }
 },
 "nbformat": 4,
 "nbformat_minor": 5
}
