{
 "cells": [
  {
   "cell_type": "markdown",
   "id": "f353a938-5ce7-45a8-9e01-ef92a47c830f",
   "metadata": {},
   "source": [
    "# Hyperparameters search"
   ]
  },
  {
   "cell_type": "markdown",
   "id": "0fc9efc3-61a8-490c-a142-a98f74f121b8",
   "metadata": {},
   "source": [
    "In past notebooks, we pointing out that some models' parameters had an impact on the statistical performance of the models. Usually, we would like to optimize these parameters such that the model trained is as good as possible. This optimization is called hyperparameters tuning.\n",
    "\n",
    "In this notebook, we will show a couple of method allowing to tune models' hyperparameters."
   ]
  },
  {
   "cell_type": "markdown",
   "id": "526728e2-ccb2-41e1-af33-0c055bf47874",
   "metadata": {},
   "source": [
    "## Introductory example"
   ]
  },
  {
   "cell_type": "markdown",
   "id": "83dca106-3397-425b-ae63-4ef3ea665cfe",
   "metadata": {},
   "source": [
    "We will take an example that we showed in the linear model where we discussed the impact of the $\\alpha$ parameter on a `Ridge` model. Indeed, we mentioned that this parameter allows to regularize more or less the model. However, there is no general rule specifying what is a good $\\alpha$ value. Indeed, it would depend of the dataset.\n",
    "\n",
    "Let's load a dataset to tackle a regression problem."
   ]
  },
  {
   "cell_type": "code",
   "execution_count": 1,
   "id": "65c26f23-e66e-483f-a7a3-c4197964e0af",
   "metadata": {},
   "outputs": [
    {
     "data": {
      "text/html": [
       "<div>\n",
       "<style scoped>\n",
       "    .dataframe tbody tr th:only-of-type {\n",
       "        vertical-align: middle;\n",
       "    }\n",
       "\n",
       "    .dataframe tbody tr th {\n",
       "        vertical-align: top;\n",
       "    }\n",
       "\n",
       "    .dataframe thead th {\n",
       "        text-align: right;\n",
       "    }\n",
       "</style>\n",
       "<table border=\"1\" class=\"dataframe\">\n",
       "  <thead>\n",
       "    <tr style=\"text-align: right;\">\n",
       "      <th></th>\n",
       "      <th>MedInc</th>\n",
       "      <th>HouseAge</th>\n",
       "      <th>AveRooms</th>\n",
       "      <th>AveBedrms</th>\n",
       "      <th>Population</th>\n",
       "      <th>AveOccup</th>\n",
       "      <th>Latitude</th>\n",
       "      <th>Longitude</th>\n",
       "    </tr>\n",
       "  </thead>\n",
       "  <tbody>\n",
       "    <tr>\n",
       "      <th>0</th>\n",
       "      <td>8.3252</td>\n",
       "      <td>41.0</td>\n",
       "      <td>6.984127</td>\n",
       "      <td>1.023810</td>\n",
       "      <td>322.0</td>\n",
       "      <td>2.555556</td>\n",
       "      <td>37.88</td>\n",
       "      <td>-122.23</td>\n",
       "    </tr>\n",
       "    <tr>\n",
       "      <th>1</th>\n",
       "      <td>8.3014</td>\n",
       "      <td>21.0</td>\n",
       "      <td>6.238137</td>\n",
       "      <td>0.971880</td>\n",
       "      <td>2401.0</td>\n",
       "      <td>2.109842</td>\n",
       "      <td>37.86</td>\n",
       "      <td>-122.22</td>\n",
       "    </tr>\n",
       "    <tr>\n",
       "      <th>2</th>\n",
       "      <td>7.2574</td>\n",
       "      <td>52.0</td>\n",
       "      <td>8.288136</td>\n",
       "      <td>1.073446</td>\n",
       "      <td>496.0</td>\n",
       "      <td>2.802260</td>\n",
       "      <td>37.85</td>\n",
       "      <td>-122.24</td>\n",
       "    </tr>\n",
       "    <tr>\n",
       "      <th>3</th>\n",
       "      <td>5.6431</td>\n",
       "      <td>52.0</td>\n",
       "      <td>5.817352</td>\n",
       "      <td>1.073059</td>\n",
       "      <td>558.0</td>\n",
       "      <td>2.547945</td>\n",
       "      <td>37.85</td>\n",
       "      <td>-122.25</td>\n",
       "    </tr>\n",
       "    <tr>\n",
       "      <th>4</th>\n",
       "      <td>3.8462</td>\n",
       "      <td>52.0</td>\n",
       "      <td>6.281853</td>\n",
       "      <td>1.081081</td>\n",
       "      <td>565.0</td>\n",
       "      <td>2.181467</td>\n",
       "      <td>37.85</td>\n",
       "      <td>-122.25</td>\n",
       "    </tr>\n",
       "  </tbody>\n",
       "</table>\n",
       "</div>"
      ],
      "text/plain": [
       "   MedInc  HouseAge  AveRooms  AveBedrms  Population  AveOccup  Latitude  \\\n",
       "0  8.3252      41.0  6.984127   1.023810       322.0  2.555556     37.88   \n",
       "1  8.3014      21.0  6.238137   0.971880      2401.0  2.109842     37.86   \n",
       "2  7.2574      52.0  8.288136   1.073446       496.0  2.802260     37.85   \n",
       "3  5.6431      52.0  5.817352   1.073059       558.0  2.547945     37.85   \n",
       "4  3.8462      52.0  6.281853   1.081081       565.0  2.181467     37.85   \n",
       "\n",
       "   Longitude  \n",
       "0    -122.23  \n",
       "1    -122.22  \n",
       "2    -122.24  \n",
       "3    -122.25  \n",
       "4    -122.25  "
      ]
     },
     "execution_count": 1,
     "metadata": {},
     "output_type": "execute_result"
    }
   ],
   "source": [
    "from sklearn.datasets import fetch_california_housing\n",
    "\n",
    "X, y = fetch_california_housing(return_X_y=True, as_frame=True)\n",
    "X.head()"
   ]
  },
  {
   "cell_type": "code",
   "execution_count": 2,
   "id": "35b94e94-f729-4d83-9e20-94f1eba8040c",
   "metadata": {},
   "outputs": [
    {
     "data": {
      "text/plain": [
       "0    4.526\n",
       "1    3.585\n",
       "2    3.521\n",
       "3    3.413\n",
       "4    3.422\n",
       "Name: MedHouseVal, dtype: float64"
      ]
     },
     "execution_count": 2,
     "metadata": {},
     "output_type": "execute_result"
    }
   ],
   "source": [
    "y.head()"
   ]
  },
  {
   "cell_type": "markdown",
   "id": "3f213b42-7ec5-4202-937b-21be17dda280",
   "metadata": {},
   "source": [
    "Now, we will define a `Ridge` model where we will process the the data with add some interaction between features using a `PolynomialFeatures` transformer."
   ]
  },
  {
   "cell_type": "code",
   "execution_count": 4,
   "id": "2e4fa3f2-6653-43b3-b3cf-ba165e7e135e",
   "metadata": {},
   "outputs": [],
   "source": [
    "import sklearn\n",
    "\n",
    "sklearn.set_config(display=\"diagram\")"
   ]
  },
  {
   "cell_type": "code",
   "execution_count": 6,
   "id": "b41bd73c-3308-4241-ab34-a64aa7e234da",
   "metadata": {},
   "outputs": [
    {
     "data": {
      "text/html": [
       "<style>#sk-711defdc-cb7f-48b4-a4ec-10c3cbf20235 {color: black;background-color: white;}#sk-711defdc-cb7f-48b4-a4ec-10c3cbf20235 pre{padding: 0;}#sk-711defdc-cb7f-48b4-a4ec-10c3cbf20235 div.sk-toggleable {background-color: white;}#sk-711defdc-cb7f-48b4-a4ec-10c3cbf20235 label.sk-toggleable__label {cursor: pointer;display: block;width: 100%;margin-bottom: 0;padding: 0.3em;box-sizing: border-box;text-align: center;}#sk-711defdc-cb7f-48b4-a4ec-10c3cbf20235 div.sk-toggleable__content {max-height: 0;max-width: 0;overflow: hidden;text-align: left;background-color: #f0f8ff;}#sk-711defdc-cb7f-48b4-a4ec-10c3cbf20235 div.sk-toggleable__content pre {margin: 0.2em;color: black;border-radius: 0.25em;background-color: #f0f8ff;}#sk-711defdc-cb7f-48b4-a4ec-10c3cbf20235 input.sk-toggleable__control:checked~div.sk-toggleable__content {max-height: 200px;max-width: 100%;overflow: auto;}#sk-711defdc-cb7f-48b4-a4ec-10c3cbf20235 div.sk-estimator input.sk-toggleable__control:checked~label.sk-toggleable__label {background-color: #d4ebff;}#sk-711defdc-cb7f-48b4-a4ec-10c3cbf20235 div.sk-label input.sk-toggleable__control:checked~label.sk-toggleable__label {background-color: #d4ebff;}#sk-711defdc-cb7f-48b4-a4ec-10c3cbf20235 input.sk-hidden--visually {border: 0;clip: rect(1px 1px 1px 1px);clip: rect(1px, 1px, 1px, 1px);height: 1px;margin: -1px;overflow: hidden;padding: 0;position: absolute;width: 1px;}#sk-711defdc-cb7f-48b4-a4ec-10c3cbf20235 div.sk-estimator {font-family: monospace;background-color: #f0f8ff;border: 1px dotted black;border-radius: 0.25em;box-sizing: border-box;margin-bottom: 0.5em;}#sk-711defdc-cb7f-48b4-a4ec-10c3cbf20235 div.sk-estimator:hover {background-color: #d4ebff;}#sk-711defdc-cb7f-48b4-a4ec-10c3cbf20235 div.sk-parallel-item::after {content: \"\";width: 100%;border-bottom: 1px solid gray;flex-grow: 1;}#sk-711defdc-cb7f-48b4-a4ec-10c3cbf20235 div.sk-label:hover label.sk-toggleable__label {background-color: #d4ebff;}#sk-711defdc-cb7f-48b4-a4ec-10c3cbf20235 div.sk-serial::before {content: \"\";position: absolute;border-left: 1px solid gray;box-sizing: border-box;top: 2em;bottom: 0;left: 50%;}#sk-711defdc-cb7f-48b4-a4ec-10c3cbf20235 div.sk-serial {display: flex;flex-direction: column;align-items: center;background-color: white;padding-right: 0.2em;padding-left: 0.2em;}#sk-711defdc-cb7f-48b4-a4ec-10c3cbf20235 div.sk-item {z-index: 1;}#sk-711defdc-cb7f-48b4-a4ec-10c3cbf20235 div.sk-parallel {display: flex;align-items: stretch;justify-content: center;background-color: white;}#sk-711defdc-cb7f-48b4-a4ec-10c3cbf20235 div.sk-parallel::before {content: \"\";position: absolute;border-left: 1px solid gray;box-sizing: border-box;top: 2em;bottom: 0;left: 50%;}#sk-711defdc-cb7f-48b4-a4ec-10c3cbf20235 div.sk-parallel-item {display: flex;flex-direction: column;position: relative;background-color: white;}#sk-711defdc-cb7f-48b4-a4ec-10c3cbf20235 div.sk-parallel-item:first-child::after {align-self: flex-end;width: 50%;}#sk-711defdc-cb7f-48b4-a4ec-10c3cbf20235 div.sk-parallel-item:last-child::after {align-self: flex-start;width: 50%;}#sk-711defdc-cb7f-48b4-a4ec-10c3cbf20235 div.sk-parallel-item:only-child::after {width: 0;}#sk-711defdc-cb7f-48b4-a4ec-10c3cbf20235 div.sk-dashed-wrapped {border: 1px dashed gray;margin: 0 0.4em 0.5em 0.4em;box-sizing: border-box;padding-bottom: 0.4em;background-color: white;position: relative;}#sk-711defdc-cb7f-48b4-a4ec-10c3cbf20235 div.sk-label label {font-family: monospace;font-weight: bold;background-color: white;display: inline-block;line-height: 1.2em;}#sk-711defdc-cb7f-48b4-a4ec-10c3cbf20235 div.sk-label-container {position: relative;z-index: 2;text-align: center;}#sk-711defdc-cb7f-48b4-a4ec-10c3cbf20235 div.sk-container {display: inline-block;position: relative;}</style><div id=\"sk-711defdc-cb7f-48b4-a4ec-10c3cbf20235\" class\"sk-top-container\"><div class=\"sk-container\"><div class=\"sk-item sk-dashed-wrapped\"><div class=\"sk-label-container\"><div class=\"sk-label sk-toggleable\"><input class=\"sk-toggleable__control sk-hidden--visually\" id=\"5765fd44-837b-4582-8aa8-30a91b0c66d6\" type=\"checkbox\" ><label class=\"sk-toggleable__label\" for=\"5765fd44-837b-4582-8aa8-30a91b0c66d6\">Pipeline</label><div class=\"sk-toggleable__content\"><pre>Pipeline(steps=[('polynomialfeatures', PolynomialFeatures()),\n",
       "                ('standardscaler', StandardScaler()), ('ridge', Ridge())])</pre></div></div></div><div class=\"sk-serial\"><div class=\"sk-item\"><div class=\"sk-estimator sk-toggleable\"><input class=\"sk-toggleable__control sk-hidden--visually\" id=\"dffda81b-a3dd-48ae-a88f-98d1117caa7b\" type=\"checkbox\" ><label class=\"sk-toggleable__label\" for=\"dffda81b-a3dd-48ae-a88f-98d1117caa7b\">PolynomialFeatures</label><div class=\"sk-toggleable__content\"><pre>PolynomialFeatures()</pre></div></div></div><div class=\"sk-item\"><div class=\"sk-estimator sk-toggleable\"><input class=\"sk-toggleable__control sk-hidden--visually\" id=\"b4e1b4aa-b982-4295-8988-fbab85cd8e04\" type=\"checkbox\" ><label class=\"sk-toggleable__label\" for=\"b4e1b4aa-b982-4295-8988-fbab85cd8e04\">StandardScaler</label><div class=\"sk-toggleable__content\"><pre>StandardScaler()</pre></div></div></div><div class=\"sk-item\"><div class=\"sk-estimator sk-toggleable\"><input class=\"sk-toggleable__control sk-hidden--visually\" id=\"50c9e402-371d-4572-95c6-335098741974\" type=\"checkbox\" ><label class=\"sk-toggleable__label\" for=\"50c9e402-371d-4572-95c6-335098741974\">Ridge</label><div class=\"sk-toggleable__content\"><pre>Ridge()</pre></div></div></div></div></div></div></div>"
      ],
      "text/plain": [
       "Pipeline(steps=[('polynomialfeatures', PolynomialFeatures()),\n",
       "                ('standardscaler', StandardScaler()), ('ridge', Ridge())])"
      ]
     },
     "execution_count": 6,
     "metadata": {},
     "output_type": "execute_result"
    }
   ],
   "source": [
    "from sklearn.preprocessing import StandardScaler\n",
    "from sklearn.preprocessing import PolynomialFeatures\n",
    "from sklearn.linear_model import Ridge\n",
    "from sklearn.pipeline import make_pipeline\n",
    "\n",
    "model = make_pipeline(\n",
    "    PolynomialFeatures(),\n",
    "    StandardScaler(),\n",
    "    Ridge(),\n",
    ")\n",
    "model"
   ]
  },
  {
   "cell_type": "markdown",
   "id": "7acb5a05-cdcf-4fdb-aa93-c65364a82491",
   "metadata": {},
   "source": [
    "However, we did not change any of the default parameters given by scikit-learn. Let's evaluate this vanilla model."
   ]
  },
  {
   "cell_type": "code",
   "execution_count": 7,
   "id": "6ca3d195-33bc-43e0-9743-fd089513207f",
   "metadata": {},
   "outputs": [],
   "source": [
    "import pandas as pd\n",
    "from sklearn.model_selection import cross_validate\n",
    "\n",
    "cv_results = cross_validate(model, X, y)\n",
    "cv_results = pd.DataFrame(cv_results)"
   ]
  },
  {
   "cell_type": "code",
   "execution_count": 8,
   "id": "81d27f41-84d5-4c83-8fb7-a294552277c4",
   "metadata": {},
   "outputs": [
    {
     "data": {
      "text/html": [
       "<div>\n",
       "<style scoped>\n",
       "    .dataframe tbody tr th:only-of-type {\n",
       "        vertical-align: middle;\n",
       "    }\n",
       "\n",
       "    .dataframe tbody tr th {\n",
       "        vertical-align: top;\n",
       "    }\n",
       "\n",
       "    .dataframe thead th {\n",
       "        text-align: right;\n",
       "    }\n",
       "</style>\n",
       "<table border=\"1\" class=\"dataframe\">\n",
       "  <thead>\n",
       "    <tr style=\"text-align: right;\">\n",
       "      <th></th>\n",
       "      <th>fit_time</th>\n",
       "      <th>score_time</th>\n",
       "      <th>test_score</th>\n",
       "    </tr>\n",
       "  </thead>\n",
       "  <tbody>\n",
       "    <tr>\n",
       "      <th>0</th>\n",
       "      <td>0.033580</td>\n",
       "      <td>0.002328</td>\n",
       "      <td>0.467650</td>\n",
       "    </tr>\n",
       "    <tr>\n",
       "      <th>1</th>\n",
       "      <td>0.014659</td>\n",
       "      <td>0.002118</td>\n",
       "      <td>0.552113</td>\n",
       "    </tr>\n",
       "    <tr>\n",
       "      <th>2</th>\n",
       "      <td>0.016746</td>\n",
       "      <td>0.002526</td>\n",
       "      <td>0.579568</td>\n",
       "    </tr>\n",
       "    <tr>\n",
       "      <th>3</th>\n",
       "      <td>0.013096</td>\n",
       "      <td>0.001769</td>\n",
       "      <td>0.500778</td>\n",
       "    </tr>\n",
       "    <tr>\n",
       "      <th>4</th>\n",
       "      <td>0.011725</td>\n",
       "      <td>0.001566</td>\n",
       "      <td>-4.211175</td>\n",
       "    </tr>\n",
       "  </tbody>\n",
       "</table>\n",
       "</div>"
      ],
      "text/plain": [
       "   fit_time  score_time  test_score\n",
       "0  0.033580    0.002328    0.467650\n",
       "1  0.014659    0.002118    0.552113\n",
       "2  0.016746    0.002526    0.579568\n",
       "3  0.013096    0.001769    0.500778\n",
       "4  0.011725    0.001566   -4.211175"
      ]
     },
     "execution_count": 8,
     "metadata": {},
     "output_type": "execute_result"
    }
   ],
   "source": [
    "cv_results"
   ]
  },
  {
   "cell_type": "code",
   "execution_count": 9,
   "id": "64e65bbb-47c9-4221-ae83-986b60525a53",
   "metadata": {},
   "outputs": [
    {
     "data": {
      "text/html": [
       "<div>\n",
       "<style scoped>\n",
       "    .dataframe tbody tr th:only-of-type {\n",
       "        vertical-align: middle;\n",
       "    }\n",
       "\n",
       "    .dataframe tbody tr th {\n",
       "        vertical-align: top;\n",
       "    }\n",
       "\n",
       "    .dataframe thead th {\n",
       "        text-align: right;\n",
       "    }\n",
       "</style>\n",
       "<table border=\"1\" class=\"dataframe\">\n",
       "  <thead>\n",
       "    <tr style=\"text-align: right;\">\n",
       "      <th></th>\n",
       "      <th>fit_time</th>\n",
       "      <th>score_time</th>\n",
       "      <th>test_score</th>\n",
       "    </tr>\n",
       "  </thead>\n",
       "  <tbody>\n",
       "    <tr>\n",
       "      <th>mean</th>\n",
       "      <td>0.017961</td>\n",
       "      <td>0.002061</td>\n",
       "      <td>-0.422213</td>\n",
       "    </tr>\n",
       "    <tr>\n",
       "      <th>std</th>\n",
       "      <td>0.008929</td>\n",
       "      <td>0.000394</td>\n",
       "      <td>2.118542</td>\n",
       "    </tr>\n",
       "  </tbody>\n",
       "</table>\n",
       "</div>"
      ],
      "text/plain": [
       "      fit_time  score_time  test_score\n",
       "mean  0.017961    0.002061   -0.422213\n",
       "std   0.008929    0.000394    2.118542"
      ]
     },
     "execution_count": 9,
     "metadata": {},
     "output_type": "execute_result"
    }
   ],
   "source": [
    "cv_results.aggregate([\"mean\", \"std\"])"
   ]
  },
  {
   "cell_type": "markdown",
   "id": "ce666b9e-b85f-44fc-80b2-2ceb20e57b21",
   "metadata": {},
   "source": [
    "At this stage, there is nothing to tell use that our pipeline is the best pipeline that we could get. Indeed, we could imagine that the degree of the `PolynomialFeatures` could be higher or that the `Ridge` regressor should be more regularized. Let's check which parameters we could tune with the model:"
   ]
  },
  {
   "cell_type": "code",
   "execution_count": 10,
   "id": "e6bc027b-ed16-416a-b75e-ca8aa8885bce",
   "metadata": {},
   "outputs": [
    {
     "name": "stdout",
     "output_type": "stream",
     "text": [
      "memory\n",
      "steps\n",
      "verbose\n",
      "polynomialfeatures\n",
      "standardscaler\n",
      "ridge\n",
      "polynomialfeatures__degree\n",
      "polynomialfeatures__include_bias\n",
      "polynomialfeatures__interaction_only\n",
      "polynomialfeatures__order\n",
      "standardscaler__copy\n",
      "standardscaler__with_mean\n",
      "standardscaler__with_std\n",
      "ridge__alpha\n",
      "ridge__copy_X\n",
      "ridge__fit_intercept\n",
      "ridge__max_iter\n",
      "ridge__normalize\n",
      "ridge__positive\n",
      "ridge__random_state\n",
      "ridge__solver\n",
      "ridge__tol\n"
     ]
    }
   ],
   "source": [
    "for params in model.get_params():\n",
    "    print(params)"
   ]
  },
  {
   "cell_type": "markdown",
   "id": "7cacf736-8ea1-4735-a32b-40697ded7a59",
   "metadata": {},
   "source": [
    "Two important parameters of this model are `polynomialfeatures__degree` and `ridge__alpha`. We will try to find the optimal values of these parameters for the current dataset."
   ]
  },
  {
   "cell_type": "markdown",
   "id": "8945a302-ec4c-452e-976f-fe35f1803eb0",
   "metadata": {},
   "source": [
    "## Manual hyperparameters search"
   ]
  },
  {
   "cell_type": "markdown",
   "id": "57597d0d-981b-4e77-9067-a8bb5c093a56",
   "metadata": {},
   "source": [
    "Before to show the automated tools allowing to make hyperparameters tuning in scikit-learn, we will manually make our own manual simplified version."
   ]
  },
  {
   "cell_type": "markdown",
   "id": "6e5764ea-9cbc-40ce-bf96-6aaa5091e2e6",
   "metadata": {},
   "source": [
    "<div class=\"alert alert-success\">\n",
    "    <b>EXERCISE</b>:\n",
    "    <ul>\n",
    "        <li>Split the dataset into a training and testing set.</li>\n",
    "        <li>Make a nested <tt>for</tt> loop to try all the possible parameters combination that we defined in <tt>parameter_grid</tt>.</li>\n",
    "        <li>In the internal loop, use a cross-validation (using <tt>cross_val_score</tt>) on the training set to get a distribution of score.</li>\n",
    "        <li>Compute the mean and standard deviation of the cross-validation score and pick-up the best set of hyperparameters.</li>\n",
    "        <li>Retrain a model with the combination of the best hyperparameters and evalute it on the testing set.</li>\n",
    "    </ul>\n",
    "</div>"
   ]
  },
  {
   "cell_type": "code",
   "execution_count": 12,
   "id": "ba2c1fb2-ea56-4157-b953-b4dca41e0364",
   "metadata": {},
   "outputs": [],
   "source": [
    "import numpy as np\n",
    "\n",
    "parameter_grid = {\n",
    "    \"polynomialfeatures__degree\": np.arange(2, 5),\n",
    "    \"ridge__alpha\": np.logspace(1, 3, num=5),\n",
    "}"
   ]
  },
  {
   "cell_type": "code",
   "execution_count": 11,
   "id": "9a473ea4-1301-4526-9e77-7623a3e16970",
   "metadata": {},
   "outputs": [],
   "source": [
    "from sklearn.model_selection import train_test_split\n",
    "\n",
    "X_train, X_test, y_train, y_test = train_test_split(\n",
    "    X, y, random_state=0\n",
    ")"
   ]
  },
  {
   "cell_type": "code",
   "execution_count": 13,
   "id": "1ab328fd-04dd-4c8c-8c07-8c4f99b2afb3",
   "metadata": {},
   "outputs": [],
   "source": [
    "from collections import defaultdict\n",
    "from sklearn.model_selection import cross_val_score\n",
    "\n",
    "search_results = defaultdict(list)\n",
    "for degree in parameter_grid[\"polynomialfeatures__degree\"]:\n",
    "    for alpha in parameter_grid[\"ridge__alpha\"]:\n",
    "        search_results[\"polynomialfeatures__degree\"].append(degree)\n",
    "        search_results[\"ridge__alpha\"].append(alpha)\n",
    "        model.set_params(\n",
    "            polynomialfeatures__degree=degree,\n",
    "            ridge__alpha=alpha,\n",
    "        )\n",
    "        search_results[\"score\"].append(cross_val_score(model, X_train, y_train))\n",
    "search_results = pd.DataFrame(search_results)"
   ]
  },
  {
   "cell_type": "code",
   "execution_count": 17,
   "id": "366d421e-6f19-4e46-8f5d-cc8db77c509e",
   "metadata": {},
   "outputs": [],
   "source": [
    "search_results[\"mean_score\"] = search_results[\"score\"].apply(lambda x: x.mean())\n",
    "search_results[\"std_score\"] = search_results[\"score\"].apply(lambda x: x.std())"
   ]
  },
  {
   "cell_type": "code",
   "execution_count": 29,
   "id": "a4cfb449-6d7e-40fa-a7ec-208600ac086f",
   "metadata": {},
   "outputs": [
    {
     "data": {
      "text/html": [
       "<div>\n",
       "<style scoped>\n",
       "    .dataframe tbody tr th:only-of-type {\n",
       "        vertical-align: middle;\n",
       "    }\n",
       "\n",
       "    .dataframe tbody tr th {\n",
       "        vertical-align: top;\n",
       "    }\n",
       "\n",
       "    .dataframe thead th {\n",
       "        text-align: right;\n",
       "    }\n",
       "</style>\n",
       "<table border=\"1\" class=\"dataframe\">\n",
       "  <thead>\n",
       "    <tr style=\"text-align: right;\">\n",
       "      <th></th>\n",
       "      <th>polynomialfeatures__degree</th>\n",
       "      <th>ridge__alpha</th>\n",
       "      <th>score</th>\n",
       "      <th>mean_score</th>\n",
       "      <th>std_score</th>\n",
       "    </tr>\n",
       "  </thead>\n",
       "  <tbody>\n",
       "    <tr>\n",
       "      <th>3</th>\n",
       "      <td>2</td>\n",
       "      <td>316.227766</td>\n",
       "      <td>[0.6011787650057057, 0.6291786154038115, 0.562...</td>\n",
       "      <td>0.615069</td>\n",
       "      <td>0.030193</td>\n",
       "    </tr>\n",
       "    <tr>\n",
       "      <th>9</th>\n",
       "      <td>3</td>\n",
       "      <td>1000.000000</td>\n",
       "      <td>[0.6166992944746666, 0.6127822330945476, 0.536...</td>\n",
       "      <td>0.614862</td>\n",
       "      <td>0.043321</td>\n",
       "    </tr>\n",
       "    <tr>\n",
       "      <th>2</th>\n",
       "      <td>2</td>\n",
       "      <td>100.000000</td>\n",
       "      <td>[0.6397033426134056, 0.6045685742196174, 0.494...</td>\n",
       "      <td>0.611710</td>\n",
       "      <td>0.062322</td>\n",
       "    </tr>\n",
       "    <tr>\n",
       "      <th>4</th>\n",
       "      <td>2</td>\n",
       "      <td>1000.000000</td>\n",
       "      <td>[0.576208257127071, 0.6156474629642577, 0.5922...</td>\n",
       "      <td>0.597900</td>\n",
       "      <td>0.017012</td>\n",
       "    </tr>\n",
       "    <tr>\n",
       "      <th>1</th>\n",
       "      <td>2</td>\n",
       "      <td>31.622777</td>\n",
       "      <td>[0.6576675638070638, 0.5658734564523009, 0.422...</td>\n",
       "      <td>0.592392</td>\n",
       "      <td>0.092297</td>\n",
       "    </tr>\n",
       "    <tr>\n",
       "      <th>8</th>\n",
       "      <td>3</td>\n",
       "      <td>316.227766</td>\n",
       "      <td>[0.6655985801925857, 0.5874011840505577, 0.475...</td>\n",
       "      <td>0.589077</td>\n",
       "      <td>0.073398</td>\n",
       "    </tr>\n",
       "    <tr>\n",
       "      <th>0</th>\n",
       "      <td>2</td>\n",
       "      <td>10.000000</td>\n",
       "      <td>[0.6558061904686903, 0.5285695073484505, 0.362...</td>\n",
       "      <td>0.573121</td>\n",
       "      <td>0.116659</td>\n",
       "    </tr>\n",
       "    <tr>\n",
       "      <th>14</th>\n",
       "      <td>4</td>\n",
       "      <td>1000.000000</td>\n",
       "      <td>[0.6646236338304413, 0.5526846349518668, 0.467...</td>\n",
       "      <td>0.538435</td>\n",
       "      <td>0.126204</td>\n",
       "    </tr>\n",
       "    <tr>\n",
       "      <th>7</th>\n",
       "      <td>3</td>\n",
       "      <td>100.000000</td>\n",
       "      <td>[0.5880089780415716, 0.5642941354891886, 0.418...</td>\n",
       "      <td>0.529637</td>\n",
       "      <td>0.106450</td>\n",
       "    </tr>\n",
       "    <tr>\n",
       "      <th>6</th>\n",
       "      <td>3</td>\n",
       "      <td>31.622777</td>\n",
       "      <td>[0.3205562616474341, 0.5150245320497143, 0.434...</td>\n",
       "      <td>0.446145</td>\n",
       "      <td>0.143737</td>\n",
       "    </tr>\n",
       "    <tr>\n",
       "      <th>13</th>\n",
       "      <td>4</td>\n",
       "      <td>316.227766</td>\n",
       "      <td>[0.48138588063102294, 0.5288232780321294, 0.43...</td>\n",
       "      <td>0.428575</td>\n",
       "      <td>0.219230</td>\n",
       "    </tr>\n",
       "    <tr>\n",
       "      <th>12</th>\n",
       "      <td>4</td>\n",
       "      <td>100.000000</td>\n",
       "      <td>[-0.03560847980198534, 0.5676421817799095, 0.4...</td>\n",
       "      <td>0.357140</td>\n",
       "      <td>0.280004</td>\n",
       "    </tr>\n",
       "    <tr>\n",
       "      <th>5</th>\n",
       "      <td>3</td>\n",
       "      <td>10.000000</td>\n",
       "      <td>[-0.23769649067471077, 0.44264936079769057, 0....</td>\n",
       "      <td>0.312536</td>\n",
       "      <td>0.309802</td>\n",
       "    </tr>\n",
       "    <tr>\n",
       "      <th>11</th>\n",
       "      <td>4</td>\n",
       "      <td>31.622777</td>\n",
       "      <td>[-0.5062192700486567, 0.6873201884429123, -0.4...</td>\n",
       "      <td>0.187621</td>\n",
       "      <td>0.558792</td>\n",
       "    </tr>\n",
       "    <tr>\n",
       "      <th>10</th>\n",
       "      <td>4</td>\n",
       "      <td>10.000000</td>\n",
       "      <td>[-0.37887180035631696, 0.07754237773726003, -9...</td>\n",
       "      <td>-1.754114</td>\n",
       "      <td>3.888471</td>\n",
       "    </tr>\n",
       "  </tbody>\n",
       "</table>\n",
       "</div>"
      ],
      "text/plain": [
       "    polynomialfeatures__degree  ridge__alpha  \\\n",
       "3                            2    316.227766   \n",
       "9                            3   1000.000000   \n",
       "2                            2    100.000000   \n",
       "4                            2   1000.000000   \n",
       "1                            2     31.622777   \n",
       "8                            3    316.227766   \n",
       "0                            2     10.000000   \n",
       "14                           4   1000.000000   \n",
       "7                            3    100.000000   \n",
       "6                            3     31.622777   \n",
       "13                           4    316.227766   \n",
       "12                           4    100.000000   \n",
       "5                            3     10.000000   \n",
       "11                           4     31.622777   \n",
       "10                           4     10.000000   \n",
       "\n",
       "                                                score  mean_score  std_score  \n",
       "3   [0.6011787650057057, 0.6291786154038115, 0.562...    0.615069   0.030193  \n",
       "9   [0.6166992944746666, 0.6127822330945476, 0.536...    0.614862   0.043321  \n",
       "2   [0.6397033426134056, 0.6045685742196174, 0.494...    0.611710   0.062322  \n",
       "4   [0.576208257127071, 0.6156474629642577, 0.5922...    0.597900   0.017012  \n",
       "1   [0.6576675638070638, 0.5658734564523009, 0.422...    0.592392   0.092297  \n",
       "8   [0.6655985801925857, 0.5874011840505577, 0.475...    0.589077   0.073398  \n",
       "0   [0.6558061904686903, 0.5285695073484505, 0.362...    0.573121   0.116659  \n",
       "14  [0.6646236338304413, 0.5526846349518668, 0.467...    0.538435   0.126204  \n",
       "7   [0.5880089780415716, 0.5642941354891886, 0.418...    0.529637   0.106450  \n",
       "6   [0.3205562616474341, 0.5150245320497143, 0.434...    0.446145   0.143737  \n",
       "13  [0.48138588063102294, 0.5288232780321294, 0.43...    0.428575   0.219230  \n",
       "12  [-0.03560847980198534, 0.5676421817799095, 0.4...    0.357140   0.280004  \n",
       "5   [-0.23769649067471077, 0.44264936079769057, 0....    0.312536   0.309802  \n",
       "11  [-0.5062192700486567, 0.6873201884429123, -0.4...    0.187621   0.558792  \n",
       "10  [-0.37887180035631696, 0.07754237773726003, -9...   -1.754114   3.888471  "
      ]
     },
     "execution_count": 29,
     "metadata": {},
     "output_type": "execute_result"
    }
   ],
   "source": [
    "search_results = search_results.sort_values(by=\"mean_score\", ascending=False)\n",
    "search_results"
   ]
  },
  {
   "cell_type": "code",
   "execution_count": 36,
   "id": "b7038eff-1314-45b9-b868-512a190c381d",
   "metadata": {},
   "outputs": [],
   "source": [
    "best_model = model.set_params(\n",
    "    polynomialfeatures__degree=search_results[\"polynomialfeatures__degree\"].iloc[0],\n",
    "    ridge__alpha=search_results[\"ridge__alpha\"].iloc[0],\n",
    ")"
   ]
  },
  {
   "cell_type": "code",
   "execution_count": 37,
   "id": "4e5907a6-d3fb-4f36-9839-891a3e339a98",
   "metadata": {},
   "outputs": [
    {
     "data": {
      "text/html": [
       "<div>\n",
       "<style scoped>\n",
       "    .dataframe tbody tr th:only-of-type {\n",
       "        vertical-align: middle;\n",
       "    }\n",
       "\n",
       "    .dataframe tbody tr th {\n",
       "        vertical-align: top;\n",
       "    }\n",
       "\n",
       "    .dataframe thead th {\n",
       "        text-align: right;\n",
       "    }\n",
       "</style>\n",
       "<table border=\"1\" class=\"dataframe\">\n",
       "  <thead>\n",
       "    <tr style=\"text-align: right;\">\n",
       "      <th></th>\n",
       "      <th>fit_time</th>\n",
       "      <th>score_time</th>\n",
       "      <th>test_score</th>\n",
       "    </tr>\n",
       "  </thead>\n",
       "  <tbody>\n",
       "    <tr>\n",
       "      <th>0</th>\n",
       "      <td>0.034005</td>\n",
       "      <td>0.002753</td>\n",
       "      <td>0.521021</td>\n",
       "    </tr>\n",
       "    <tr>\n",
       "      <th>1</th>\n",
       "      <td>0.017390</td>\n",
       "      <td>0.002313</td>\n",
       "      <td>0.493117</td>\n",
       "    </tr>\n",
       "    <tr>\n",
       "      <th>2</th>\n",
       "      <td>0.015289</td>\n",
       "      <td>0.002213</td>\n",
       "      <td>0.574714</td>\n",
       "    </tr>\n",
       "    <tr>\n",
       "      <th>3</th>\n",
       "      <td>0.012836</td>\n",
       "      <td>0.001619</td>\n",
       "      <td>0.555567</td>\n",
       "    </tr>\n",
       "    <tr>\n",
       "      <th>4</th>\n",
       "      <td>0.011655</td>\n",
       "      <td>0.001979</td>\n",
       "      <td>-3.220341</td>\n",
       "    </tr>\n",
       "  </tbody>\n",
       "</table>\n",
       "</div>"
      ],
      "text/plain": [
       "   fit_time  score_time  test_score\n",
       "0  0.034005    0.002753    0.521021\n",
       "1  0.017390    0.002313    0.493117\n",
       "2  0.015289    0.002213    0.574714\n",
       "3  0.012836    0.001619    0.555567\n",
       "4  0.011655    0.001979   -3.220341"
      ]
     },
     "execution_count": 37,
     "metadata": {},
     "output_type": "execute_result"
    }
   ],
   "source": [
    "cv_results = cross_validate(best_model, X, y)\n",
    "cv_results = pd.DataFrame(cv_results)\n",
    "cv_results"
   ]
  },
  {
   "cell_type": "markdown",
   "id": "31c99c28-3d95-499c-987c-ed12e7831ec1",
   "metadata": {},
   "source": [
    "## Hyperparameters search using a grid"
   ]
  },
  {
   "cell_type": "markdown",
   "id": "8a21ee24-e089-480b-b289-313de45b2733",
   "metadata": {},
   "source": [
    "The search that we performed manually is indeed known as a grid-search: we try every possible combination of the parameter that we first provided. Scikit-learn provides a specific estimator that will make the processing that we did previously: during `fit`, it will perform a cross-validation and pick the optimal hyperparameters using cross-validation."
   ]
  },
  {
   "cell_type": "code",
   "execution_count": 38,
   "id": "da7722ca-c287-4940-9074-c7c7b34d049e",
   "metadata": {},
   "outputs": [
    {
     "data": {
      "text/html": [
       "<style>#sk-9d4d8609-001e-4977-9c31-ae11c75a490b {color: black;background-color: white;}#sk-9d4d8609-001e-4977-9c31-ae11c75a490b pre{padding: 0;}#sk-9d4d8609-001e-4977-9c31-ae11c75a490b div.sk-toggleable {background-color: white;}#sk-9d4d8609-001e-4977-9c31-ae11c75a490b label.sk-toggleable__label {cursor: pointer;display: block;width: 100%;margin-bottom: 0;padding: 0.3em;box-sizing: border-box;text-align: center;}#sk-9d4d8609-001e-4977-9c31-ae11c75a490b div.sk-toggleable__content {max-height: 0;max-width: 0;overflow: hidden;text-align: left;background-color: #f0f8ff;}#sk-9d4d8609-001e-4977-9c31-ae11c75a490b div.sk-toggleable__content pre {margin: 0.2em;color: black;border-radius: 0.25em;background-color: #f0f8ff;}#sk-9d4d8609-001e-4977-9c31-ae11c75a490b input.sk-toggleable__control:checked~div.sk-toggleable__content {max-height: 200px;max-width: 100%;overflow: auto;}#sk-9d4d8609-001e-4977-9c31-ae11c75a490b div.sk-estimator input.sk-toggleable__control:checked~label.sk-toggleable__label {background-color: #d4ebff;}#sk-9d4d8609-001e-4977-9c31-ae11c75a490b div.sk-label input.sk-toggleable__control:checked~label.sk-toggleable__label {background-color: #d4ebff;}#sk-9d4d8609-001e-4977-9c31-ae11c75a490b input.sk-hidden--visually {border: 0;clip: rect(1px 1px 1px 1px);clip: rect(1px, 1px, 1px, 1px);height: 1px;margin: -1px;overflow: hidden;padding: 0;position: absolute;width: 1px;}#sk-9d4d8609-001e-4977-9c31-ae11c75a490b div.sk-estimator {font-family: monospace;background-color: #f0f8ff;border: 1px dotted black;border-radius: 0.25em;box-sizing: border-box;margin-bottom: 0.5em;}#sk-9d4d8609-001e-4977-9c31-ae11c75a490b div.sk-estimator:hover {background-color: #d4ebff;}#sk-9d4d8609-001e-4977-9c31-ae11c75a490b div.sk-parallel-item::after {content: \"\";width: 100%;border-bottom: 1px solid gray;flex-grow: 1;}#sk-9d4d8609-001e-4977-9c31-ae11c75a490b div.sk-label:hover label.sk-toggleable__label {background-color: #d4ebff;}#sk-9d4d8609-001e-4977-9c31-ae11c75a490b div.sk-serial::before {content: \"\";position: absolute;border-left: 1px solid gray;box-sizing: border-box;top: 2em;bottom: 0;left: 50%;}#sk-9d4d8609-001e-4977-9c31-ae11c75a490b div.sk-serial {display: flex;flex-direction: column;align-items: center;background-color: white;padding-right: 0.2em;padding-left: 0.2em;}#sk-9d4d8609-001e-4977-9c31-ae11c75a490b div.sk-item {z-index: 1;}#sk-9d4d8609-001e-4977-9c31-ae11c75a490b div.sk-parallel {display: flex;align-items: stretch;justify-content: center;background-color: white;}#sk-9d4d8609-001e-4977-9c31-ae11c75a490b div.sk-parallel::before {content: \"\";position: absolute;border-left: 1px solid gray;box-sizing: border-box;top: 2em;bottom: 0;left: 50%;}#sk-9d4d8609-001e-4977-9c31-ae11c75a490b div.sk-parallel-item {display: flex;flex-direction: column;position: relative;background-color: white;}#sk-9d4d8609-001e-4977-9c31-ae11c75a490b div.sk-parallel-item:first-child::after {align-self: flex-end;width: 50%;}#sk-9d4d8609-001e-4977-9c31-ae11c75a490b div.sk-parallel-item:last-child::after {align-self: flex-start;width: 50%;}#sk-9d4d8609-001e-4977-9c31-ae11c75a490b div.sk-parallel-item:only-child::after {width: 0;}#sk-9d4d8609-001e-4977-9c31-ae11c75a490b div.sk-dashed-wrapped {border: 1px dashed gray;margin: 0 0.4em 0.5em 0.4em;box-sizing: border-box;padding-bottom: 0.4em;background-color: white;position: relative;}#sk-9d4d8609-001e-4977-9c31-ae11c75a490b div.sk-label label {font-family: monospace;font-weight: bold;background-color: white;display: inline-block;line-height: 1.2em;}#sk-9d4d8609-001e-4977-9c31-ae11c75a490b div.sk-label-container {position: relative;z-index: 2;text-align: center;}#sk-9d4d8609-001e-4977-9c31-ae11c75a490b div.sk-container {display: inline-block;position: relative;}</style><div id=\"sk-9d4d8609-001e-4977-9c31-ae11c75a490b\" class\"sk-top-container\"><div class=\"sk-container\"><div class=\"sk-item sk-dashed-wrapped\"><div class=\"sk-label-container\"><div class=\"sk-label sk-toggleable\"><input class=\"sk-toggleable__control sk-hidden--visually\" id=\"cb844d5e-dc5e-45cd-8172-04081c7b9e8c\" type=\"checkbox\" ><label class=\"sk-toggleable__label\" for=\"cb844d5e-dc5e-45cd-8172-04081c7b9e8c\">GridSearchCV</label><div class=\"sk-toggleable__content\"><pre>GridSearchCV(estimator=Pipeline(steps=[('polynomialfeatures',\n",
       "                                        PolynomialFeatures()),\n",
       "                                       ('standardscaler', StandardScaler()),\n",
       "                                       ('ridge',\n",
       "                                        Ridge(alpha=316.22776601683796))]),\n",
       "             param_grid={'polynomialfeatures__degree': array([2, 3, 4]),\n",
       "                         'ridge__alpha': array([  10.        ,   31.6227766 ,  100.        ,  316.22776602,\n",
       "       1000.        ])})</pre></div></div></div><div class=\"sk-parallel\"><div class=\"sk-parallel-item\"><div class=\"sk-item\"><div class=\"sk-serial\"><div class=\"sk-item\"><div class=\"sk-serial\"><div class=\"sk-item\"><div class=\"sk-estimator sk-toggleable\"><input class=\"sk-toggleable__control sk-hidden--visually\" id=\"932ace16-343b-41dc-a0a3-8abecfde24f6\" type=\"checkbox\" ><label class=\"sk-toggleable__label\" for=\"932ace16-343b-41dc-a0a3-8abecfde24f6\">PolynomialFeatures</label><div class=\"sk-toggleable__content\"><pre>PolynomialFeatures()</pre></div></div></div><div class=\"sk-item\"><div class=\"sk-estimator sk-toggleable\"><input class=\"sk-toggleable__control sk-hidden--visually\" id=\"31f902c3-6fc9-44b6-a2a0-cfda460624f5\" type=\"checkbox\" ><label class=\"sk-toggleable__label\" for=\"31f902c3-6fc9-44b6-a2a0-cfda460624f5\">StandardScaler</label><div class=\"sk-toggleable__content\"><pre>StandardScaler()</pre></div></div></div><div class=\"sk-item\"><div class=\"sk-estimator sk-toggleable\"><input class=\"sk-toggleable__control sk-hidden--visually\" id=\"c3222cf2-d573-4eda-acb8-a4e65e6d95d8\" type=\"checkbox\" ><label class=\"sk-toggleable__label\" for=\"c3222cf2-d573-4eda-acb8-a4e65e6d95d8\">Ridge</label><div class=\"sk-toggleable__content\"><pre>Ridge(alpha=316.22776601683796)</pre></div></div></div></div></div></div></div></div></div></div></div></div>"
      ],
      "text/plain": [
       "GridSearchCV(estimator=Pipeline(steps=[('polynomialfeatures',\n",
       "                                        PolynomialFeatures()),\n",
       "                                       ('standardscaler', StandardScaler()),\n",
       "                                       ('ridge',\n",
       "                                        Ridge(alpha=316.22776601683796))]),\n",
       "             param_grid={'polynomialfeatures__degree': array([2, 3, 4]),\n",
       "                         'ridge__alpha': array([  10.        ,   31.6227766 ,  100.        ,  316.22776602,\n",
       "       1000.        ])})"
      ]
     },
     "execution_count": 38,
     "metadata": {},
     "output_type": "execute_result"
    }
   ],
   "source": [
    "from sklearn.model_selection import GridSearchCV\n",
    "\n",
    "search_cv = GridSearchCV(model, param_grid=parameter_grid)\n",
    "search_cv.fit(X_train, y_train)"
   ]
  },
  {
   "cell_type": "markdown",
   "id": "b4c5af3d-3a38-46c8-ae1a-bcc9bcaf8d65",
   "metadata": {},
   "source": [
    "We can get the best found parameters by looking at the fitted attributes `best_params_`:"
   ]
  },
  {
   "cell_type": "code",
   "execution_count": 39,
   "id": "b09b1a28-1dfc-4183-8db5-ec7ab1d0bc70",
   "metadata": {},
   "outputs": [
    {
     "data": {
      "text/plain": [
       "{'polynomialfeatures__degree': 2, 'ridge__alpha': 316.22776601683796}"
      ]
     },
     "execution_count": 39,
     "metadata": {},
     "output_type": "execute_result"
    }
   ],
   "source": [
    "search_cv.best_params_"
   ]
  },
  {
   "cell_type": "markdown",
   "id": "f8e2bcc0-89c4-489c-8d4f-20dab7c664cb",
   "metadata": {},
   "source": [
    "We can even get more information regarding the different combinations of hyperparameters tried during `fit` by looking at the fitted attribute `cv_results_`:"
   ]
  },
  {
   "cell_type": "code",
   "execution_count": 40,
   "id": "3df9069f-875f-4c41-b290-ee49a84642b6",
   "metadata": {},
   "outputs": [
    {
     "data": {
      "text/html": [
       "<div>\n",
       "<style scoped>\n",
       "    .dataframe tbody tr th:only-of-type {\n",
       "        vertical-align: middle;\n",
       "    }\n",
       "\n",
       "    .dataframe tbody tr th {\n",
       "        vertical-align: top;\n",
       "    }\n",
       "\n",
       "    .dataframe thead th {\n",
       "        text-align: right;\n",
       "    }\n",
       "</style>\n",
       "<table border=\"1\" class=\"dataframe\">\n",
       "  <thead>\n",
       "    <tr style=\"text-align: right;\">\n",
       "      <th></th>\n",
       "      <th>mean_fit_time</th>\n",
       "      <th>std_fit_time</th>\n",
       "      <th>mean_score_time</th>\n",
       "      <th>std_score_time</th>\n",
       "      <th>param_polynomialfeatures__degree</th>\n",
       "      <th>param_ridge__alpha</th>\n",
       "      <th>params</th>\n",
       "      <th>split0_test_score</th>\n",
       "      <th>split1_test_score</th>\n",
       "      <th>split2_test_score</th>\n",
       "      <th>split3_test_score</th>\n",
       "      <th>split4_test_score</th>\n",
       "      <th>mean_test_score</th>\n",
       "      <th>std_test_score</th>\n",
       "      <th>rank_test_score</th>\n",
       "    </tr>\n",
       "  </thead>\n",
       "  <tbody>\n",
       "    <tr>\n",
       "      <th>0</th>\n",
       "      <td>0.014342</td>\n",
       "      <td>0.005106</td>\n",
       "      <td>0.002100</td>\n",
       "      <td>0.000546</td>\n",
       "      <td>2</td>\n",
       "      <td>10.0</td>\n",
       "      <td>{'polynomialfeatures__degree': 2, 'ridge__alph...</td>\n",
       "      <td>0.655806</td>\n",
       "      <td>0.528570</td>\n",
       "      <td>0.362651</td>\n",
       "      <td>0.653063</td>\n",
       "      <td>0.665514</td>\n",
       "      <td>0.573121</td>\n",
       "      <td>0.116659</td>\n",
       "      <td>7</td>\n",
       "    </tr>\n",
       "    <tr>\n",
       "      <th>1</th>\n",
       "      <td>0.008773</td>\n",
       "      <td>0.000211</td>\n",
       "      <td>0.001417</td>\n",
       "      <td>0.000176</td>\n",
       "      <td>2</td>\n",
       "      <td>31.622777</td>\n",
       "      <td>{'polynomialfeatures__degree': 2, 'ridge__alph...</td>\n",
       "      <td>0.657668</td>\n",
       "      <td>0.565873</td>\n",
       "      <td>0.422209</td>\n",
       "      <td>0.654168</td>\n",
       "      <td>0.662040</td>\n",
       "      <td>0.592392</td>\n",
       "      <td>0.092297</td>\n",
       "      <td>5</td>\n",
       "    </tr>\n",
       "    <tr>\n",
       "      <th>2</th>\n",
       "      <td>0.009396</td>\n",
       "      <td>0.000643</td>\n",
       "      <td>0.001411</td>\n",
       "      <td>0.000128</td>\n",
       "      <td>2</td>\n",
       "      <td>100.0</td>\n",
       "      <td>{'polynomialfeatures__degree': 2, 'ridge__alph...</td>\n",
       "      <td>0.639703</td>\n",
       "      <td>0.604569</td>\n",
       "      <td>0.494025</td>\n",
       "      <td>0.665001</td>\n",
       "      <td>0.655253</td>\n",
       "      <td>0.611710</td>\n",
       "      <td>0.062322</td>\n",
       "      <td>3</td>\n",
       "    </tr>\n",
       "    <tr>\n",
       "      <th>3</th>\n",
       "      <td>0.008757</td>\n",
       "      <td>0.000326</td>\n",
       "      <td>0.001561</td>\n",
       "      <td>0.000361</td>\n",
       "      <td>2</td>\n",
       "      <td>316.227766</td>\n",
       "      <td>{'polynomialfeatures__degree': 2, 'ridge__alph...</td>\n",
       "      <td>0.601179</td>\n",
       "      <td>0.629179</td>\n",
       "      <td>0.562315</td>\n",
       "      <td>0.640136</td>\n",
       "      <td>0.642539</td>\n",
       "      <td>0.615069</td>\n",
       "      <td>0.030193</td>\n",
       "      <td>1</td>\n",
       "    </tr>\n",
       "    <tr>\n",
       "      <th>4</th>\n",
       "      <td>0.008848</td>\n",
       "      <td>0.000208</td>\n",
       "      <td>0.001317</td>\n",
       "      <td>0.000044</td>\n",
       "      <td>2</td>\n",
       "      <td>1000.0</td>\n",
       "      <td>{'polynomialfeatures__degree': 2, 'ridge__alph...</td>\n",
       "      <td>0.576208</td>\n",
       "      <td>0.615647</td>\n",
       "      <td>0.592287</td>\n",
       "      <td>0.585586</td>\n",
       "      <td>0.619774</td>\n",
       "      <td>0.597900</td>\n",
       "      <td>0.017012</td>\n",
       "      <td>4</td>\n",
       "    </tr>\n",
       "  </tbody>\n",
       "</table>\n",
       "</div>"
      ],
      "text/plain": [
       "   mean_fit_time  std_fit_time  mean_score_time  std_score_time  \\\n",
       "0       0.014342      0.005106         0.002100        0.000546   \n",
       "1       0.008773      0.000211         0.001417        0.000176   \n",
       "2       0.009396      0.000643         0.001411        0.000128   \n",
       "3       0.008757      0.000326         0.001561        0.000361   \n",
       "4       0.008848      0.000208         0.001317        0.000044   \n",
       "\n",
       "  param_polynomialfeatures__degree param_ridge__alpha  \\\n",
       "0                                2               10.0   \n",
       "1                                2          31.622777   \n",
       "2                                2              100.0   \n",
       "3                                2         316.227766   \n",
       "4                                2             1000.0   \n",
       "\n",
       "                                              params  split0_test_score  \\\n",
       "0  {'polynomialfeatures__degree': 2, 'ridge__alph...           0.655806   \n",
       "1  {'polynomialfeatures__degree': 2, 'ridge__alph...           0.657668   \n",
       "2  {'polynomialfeatures__degree': 2, 'ridge__alph...           0.639703   \n",
       "3  {'polynomialfeatures__degree': 2, 'ridge__alph...           0.601179   \n",
       "4  {'polynomialfeatures__degree': 2, 'ridge__alph...           0.576208   \n",
       "\n",
       "   split1_test_score  split2_test_score  split3_test_score  split4_test_score  \\\n",
       "0           0.528570           0.362651           0.653063           0.665514   \n",
       "1           0.565873           0.422209           0.654168           0.662040   \n",
       "2           0.604569           0.494025           0.665001           0.655253   \n",
       "3           0.629179           0.562315           0.640136           0.642539   \n",
       "4           0.615647           0.592287           0.585586           0.619774   \n",
       "\n",
       "   mean_test_score  std_test_score  rank_test_score  \n",
       "0         0.573121        0.116659                7  \n",
       "1         0.592392        0.092297                5  \n",
       "2         0.611710        0.062322                3  \n",
       "3         0.615069        0.030193                1  \n",
       "4         0.597900        0.017012                4  "
      ]
     },
     "execution_count": 40,
     "metadata": {},
     "output_type": "execute_result"
    }
   ],
   "source": [
    "cv_results = pd.DataFrame(search_cv.cv_results_)\n",
    "cv_results.head()"
   ]
  },
  {
   "cell_type": "markdown",
   "id": "2258cd94-e49a-408a-8385-314aa778428f",
   "metadata": {},
   "source": [
    "In addition, at the end of the `fit` procedure, if the parameter `refit` is set to `True` (default), a model with the best combination will be trained (as we did in the manual hyperparameters search). We can check this model by looking at the fitted attribute `best_estimator_`"
   ]
  },
  {
   "cell_type": "code",
   "execution_count": 41,
   "id": "6170ae6a-f222-48ec-bc5f-72f3daece7d1",
   "metadata": {},
   "outputs": [
    {
     "data": {
      "text/html": [
       "<style>#sk-b07f8918-e733-4531-aa45-95d50f73b5cf {color: black;background-color: white;}#sk-b07f8918-e733-4531-aa45-95d50f73b5cf pre{padding: 0;}#sk-b07f8918-e733-4531-aa45-95d50f73b5cf div.sk-toggleable {background-color: white;}#sk-b07f8918-e733-4531-aa45-95d50f73b5cf label.sk-toggleable__label {cursor: pointer;display: block;width: 100%;margin-bottom: 0;padding: 0.3em;box-sizing: border-box;text-align: center;}#sk-b07f8918-e733-4531-aa45-95d50f73b5cf div.sk-toggleable__content {max-height: 0;max-width: 0;overflow: hidden;text-align: left;background-color: #f0f8ff;}#sk-b07f8918-e733-4531-aa45-95d50f73b5cf div.sk-toggleable__content pre {margin: 0.2em;color: black;border-radius: 0.25em;background-color: #f0f8ff;}#sk-b07f8918-e733-4531-aa45-95d50f73b5cf input.sk-toggleable__control:checked~div.sk-toggleable__content {max-height: 200px;max-width: 100%;overflow: auto;}#sk-b07f8918-e733-4531-aa45-95d50f73b5cf div.sk-estimator input.sk-toggleable__control:checked~label.sk-toggleable__label {background-color: #d4ebff;}#sk-b07f8918-e733-4531-aa45-95d50f73b5cf div.sk-label input.sk-toggleable__control:checked~label.sk-toggleable__label {background-color: #d4ebff;}#sk-b07f8918-e733-4531-aa45-95d50f73b5cf input.sk-hidden--visually {border: 0;clip: rect(1px 1px 1px 1px);clip: rect(1px, 1px, 1px, 1px);height: 1px;margin: -1px;overflow: hidden;padding: 0;position: absolute;width: 1px;}#sk-b07f8918-e733-4531-aa45-95d50f73b5cf div.sk-estimator {font-family: monospace;background-color: #f0f8ff;border: 1px dotted black;border-radius: 0.25em;box-sizing: border-box;margin-bottom: 0.5em;}#sk-b07f8918-e733-4531-aa45-95d50f73b5cf div.sk-estimator:hover {background-color: #d4ebff;}#sk-b07f8918-e733-4531-aa45-95d50f73b5cf div.sk-parallel-item::after {content: \"\";width: 100%;border-bottom: 1px solid gray;flex-grow: 1;}#sk-b07f8918-e733-4531-aa45-95d50f73b5cf div.sk-label:hover label.sk-toggleable__label {background-color: #d4ebff;}#sk-b07f8918-e733-4531-aa45-95d50f73b5cf div.sk-serial::before {content: \"\";position: absolute;border-left: 1px solid gray;box-sizing: border-box;top: 2em;bottom: 0;left: 50%;}#sk-b07f8918-e733-4531-aa45-95d50f73b5cf div.sk-serial {display: flex;flex-direction: column;align-items: center;background-color: white;padding-right: 0.2em;padding-left: 0.2em;}#sk-b07f8918-e733-4531-aa45-95d50f73b5cf div.sk-item {z-index: 1;}#sk-b07f8918-e733-4531-aa45-95d50f73b5cf div.sk-parallel {display: flex;align-items: stretch;justify-content: center;background-color: white;}#sk-b07f8918-e733-4531-aa45-95d50f73b5cf div.sk-parallel::before {content: \"\";position: absolute;border-left: 1px solid gray;box-sizing: border-box;top: 2em;bottom: 0;left: 50%;}#sk-b07f8918-e733-4531-aa45-95d50f73b5cf div.sk-parallel-item {display: flex;flex-direction: column;position: relative;background-color: white;}#sk-b07f8918-e733-4531-aa45-95d50f73b5cf div.sk-parallel-item:first-child::after {align-self: flex-end;width: 50%;}#sk-b07f8918-e733-4531-aa45-95d50f73b5cf div.sk-parallel-item:last-child::after {align-self: flex-start;width: 50%;}#sk-b07f8918-e733-4531-aa45-95d50f73b5cf div.sk-parallel-item:only-child::after {width: 0;}#sk-b07f8918-e733-4531-aa45-95d50f73b5cf div.sk-dashed-wrapped {border: 1px dashed gray;margin: 0 0.4em 0.5em 0.4em;box-sizing: border-box;padding-bottom: 0.4em;background-color: white;position: relative;}#sk-b07f8918-e733-4531-aa45-95d50f73b5cf div.sk-label label {font-family: monospace;font-weight: bold;background-color: white;display: inline-block;line-height: 1.2em;}#sk-b07f8918-e733-4531-aa45-95d50f73b5cf div.sk-label-container {position: relative;z-index: 2;text-align: center;}#sk-b07f8918-e733-4531-aa45-95d50f73b5cf div.sk-container {display: inline-block;position: relative;}</style><div id=\"sk-b07f8918-e733-4531-aa45-95d50f73b5cf\" class\"sk-top-container\"><div class=\"sk-container\"><div class=\"sk-item sk-dashed-wrapped\"><div class=\"sk-label-container\"><div class=\"sk-label sk-toggleable\"><input class=\"sk-toggleable__control sk-hidden--visually\" id=\"298e9127-3e3d-42cb-925c-5865bb2f9484\" type=\"checkbox\" ><label class=\"sk-toggleable__label\" for=\"298e9127-3e3d-42cb-925c-5865bb2f9484\">Pipeline</label><div class=\"sk-toggleable__content\"><pre>Pipeline(steps=[('polynomialfeatures', PolynomialFeatures()),\n",
       "                ('standardscaler', StandardScaler()),\n",
       "                ('ridge', Ridge(alpha=316.22776601683796))])</pre></div></div></div><div class=\"sk-serial\"><div class=\"sk-item\"><div class=\"sk-estimator sk-toggleable\"><input class=\"sk-toggleable__control sk-hidden--visually\" id=\"d78453de-560c-4f8b-9baf-8532464db36e\" type=\"checkbox\" ><label class=\"sk-toggleable__label\" for=\"d78453de-560c-4f8b-9baf-8532464db36e\">PolynomialFeatures</label><div class=\"sk-toggleable__content\"><pre>PolynomialFeatures()</pre></div></div></div><div class=\"sk-item\"><div class=\"sk-estimator sk-toggleable\"><input class=\"sk-toggleable__control sk-hidden--visually\" id=\"84271823-881b-49c1-870f-246e2b25c70c\" type=\"checkbox\" ><label class=\"sk-toggleable__label\" for=\"84271823-881b-49c1-870f-246e2b25c70c\">StandardScaler</label><div class=\"sk-toggleable__content\"><pre>StandardScaler()</pre></div></div></div><div class=\"sk-item\"><div class=\"sk-estimator sk-toggleable\"><input class=\"sk-toggleable__control sk-hidden--visually\" id=\"5b502122-c9ff-47c5-acd7-16a9467677f9\" type=\"checkbox\" ><label class=\"sk-toggleable__label\" for=\"5b502122-c9ff-47c5-acd7-16a9467677f9\">Ridge</label><div class=\"sk-toggleable__content\"><pre>Ridge(alpha=316.22776601683796)</pre></div></div></div></div></div></div></div>"
      ],
      "text/plain": [
       "Pipeline(steps=[('polynomialfeatures', PolynomialFeatures()),\n",
       "                ('standardscaler', StandardScaler()),\n",
       "                ('ridge', Ridge(alpha=316.22776601683796))])"
      ]
     },
     "execution_count": 41,
     "metadata": {},
     "output_type": "execute_result"
    }
   ],
   "source": [
    "search_cv.best_estimator_"
   ]
  },
  {
   "cell_type": "markdown",
   "id": "e8789720-2639-44d3-a926-ad54246d4aa2",
   "metadata": {},
   "source": [
    "Indeed, this `best_estimator_` will be used when calling `predict` and `score` from the `GridSearchCV` instance."
   ]
  },
  {
   "cell_type": "code",
   "execution_count": 43,
   "id": "c8ba44d8-2100-425c-94ff-c0f587c5c108",
   "metadata": {},
   "outputs": [
    {
     "data": {
      "text/plain": [
       "-1.222417346053133"
      ]
     },
     "execution_count": 43,
     "metadata": {},
     "output_type": "execute_result"
    }
   ],
   "source": [
    "search_cv.score(X_test, y_test)"
   ]
  },
  {
   "cell_type": "markdown",
   "id": "058f8f39-03a9-47ea-991d-ca933e1c4ccc",
   "metadata": {},
   "source": [
    "<div class=\"alert alert-success\">\n",
    "    <b>EXERCISE</b>:\n",
    "    <br>\n",
    "    Since a <tt>GridSearchCV</tt> behave like any classifier or regressor, it can be used and evaluated by cross-validation. Use <tt>cross_validate</tt> to evaluate the previous grid-search model that we created.\n",
    "</div>"
   ]
  },
  {
   "cell_type": "code",
   "execution_count": 90,
   "id": "2b37ff2f-3a50-4af6-8487-5e647fe6135e",
   "metadata": {},
   "outputs": [],
   "source": [
    "cv_results = cross_validate(search_cv, X, y, return_estimator=True)\n",
    "cv_results = pd.DataFrame(cv_results)"
   ]
  },
  {
   "cell_type": "code",
   "execution_count": 91,
   "id": "8b9533b0-59d6-41b3-a2fa-d78fc5a40b4f",
   "metadata": {},
   "outputs": [
    {
     "data": {
      "text/html": [
       "<div>\n",
       "<style scoped>\n",
       "    .dataframe tbody tr th:only-of-type {\n",
       "        vertical-align: middle;\n",
       "    }\n",
       "\n",
       "    .dataframe tbody tr th {\n",
       "        vertical-align: top;\n",
       "    }\n",
       "\n",
       "    .dataframe thead th {\n",
       "        text-align: right;\n",
       "    }\n",
       "</style>\n",
       "<table border=\"1\" class=\"dataframe\">\n",
       "  <thead>\n",
       "    <tr style=\"text-align: right;\">\n",
       "      <th></th>\n",
       "      <th>fit_time</th>\n",
       "      <th>score_time</th>\n",
       "      <th>estimator</th>\n",
       "      <th>test_score</th>\n",
       "    </tr>\n",
       "  </thead>\n",
       "  <tbody>\n",
       "    <tr>\n",
       "      <th>0</th>\n",
       "      <td>5.356896</td>\n",
       "      <td>0.004350</td>\n",
       "      <td>GridSearchCV(estimator=Pipeline(steps=[('polyn...</td>\n",
       "      <td>0.258175</td>\n",
       "    </tr>\n",
       "    <tr>\n",
       "      <th>1</th>\n",
       "      <td>4.300810</td>\n",
       "      <td>0.001634</td>\n",
       "      <td>GridSearchCV(estimator=Pipeline(steps=[('polyn...</td>\n",
       "      <td>0.475082</td>\n",
       "    </tr>\n",
       "    <tr>\n",
       "      <th>2</th>\n",
       "      <td>4.452103</td>\n",
       "      <td>0.002440</td>\n",
       "      <td>GridSearchCV(estimator=Pipeline(steps=[('polyn...</td>\n",
       "      <td>0.561609</td>\n",
       "    </tr>\n",
       "    <tr>\n",
       "      <th>3</th>\n",
       "      <td>4.414243</td>\n",
       "      <td>0.001665</td>\n",
       "      <td>GridSearchCV(estimator=Pipeline(steps=[('polyn...</td>\n",
       "      <td>0.526413</td>\n",
       "    </tr>\n",
       "    <tr>\n",
       "      <th>4</th>\n",
       "      <td>4.488308</td>\n",
       "      <td>0.003557</td>\n",
       "      <td>GridSearchCV(estimator=Pipeline(steps=[('polyn...</td>\n",
       "      <td>-17.880146</td>\n",
       "    </tr>\n",
       "  </tbody>\n",
       "</table>\n",
       "</div>"
      ],
      "text/plain": [
       "   fit_time  score_time                                          estimator  \\\n",
       "0  5.356896    0.004350  GridSearchCV(estimator=Pipeline(steps=[('polyn...   \n",
       "1  4.300810    0.001634  GridSearchCV(estimator=Pipeline(steps=[('polyn...   \n",
       "2  4.452103    0.002440  GridSearchCV(estimator=Pipeline(steps=[('polyn...   \n",
       "3  4.414243    0.001665  GridSearchCV(estimator=Pipeline(steps=[('polyn...   \n",
       "4  4.488308    0.003557  GridSearchCV(estimator=Pipeline(steps=[('polyn...   \n",
       "\n",
       "   test_score  \n",
       "0    0.258175  \n",
       "1    0.475082  \n",
       "2    0.561609  \n",
       "3    0.526413  \n",
       "4  -17.880146  "
      ]
     },
     "execution_count": 91,
     "metadata": {},
     "output_type": "execute_result"
    }
   ],
   "source": [
    "cv_results"
   ]
  },
  {
   "cell_type": "code",
   "execution_count": 92,
   "id": "e09989dc-9ebe-41f2-ab63-ac16b08a961a",
   "metadata": {},
   "outputs": [
    {
     "data": {
      "text/plain": [
       "0    GridSearchCV(estimator=Pipeline(steps=[('polyn...\n",
       "1    GridSearchCV(estimator=Pipeline(steps=[('polyn...\n",
       "2    GridSearchCV(estimator=Pipeline(steps=[('polyn...\n",
       "3    GridSearchCV(estimator=Pipeline(steps=[('polyn...\n",
       "4    GridSearchCV(estimator=Pipeline(steps=[('polyn...\n",
       "Name: estimator, dtype: object"
      ]
     },
     "execution_count": 92,
     "metadata": {},
     "output_type": "execute_result"
    }
   ],
   "source": [
    "cv_results[\"estimator\"]"
   ]
  },
  {
   "cell_type": "code",
   "execution_count": 94,
   "id": "fcfd63f7-25a4-418c-9005-5b4dbdc62d74",
   "metadata": {},
   "outputs": [
    {
     "name": "stdout",
     "output_type": "stream",
     "text": [
      "{'polynomialfeatures__degree': 2, 'ridge__alpha': 31.622776601683793}\n",
      "{'polynomialfeatures__degree': 2, 'ridge__alpha': 1000.0}\n",
      "{'polynomialfeatures__degree': 2, 'ridge__alpha': 1000.0}\n",
      "{'polynomialfeatures__degree': 2, 'ridge__alpha': 1000.0}\n",
      "{'polynomialfeatures__degree': 3, 'ridge__alpha': 100.0}\n"
     ]
    }
   ],
   "source": [
    "for est in cv_results[\"estimator\"]:\n",
    "    print(est.best_params_)"
   ]
  },
  {
   "cell_type": "markdown",
   "id": "d2f20250-4260-4f1d-be17-32005daca376",
   "metadata": {},
   "source": [
    "<div class=\"alert alert-success\">\n",
    "    <b>QUESTION</b>:\n",
    "    <br>\n",
    "    Which limitation the grid-search approach suffer from?\n",
    "</div>"
   ]
  },
  {
   "cell_type": "markdown",
   "id": "de0639f0-2ea1-441f-b618-88ec8ebd063f",
   "metadata": {},
   "source": [
    "## Randomized hyperparameters search"
   ]
  },
  {
   "cell_type": "markdown",
   "id": "24e7bfa8-b02c-4a45-9324-b6794b045d4a",
   "metadata": {},
   "source": [
    "In the previous strategy, the grid-search has two limitations:\n",
    "\n",
    "- it only explores combination of parameters defined in the grid;\n",
    "- adding new parameters and values to explore will increase rapidly the cost of the search.\n",
    "\n",
    "`RandomizedSearchCV` allows to specify a distribution from which to draw parameter values. It allows to explore the hyperparamters space on a non-grid fashion and as a user, you can give a butget of the number of combination you want to try."
   ]
  },
  {
   "cell_type": "code",
   "execution_count": 53,
   "id": "acc627ac-e446-4df4-b7c9-05f3c82824b1",
   "metadata": {},
   "outputs": [],
   "source": [
    "from scipy.stats import loguniform\n",
    "\n",
    "parameter_distributions = {\n",
    "    \"polynomialfeatures__degree\": np.arange(1, 5),\n",
    "    \"ridge__alpha\": loguniform(1, 3),\n",
    "}"
   ]
  },
  {
   "cell_type": "code",
   "execution_count": 54,
   "id": "24640ef0-ba45-4a5a-b493-da1945e74205",
   "metadata": {},
   "outputs": [],
   "source": [
    "from sklearn.model_selection import RandomizedSearchCV\n",
    "\n",
    "search_cv = RandomizedSearchCV(\n",
    "    model, param_distributions=parameter_distributions, n_iter=10,\n",
    ")"
   ]
  },
  {
   "cell_type": "code",
   "execution_count": 55,
   "id": "6d0b5e5b-4fc7-48b1-93d9-527a57fe6403",
   "metadata": {},
   "outputs": [],
   "source": [
    "cv_results = cross_validate(search_cv, X, y, return_estimator=True)\n",
    "cv_results = pd.DataFrame(cv_results)"
   ]
  },
  {
   "cell_type": "code",
   "execution_count": 56,
   "id": "26e269a7-36df-460c-96ad-2508d1f1cc42",
   "metadata": {},
   "outputs": [
    {
     "data": {
      "text/html": [
       "<div>\n",
       "<style scoped>\n",
       "    .dataframe tbody tr th:only-of-type {\n",
       "        vertical-align: middle;\n",
       "    }\n",
       "\n",
       "    .dataframe tbody tr th {\n",
       "        vertical-align: top;\n",
       "    }\n",
       "\n",
       "    .dataframe thead th {\n",
       "        text-align: right;\n",
       "    }\n",
       "</style>\n",
       "<table border=\"1\" class=\"dataframe\">\n",
       "  <thead>\n",
       "    <tr style=\"text-align: right;\">\n",
       "      <th></th>\n",
       "      <th>fit_time</th>\n",
       "      <th>score_time</th>\n",
       "      <th>estimator</th>\n",
       "      <th>test_score</th>\n",
       "    </tr>\n",
       "  </thead>\n",
       "  <tbody>\n",
       "    <tr>\n",
       "      <th>0</th>\n",
       "      <td>1.412861</td>\n",
       "      <td>0.000635</td>\n",
       "      <td>RandomizedSearchCV(estimator=Pipeline(steps=[(...</td>\n",
       "      <td>0.548872</td>\n",
       "    </tr>\n",
       "    <tr>\n",
       "      <th>1</th>\n",
       "      <td>3.990260</td>\n",
       "      <td>0.000627</td>\n",
       "      <td>RandomizedSearchCV(estimator=Pipeline(steps=[(...</td>\n",
       "      <td>0.468163</td>\n",
       "    </tr>\n",
       "    <tr>\n",
       "      <th>2</th>\n",
       "      <td>1.655859</td>\n",
       "      <td>0.000616</td>\n",
       "      <td>RandomizedSearchCV(estimator=Pipeline(steps=[(...</td>\n",
       "      <td>0.550803</td>\n",
       "    </tr>\n",
       "    <tr>\n",
       "      <th>3</th>\n",
       "      <td>1.952612</td>\n",
       "      <td>0.000857</td>\n",
       "      <td>RandomizedSearchCV(estimator=Pipeline(steps=[(...</td>\n",
       "      <td>0.536801</td>\n",
       "    </tr>\n",
       "    <tr>\n",
       "      <th>4</th>\n",
       "      <td>2.330490</td>\n",
       "      <td>0.000654</td>\n",
       "      <td>RandomizedSearchCV(estimator=Pipeline(steps=[(...</td>\n",
       "      <td>0.660527</td>\n",
       "    </tr>\n",
       "  </tbody>\n",
       "</table>\n",
       "</div>"
      ],
      "text/plain": [
       "   fit_time  score_time                                          estimator  \\\n",
       "0  1.412861    0.000635  RandomizedSearchCV(estimator=Pipeline(steps=[(...   \n",
       "1  3.990260    0.000627  RandomizedSearchCV(estimator=Pipeline(steps=[(...   \n",
       "2  1.655859    0.000616  RandomizedSearchCV(estimator=Pipeline(steps=[(...   \n",
       "3  1.952612    0.000857  RandomizedSearchCV(estimator=Pipeline(steps=[(...   \n",
       "4  2.330490    0.000654  RandomizedSearchCV(estimator=Pipeline(steps=[(...   \n",
       "\n",
       "   test_score  \n",
       "0    0.548872  \n",
       "1    0.468163  \n",
       "2    0.550803  \n",
       "3    0.536801  \n",
       "4    0.660527  "
      ]
     },
     "execution_count": 56,
     "metadata": {},
     "output_type": "execute_result"
    }
   ],
   "source": [
    "cv_results"
   ]
  },
  {
   "cell_type": "code",
   "execution_count": 57,
   "id": "4c62a6a4-90ff-43c1-a46a-4d7213dcf366",
   "metadata": {},
   "outputs": [
    {
     "name": "stdout",
     "output_type": "stream",
     "text": [
      "{'polynomialfeatures__degree': 1, 'ridge__alpha': 2.428365753116008}\n",
      "{'polynomialfeatures__degree': 1, 'ridge__alpha': 1.7372677706132327}\n",
      "{'polynomialfeatures__degree': 1, 'ridge__alpha': 1.0581272217613393}\n",
      "{'polynomialfeatures__degree': 1, 'ridge__alpha': 2.727042126862619}\n",
      "{'polynomialfeatures__degree': 1, 'ridge__alpha': 2.7965527670658323}\n"
     ]
    }
   ],
   "source": [
    "for est in cv_results[\"estimator\"]:\n",
    "    print(est.best_params_)"
   ]
  },
  {
   "cell_type": "markdown",
   "id": "cadd6824-a67e-4097-9f2a-c7437d95e515",
   "metadata": {},
   "source": [
    "## Model with internal hyperparameter tuning"
   ]
  },
  {
   "cell_type": "markdown",
   "id": "700ce641-c798-403f-a3c5-4303f444d129",
   "metadata": {},
   "source": [
    "Some classifiers or regressors come with the some efficient hyperparameter selection, at least more efficient than a grid-search. Usually, the name of the classsifiers or regressors finish with `CV` (e.g. `RidgeCV`)."
   ]
  },
  {
   "cell_type": "markdown",
   "id": "71a53a0e-211d-46ae-b7be-32d0dc5d9af6",
   "metadata": {},
   "source": [
    "<div class=\"alert alert-success\">\n",
    "    <b>EXERCISE</b>:\n",
    "    <br>\n",
    "    <ul>\n",
    "        <li>Create a pipeline made of a <tt>PolynomialFeatures</tt>, a <tt>StandardScaler</tt>, and a <tt>Ridge</tt>.</li>\n",
    "        <li>Create a grid-search by passing the previous pipeline and tune the parameter <tt>alpha</tt> such that you will try the values <tt>np.logspace(-2, 2, num=50)</tt>.</li>\n",
    "        <li>Fit the grid-search on the training set and check the time it takes.</li>\n",
    "        <li>Repeat the experiment by replacing the <tt>Ridge</tt> regressor by a <tt>RidgeCV</tt> regressor and removing the <tt>GridSearchCV</tt>.</li>\n",
    "    </ul>\n",
    "    Which approach is more efficient in terms of computational performance.\n",
    "</div>"
   ]
  },
  {
   "cell_type": "code",
   "execution_count": 97,
   "id": "3a77fec3-0844-4e80-92e9-9036014ed817",
   "metadata": {},
   "outputs": [
    {
     "data": {
      "text/html": [
       "<style>#sk-49603f0e-9b79-4d45-bb27-a2da2605435d {color: black;background-color: white;}#sk-49603f0e-9b79-4d45-bb27-a2da2605435d pre{padding: 0;}#sk-49603f0e-9b79-4d45-bb27-a2da2605435d div.sk-toggleable {background-color: white;}#sk-49603f0e-9b79-4d45-bb27-a2da2605435d label.sk-toggleable__label {cursor: pointer;display: block;width: 100%;margin-bottom: 0;padding: 0.3em;box-sizing: border-box;text-align: center;}#sk-49603f0e-9b79-4d45-bb27-a2da2605435d div.sk-toggleable__content {max-height: 0;max-width: 0;overflow: hidden;text-align: left;background-color: #f0f8ff;}#sk-49603f0e-9b79-4d45-bb27-a2da2605435d div.sk-toggleable__content pre {margin: 0.2em;color: black;border-radius: 0.25em;background-color: #f0f8ff;}#sk-49603f0e-9b79-4d45-bb27-a2da2605435d input.sk-toggleable__control:checked~div.sk-toggleable__content {max-height: 200px;max-width: 100%;overflow: auto;}#sk-49603f0e-9b79-4d45-bb27-a2da2605435d div.sk-estimator input.sk-toggleable__control:checked~label.sk-toggleable__label {background-color: #d4ebff;}#sk-49603f0e-9b79-4d45-bb27-a2da2605435d div.sk-label input.sk-toggleable__control:checked~label.sk-toggleable__label {background-color: #d4ebff;}#sk-49603f0e-9b79-4d45-bb27-a2da2605435d input.sk-hidden--visually {border: 0;clip: rect(1px 1px 1px 1px);clip: rect(1px, 1px, 1px, 1px);height: 1px;margin: -1px;overflow: hidden;padding: 0;position: absolute;width: 1px;}#sk-49603f0e-9b79-4d45-bb27-a2da2605435d div.sk-estimator {font-family: monospace;background-color: #f0f8ff;border: 1px dotted black;border-radius: 0.25em;box-sizing: border-box;margin-bottom: 0.5em;}#sk-49603f0e-9b79-4d45-bb27-a2da2605435d div.sk-estimator:hover {background-color: #d4ebff;}#sk-49603f0e-9b79-4d45-bb27-a2da2605435d div.sk-parallel-item::after {content: \"\";width: 100%;border-bottom: 1px solid gray;flex-grow: 1;}#sk-49603f0e-9b79-4d45-bb27-a2da2605435d div.sk-label:hover label.sk-toggleable__label {background-color: #d4ebff;}#sk-49603f0e-9b79-4d45-bb27-a2da2605435d div.sk-serial::before {content: \"\";position: absolute;border-left: 1px solid gray;box-sizing: border-box;top: 2em;bottom: 0;left: 50%;}#sk-49603f0e-9b79-4d45-bb27-a2da2605435d div.sk-serial {display: flex;flex-direction: column;align-items: center;background-color: white;padding-right: 0.2em;padding-left: 0.2em;}#sk-49603f0e-9b79-4d45-bb27-a2da2605435d div.sk-item {z-index: 1;}#sk-49603f0e-9b79-4d45-bb27-a2da2605435d div.sk-parallel {display: flex;align-items: stretch;justify-content: center;background-color: white;}#sk-49603f0e-9b79-4d45-bb27-a2da2605435d div.sk-parallel::before {content: \"\";position: absolute;border-left: 1px solid gray;box-sizing: border-box;top: 2em;bottom: 0;left: 50%;}#sk-49603f0e-9b79-4d45-bb27-a2da2605435d div.sk-parallel-item {display: flex;flex-direction: column;position: relative;background-color: white;}#sk-49603f0e-9b79-4d45-bb27-a2da2605435d div.sk-parallel-item:first-child::after {align-self: flex-end;width: 50%;}#sk-49603f0e-9b79-4d45-bb27-a2da2605435d div.sk-parallel-item:last-child::after {align-self: flex-start;width: 50%;}#sk-49603f0e-9b79-4d45-bb27-a2da2605435d div.sk-parallel-item:only-child::after {width: 0;}#sk-49603f0e-9b79-4d45-bb27-a2da2605435d div.sk-dashed-wrapped {border: 1px dashed gray;margin: 0 0.4em 0.5em 0.4em;box-sizing: border-box;padding-bottom: 0.4em;background-color: white;position: relative;}#sk-49603f0e-9b79-4d45-bb27-a2da2605435d div.sk-label label {font-family: monospace;font-weight: bold;background-color: white;display: inline-block;line-height: 1.2em;}#sk-49603f0e-9b79-4d45-bb27-a2da2605435d div.sk-label-container {position: relative;z-index: 2;text-align: center;}#sk-49603f0e-9b79-4d45-bb27-a2da2605435d div.sk-container {display: inline-block;position: relative;}</style><div id=\"sk-49603f0e-9b79-4d45-bb27-a2da2605435d\" class\"sk-top-container\"><div class=\"sk-container\"><div class=\"sk-item sk-dashed-wrapped\"><div class=\"sk-label-container\"><div class=\"sk-label sk-toggleable\"><input class=\"sk-toggleable__control sk-hidden--visually\" id=\"7a3b8f37-7beb-41a5-be10-0d8562ca96ae\" type=\"checkbox\" ><label class=\"sk-toggleable__label\" for=\"7a3b8f37-7beb-41a5-be10-0d8562ca96ae\">GridSearchCV</label><div class=\"sk-toggleable__content\"><pre>GridSearchCV(estimator=Pipeline(steps=[('polynomialfeatures',\n",
       "                                        PolynomialFeatures()),\n",
       "                                       ('standardscaler', StandardScaler()),\n",
       "                                       ('ridge', Ridge())]),\n",
       "             param_grid={'ridge__alpha': array([1.00000000e-02, 1.20679264e-02, 1.45634848e-02, 1.75751062e-02,\n",
       "       2.12095089e-02, 2.55954792e-02, 3.08884360e-02, 3.72759372e-02,\n",
       "       4.49843267e-02, 5.42867544e-02, 6.55128557e-02, 7.90604321e-...\n",
       "       1.93069773e+00, 2.32995181e+00, 2.81176870e+00, 3.39322177e+00,\n",
       "       4.09491506e+00, 4.94171336e+00, 5.96362332e+00, 7.19685673e+00,\n",
       "       8.68511374e+00, 1.04811313e+01, 1.26485522e+01, 1.52641797e+01,\n",
       "       1.84206997e+01, 2.22299648e+01, 2.68269580e+01, 3.23745754e+01,\n",
       "       3.90693994e+01, 4.71486636e+01, 5.68986603e+01, 6.86648845e+01,\n",
       "       8.28642773e+01, 1.00000000e+02])},\n",
       "             scoring='neg_mean_squared_error')</pre></div></div></div><div class=\"sk-parallel\"><div class=\"sk-parallel-item\"><div class=\"sk-item\"><div class=\"sk-serial\"><div class=\"sk-item\"><div class=\"sk-serial\"><div class=\"sk-item\"><div class=\"sk-estimator sk-toggleable\"><input class=\"sk-toggleable__control sk-hidden--visually\" id=\"be25de73-33f5-4463-8bd4-3043b76b96d6\" type=\"checkbox\" ><label class=\"sk-toggleable__label\" for=\"be25de73-33f5-4463-8bd4-3043b76b96d6\">PolynomialFeatures</label><div class=\"sk-toggleable__content\"><pre>PolynomialFeatures()</pre></div></div></div><div class=\"sk-item\"><div class=\"sk-estimator sk-toggleable\"><input class=\"sk-toggleable__control sk-hidden--visually\" id=\"6b24ef2a-381b-47d5-b6cf-4d5b47c008e4\" type=\"checkbox\" ><label class=\"sk-toggleable__label\" for=\"6b24ef2a-381b-47d5-b6cf-4d5b47c008e4\">StandardScaler</label><div class=\"sk-toggleable__content\"><pre>StandardScaler()</pre></div></div></div><div class=\"sk-item\"><div class=\"sk-estimator sk-toggleable\"><input class=\"sk-toggleable__control sk-hidden--visually\" id=\"4d7d5219-518b-4507-8b0c-54abe2bf196b\" type=\"checkbox\" ><label class=\"sk-toggleable__label\" for=\"4d7d5219-518b-4507-8b0c-54abe2bf196b\">Ridge</label><div class=\"sk-toggleable__content\"><pre>Ridge()</pre></div></div></div></div></div></div></div></div></div></div></div></div>"
      ],
      "text/plain": [
       "GridSearchCV(estimator=Pipeline(steps=[('polynomialfeatures',\n",
       "                                        PolynomialFeatures()),\n",
       "                                       ('standardscaler', StandardScaler()),\n",
       "                                       ('ridge', Ridge())]),\n",
       "             param_grid={'ridge__alpha': array([1.00000000e-02, 1.20679264e-02, 1.45634848e-02, 1.75751062e-02,\n",
       "       2.12095089e-02, 2.55954792e-02, 3.08884360e-02, 3.72759372e-02,\n",
       "       4.49843267e-02, 5.42867544e-02, 6.55128557e-02, 7.90604321e-...\n",
       "       1.93069773e+00, 2.32995181e+00, 2.81176870e+00, 3.39322177e+00,\n",
       "       4.09491506e+00, 4.94171336e+00, 5.96362332e+00, 7.19685673e+00,\n",
       "       8.68511374e+00, 1.04811313e+01, 1.26485522e+01, 1.52641797e+01,\n",
       "       1.84206997e+01, 2.22299648e+01, 2.68269580e+01, 3.23745754e+01,\n",
       "       3.90693994e+01, 4.71486636e+01, 5.68986603e+01, 6.86648845e+01,\n",
       "       8.28642773e+01, 1.00000000e+02])},\n",
       "             scoring='neg_mean_squared_error')"
      ]
     },
     "execution_count": 97,
     "metadata": {},
     "output_type": "execute_result"
    }
   ],
   "source": [
    "from sklearn.linear_model import Ridge\n",
    "\n",
    "alphas = np.logspace(-2, 2, num=50)\n",
    "\n",
    "model = GridSearchCV(\n",
    "    make_pipeline(\n",
    "        PolynomialFeatures(),\n",
    "        StandardScaler(),\n",
    "        Ridge(),\n",
    "    ),\n",
    "    param_grid={\n",
    "        \"ridge__alpha\": alphas\n",
    "    },\n",
    "    scoring=\"neg_mean_squared_error\",\n",
    ")\n",
    "model"
   ]
  },
  {
   "cell_type": "code",
   "execution_count": 98,
   "id": "f3796e21-b172-4958-9151-06933bb6420e",
   "metadata": {},
   "outputs": [
    {
     "name": "stdout",
     "output_type": "stream",
     "text": [
      "CPU times: user 11.3 s, sys: 7.54 s, total: 18.8 s\n",
      "Wall time: 2.77 s\n"
     ]
    },
    {
     "data": {
      "text/html": [
       "<style>#sk-7bc35044-1b39-45a5-92da-88c202351e60 {color: black;background-color: white;}#sk-7bc35044-1b39-45a5-92da-88c202351e60 pre{padding: 0;}#sk-7bc35044-1b39-45a5-92da-88c202351e60 div.sk-toggleable {background-color: white;}#sk-7bc35044-1b39-45a5-92da-88c202351e60 label.sk-toggleable__label {cursor: pointer;display: block;width: 100%;margin-bottom: 0;padding: 0.3em;box-sizing: border-box;text-align: center;}#sk-7bc35044-1b39-45a5-92da-88c202351e60 div.sk-toggleable__content {max-height: 0;max-width: 0;overflow: hidden;text-align: left;background-color: #f0f8ff;}#sk-7bc35044-1b39-45a5-92da-88c202351e60 div.sk-toggleable__content pre {margin: 0.2em;color: black;border-radius: 0.25em;background-color: #f0f8ff;}#sk-7bc35044-1b39-45a5-92da-88c202351e60 input.sk-toggleable__control:checked~div.sk-toggleable__content {max-height: 200px;max-width: 100%;overflow: auto;}#sk-7bc35044-1b39-45a5-92da-88c202351e60 div.sk-estimator input.sk-toggleable__control:checked~label.sk-toggleable__label {background-color: #d4ebff;}#sk-7bc35044-1b39-45a5-92da-88c202351e60 div.sk-label input.sk-toggleable__control:checked~label.sk-toggleable__label {background-color: #d4ebff;}#sk-7bc35044-1b39-45a5-92da-88c202351e60 input.sk-hidden--visually {border: 0;clip: rect(1px 1px 1px 1px);clip: rect(1px, 1px, 1px, 1px);height: 1px;margin: -1px;overflow: hidden;padding: 0;position: absolute;width: 1px;}#sk-7bc35044-1b39-45a5-92da-88c202351e60 div.sk-estimator {font-family: monospace;background-color: #f0f8ff;border: 1px dotted black;border-radius: 0.25em;box-sizing: border-box;margin-bottom: 0.5em;}#sk-7bc35044-1b39-45a5-92da-88c202351e60 div.sk-estimator:hover {background-color: #d4ebff;}#sk-7bc35044-1b39-45a5-92da-88c202351e60 div.sk-parallel-item::after {content: \"\";width: 100%;border-bottom: 1px solid gray;flex-grow: 1;}#sk-7bc35044-1b39-45a5-92da-88c202351e60 div.sk-label:hover label.sk-toggleable__label {background-color: #d4ebff;}#sk-7bc35044-1b39-45a5-92da-88c202351e60 div.sk-serial::before {content: \"\";position: absolute;border-left: 1px solid gray;box-sizing: border-box;top: 2em;bottom: 0;left: 50%;}#sk-7bc35044-1b39-45a5-92da-88c202351e60 div.sk-serial {display: flex;flex-direction: column;align-items: center;background-color: white;padding-right: 0.2em;padding-left: 0.2em;}#sk-7bc35044-1b39-45a5-92da-88c202351e60 div.sk-item {z-index: 1;}#sk-7bc35044-1b39-45a5-92da-88c202351e60 div.sk-parallel {display: flex;align-items: stretch;justify-content: center;background-color: white;}#sk-7bc35044-1b39-45a5-92da-88c202351e60 div.sk-parallel::before {content: \"\";position: absolute;border-left: 1px solid gray;box-sizing: border-box;top: 2em;bottom: 0;left: 50%;}#sk-7bc35044-1b39-45a5-92da-88c202351e60 div.sk-parallel-item {display: flex;flex-direction: column;position: relative;background-color: white;}#sk-7bc35044-1b39-45a5-92da-88c202351e60 div.sk-parallel-item:first-child::after {align-self: flex-end;width: 50%;}#sk-7bc35044-1b39-45a5-92da-88c202351e60 div.sk-parallel-item:last-child::after {align-self: flex-start;width: 50%;}#sk-7bc35044-1b39-45a5-92da-88c202351e60 div.sk-parallel-item:only-child::after {width: 0;}#sk-7bc35044-1b39-45a5-92da-88c202351e60 div.sk-dashed-wrapped {border: 1px dashed gray;margin: 0 0.4em 0.5em 0.4em;box-sizing: border-box;padding-bottom: 0.4em;background-color: white;position: relative;}#sk-7bc35044-1b39-45a5-92da-88c202351e60 div.sk-label label {font-family: monospace;font-weight: bold;background-color: white;display: inline-block;line-height: 1.2em;}#sk-7bc35044-1b39-45a5-92da-88c202351e60 div.sk-label-container {position: relative;z-index: 2;text-align: center;}#sk-7bc35044-1b39-45a5-92da-88c202351e60 div.sk-container {display: inline-block;position: relative;}</style><div id=\"sk-7bc35044-1b39-45a5-92da-88c202351e60\" class\"sk-top-container\"><div class=\"sk-container\"><div class=\"sk-item sk-dashed-wrapped\"><div class=\"sk-label-container\"><div class=\"sk-label sk-toggleable\"><input class=\"sk-toggleable__control sk-hidden--visually\" id=\"18c473b4-dc4d-4a48-818a-c33c1c680a19\" type=\"checkbox\" ><label class=\"sk-toggleable__label\" for=\"18c473b4-dc4d-4a48-818a-c33c1c680a19\">GridSearchCV</label><div class=\"sk-toggleable__content\"><pre>GridSearchCV(estimator=Pipeline(steps=[('polynomialfeatures',\n",
       "                                        PolynomialFeatures()),\n",
       "                                       ('standardscaler', StandardScaler()),\n",
       "                                       ('ridge', Ridge())]),\n",
       "             param_grid={'ridge__alpha': array([1.00000000e-02, 1.20679264e-02, 1.45634848e-02, 1.75751062e-02,\n",
       "       2.12095089e-02, 2.55954792e-02, 3.08884360e-02, 3.72759372e-02,\n",
       "       4.49843267e-02, 5.42867544e-02, 6.55128557e-02, 7.90604321e-...\n",
       "       1.93069773e+00, 2.32995181e+00, 2.81176870e+00, 3.39322177e+00,\n",
       "       4.09491506e+00, 4.94171336e+00, 5.96362332e+00, 7.19685673e+00,\n",
       "       8.68511374e+00, 1.04811313e+01, 1.26485522e+01, 1.52641797e+01,\n",
       "       1.84206997e+01, 2.22299648e+01, 2.68269580e+01, 3.23745754e+01,\n",
       "       3.90693994e+01, 4.71486636e+01, 5.68986603e+01, 6.86648845e+01,\n",
       "       8.28642773e+01, 1.00000000e+02])},\n",
       "             scoring='neg_mean_squared_error')</pre></div></div></div><div class=\"sk-parallel\"><div class=\"sk-parallel-item\"><div class=\"sk-item\"><div class=\"sk-serial\"><div class=\"sk-item\"><div class=\"sk-serial\"><div class=\"sk-item\"><div class=\"sk-estimator sk-toggleable\"><input class=\"sk-toggleable__control sk-hidden--visually\" id=\"5dda5c67-12d9-49c7-a5cb-4f3cd55d0cc9\" type=\"checkbox\" ><label class=\"sk-toggleable__label\" for=\"5dda5c67-12d9-49c7-a5cb-4f3cd55d0cc9\">PolynomialFeatures</label><div class=\"sk-toggleable__content\"><pre>PolynomialFeatures()</pre></div></div></div><div class=\"sk-item\"><div class=\"sk-estimator sk-toggleable\"><input class=\"sk-toggleable__control sk-hidden--visually\" id=\"86f1c2de-88a3-4ad2-aa2a-73a570c8baef\" type=\"checkbox\" ><label class=\"sk-toggleable__label\" for=\"86f1c2de-88a3-4ad2-aa2a-73a570c8baef\">StandardScaler</label><div class=\"sk-toggleable__content\"><pre>StandardScaler()</pre></div></div></div><div class=\"sk-item\"><div class=\"sk-estimator sk-toggleable\"><input class=\"sk-toggleable__control sk-hidden--visually\" id=\"8a53f5d9-9315-49af-8f66-73a775b2608c\" type=\"checkbox\" ><label class=\"sk-toggleable__label\" for=\"8a53f5d9-9315-49af-8f66-73a775b2608c\">Ridge</label><div class=\"sk-toggleable__content\"><pre>Ridge()</pre></div></div></div></div></div></div></div></div></div></div></div></div>"
      ],
      "text/plain": [
       "GridSearchCV(estimator=Pipeline(steps=[('polynomialfeatures',\n",
       "                                        PolynomialFeatures()),\n",
       "                                       ('standardscaler', StandardScaler()),\n",
       "                                       ('ridge', Ridge())]),\n",
       "             param_grid={'ridge__alpha': array([1.00000000e-02, 1.20679264e-02, 1.45634848e-02, 1.75751062e-02,\n",
       "       2.12095089e-02, 2.55954792e-02, 3.08884360e-02, 3.72759372e-02,\n",
       "       4.49843267e-02, 5.42867544e-02, 6.55128557e-02, 7.90604321e-...\n",
       "       1.93069773e+00, 2.32995181e+00, 2.81176870e+00, 3.39322177e+00,\n",
       "       4.09491506e+00, 4.94171336e+00, 5.96362332e+00, 7.19685673e+00,\n",
       "       8.68511374e+00, 1.04811313e+01, 1.26485522e+01, 1.52641797e+01,\n",
       "       1.84206997e+01, 2.22299648e+01, 2.68269580e+01, 3.23745754e+01,\n",
       "       3.90693994e+01, 4.71486636e+01, 5.68986603e+01, 6.86648845e+01,\n",
       "       8.28642773e+01, 1.00000000e+02])},\n",
       "             scoring='neg_mean_squared_error')"
      ]
     },
     "execution_count": 98,
     "metadata": {},
     "output_type": "execute_result"
    }
   ],
   "source": [
    "%%time\n",
    "model.fit(X_train, y_train)"
   ]
  },
  {
   "cell_type": "code",
   "execution_count": 107,
   "id": "7a8927a4-513b-4a1b-82cd-a88f890375eb",
   "metadata": {},
   "outputs": [],
   "source": [
    "from sklearn.linear_model import RidgeCV\n",
    "\n",
    "model = make_pipeline(\n",
    "    PolynomialFeatures(),\n",
    "    StandardScaler(),\n",
    "    RidgeCV(alphas=alphas, store_cv_values=True),\n",
    ")"
   ]
  },
  {
   "cell_type": "code",
   "execution_count": 108,
   "id": "571c48ee-e346-4bb2-a7bd-a8932eabd3d8",
   "metadata": {},
   "outputs": [
    {
     "name": "stdout",
     "output_type": "stream",
     "text": [
      "CPU times: user 462 ms, sys: 306 ms, total: 768 ms\n",
      "Wall time: 161 ms\n"
     ]
    },
    {
     "data": {
      "text/html": [
       "<style>#sk-f128baef-9e28-47d8-b6ea-f922bdbd42d5 {color: black;background-color: white;}#sk-f128baef-9e28-47d8-b6ea-f922bdbd42d5 pre{padding: 0;}#sk-f128baef-9e28-47d8-b6ea-f922bdbd42d5 div.sk-toggleable {background-color: white;}#sk-f128baef-9e28-47d8-b6ea-f922bdbd42d5 label.sk-toggleable__label {cursor: pointer;display: block;width: 100%;margin-bottom: 0;padding: 0.3em;box-sizing: border-box;text-align: center;}#sk-f128baef-9e28-47d8-b6ea-f922bdbd42d5 div.sk-toggleable__content {max-height: 0;max-width: 0;overflow: hidden;text-align: left;background-color: #f0f8ff;}#sk-f128baef-9e28-47d8-b6ea-f922bdbd42d5 div.sk-toggleable__content pre {margin: 0.2em;color: black;border-radius: 0.25em;background-color: #f0f8ff;}#sk-f128baef-9e28-47d8-b6ea-f922bdbd42d5 input.sk-toggleable__control:checked~div.sk-toggleable__content {max-height: 200px;max-width: 100%;overflow: auto;}#sk-f128baef-9e28-47d8-b6ea-f922bdbd42d5 div.sk-estimator input.sk-toggleable__control:checked~label.sk-toggleable__label {background-color: #d4ebff;}#sk-f128baef-9e28-47d8-b6ea-f922bdbd42d5 div.sk-label input.sk-toggleable__control:checked~label.sk-toggleable__label {background-color: #d4ebff;}#sk-f128baef-9e28-47d8-b6ea-f922bdbd42d5 input.sk-hidden--visually {border: 0;clip: rect(1px 1px 1px 1px);clip: rect(1px, 1px, 1px, 1px);height: 1px;margin: -1px;overflow: hidden;padding: 0;position: absolute;width: 1px;}#sk-f128baef-9e28-47d8-b6ea-f922bdbd42d5 div.sk-estimator {font-family: monospace;background-color: #f0f8ff;border: 1px dotted black;border-radius: 0.25em;box-sizing: border-box;margin-bottom: 0.5em;}#sk-f128baef-9e28-47d8-b6ea-f922bdbd42d5 div.sk-estimator:hover {background-color: #d4ebff;}#sk-f128baef-9e28-47d8-b6ea-f922bdbd42d5 div.sk-parallel-item::after {content: \"\";width: 100%;border-bottom: 1px solid gray;flex-grow: 1;}#sk-f128baef-9e28-47d8-b6ea-f922bdbd42d5 div.sk-label:hover label.sk-toggleable__label {background-color: #d4ebff;}#sk-f128baef-9e28-47d8-b6ea-f922bdbd42d5 div.sk-serial::before {content: \"\";position: absolute;border-left: 1px solid gray;box-sizing: border-box;top: 2em;bottom: 0;left: 50%;}#sk-f128baef-9e28-47d8-b6ea-f922bdbd42d5 div.sk-serial {display: flex;flex-direction: column;align-items: center;background-color: white;padding-right: 0.2em;padding-left: 0.2em;}#sk-f128baef-9e28-47d8-b6ea-f922bdbd42d5 div.sk-item {z-index: 1;}#sk-f128baef-9e28-47d8-b6ea-f922bdbd42d5 div.sk-parallel {display: flex;align-items: stretch;justify-content: center;background-color: white;}#sk-f128baef-9e28-47d8-b6ea-f922bdbd42d5 div.sk-parallel::before {content: \"\";position: absolute;border-left: 1px solid gray;box-sizing: border-box;top: 2em;bottom: 0;left: 50%;}#sk-f128baef-9e28-47d8-b6ea-f922bdbd42d5 div.sk-parallel-item {display: flex;flex-direction: column;position: relative;background-color: white;}#sk-f128baef-9e28-47d8-b6ea-f922bdbd42d5 div.sk-parallel-item:first-child::after {align-self: flex-end;width: 50%;}#sk-f128baef-9e28-47d8-b6ea-f922bdbd42d5 div.sk-parallel-item:last-child::after {align-self: flex-start;width: 50%;}#sk-f128baef-9e28-47d8-b6ea-f922bdbd42d5 div.sk-parallel-item:only-child::after {width: 0;}#sk-f128baef-9e28-47d8-b6ea-f922bdbd42d5 div.sk-dashed-wrapped {border: 1px dashed gray;margin: 0 0.4em 0.5em 0.4em;box-sizing: border-box;padding-bottom: 0.4em;background-color: white;position: relative;}#sk-f128baef-9e28-47d8-b6ea-f922bdbd42d5 div.sk-label label {font-family: monospace;font-weight: bold;background-color: white;display: inline-block;line-height: 1.2em;}#sk-f128baef-9e28-47d8-b6ea-f922bdbd42d5 div.sk-label-container {position: relative;z-index: 2;text-align: center;}#sk-f128baef-9e28-47d8-b6ea-f922bdbd42d5 div.sk-container {display: inline-block;position: relative;}</style><div id=\"sk-f128baef-9e28-47d8-b6ea-f922bdbd42d5\" class\"sk-top-container\"><div class=\"sk-container\"><div class=\"sk-item sk-dashed-wrapped\"><div class=\"sk-label-container\"><div class=\"sk-label sk-toggleable\"><input class=\"sk-toggleable__control sk-hidden--visually\" id=\"e7cc2b3e-ee1b-413d-9488-b3ea1c717623\" type=\"checkbox\" ><label class=\"sk-toggleable__label\" for=\"e7cc2b3e-ee1b-413d-9488-b3ea1c717623\">Pipeline</label><div class=\"sk-toggleable__content\"><pre>Pipeline(steps=[('polynomialfeatures', PolynomialFeatures()),\n",
       "                ('standardscaler', StandardScaler()),\n",
       "                ('ridgecv',\n",
       "                 RidgeCV(alphas=array([1.00000000e-02, 1.20679264e-02, 1.45634848e-02, 1.75751062e-02,\n",
       "       2.12095089e-02, 2.55954792e-02, 3.08884360e-02, 3.72759372e-02,\n",
       "       4.49843267e-02, 5.42867544e-02, 6.55128557e-02, 7.90604321e-02,\n",
       "       9.54095476e-02, 1.15139540e-01, 1.38949549e...\n",
       "       1.93069773e+00, 2.32995181e+00, 2.81176870e+00, 3.39322177e+00,\n",
       "       4.09491506e+00, 4.94171336e+00, 5.96362332e+00, 7.19685673e+00,\n",
       "       8.68511374e+00, 1.04811313e+01, 1.26485522e+01, 1.52641797e+01,\n",
       "       1.84206997e+01, 2.22299648e+01, 2.68269580e+01, 3.23745754e+01,\n",
       "       3.90693994e+01, 4.71486636e+01, 5.68986603e+01, 6.86648845e+01,\n",
       "       8.28642773e+01, 1.00000000e+02]),\n",
       "                         store_cv_values=True))])</pre></div></div></div><div class=\"sk-serial\"><div class=\"sk-item\"><div class=\"sk-estimator sk-toggleable\"><input class=\"sk-toggleable__control sk-hidden--visually\" id=\"5fd88824-7392-41bb-aa39-4fa15f1c4108\" type=\"checkbox\" ><label class=\"sk-toggleable__label\" for=\"5fd88824-7392-41bb-aa39-4fa15f1c4108\">PolynomialFeatures</label><div class=\"sk-toggleable__content\"><pre>PolynomialFeatures()</pre></div></div></div><div class=\"sk-item\"><div class=\"sk-estimator sk-toggleable\"><input class=\"sk-toggleable__control sk-hidden--visually\" id=\"dfa7a47e-1f3a-47c7-ab07-e4541759271d\" type=\"checkbox\" ><label class=\"sk-toggleable__label\" for=\"dfa7a47e-1f3a-47c7-ab07-e4541759271d\">StandardScaler</label><div class=\"sk-toggleable__content\"><pre>StandardScaler()</pre></div></div></div><div class=\"sk-item\"><div class=\"sk-estimator sk-toggleable\"><input class=\"sk-toggleable__control sk-hidden--visually\" id=\"2c586e97-ff8e-4373-a2f6-c2b96bd31672\" type=\"checkbox\" ><label class=\"sk-toggleable__label\" for=\"2c586e97-ff8e-4373-a2f6-c2b96bd31672\">RidgeCV</label><div class=\"sk-toggleable__content\"><pre>RidgeCV(alphas=array([1.00000000e-02, 1.20679264e-02, 1.45634848e-02, 1.75751062e-02,\n",
       "       2.12095089e-02, 2.55954792e-02, 3.08884360e-02, 3.72759372e-02,\n",
       "       4.49843267e-02, 5.42867544e-02, 6.55128557e-02, 7.90604321e-02,\n",
       "       9.54095476e-02, 1.15139540e-01, 1.38949549e-01, 1.67683294e-01,\n",
       "       2.02358965e-01, 2.44205309e-01, 2.94705170e-01, 3.55648031e-01,\n",
       "       4.29193426e-01, 5.17947468e-0...\n",
       "       1.93069773e+00, 2.32995181e+00, 2.81176870e+00, 3.39322177e+00,\n",
       "       4.09491506e+00, 4.94171336e+00, 5.96362332e+00, 7.19685673e+00,\n",
       "       8.68511374e+00, 1.04811313e+01, 1.26485522e+01, 1.52641797e+01,\n",
       "       1.84206997e+01, 2.22299648e+01, 2.68269580e+01, 3.23745754e+01,\n",
       "       3.90693994e+01, 4.71486636e+01, 5.68986603e+01, 6.86648845e+01,\n",
       "       8.28642773e+01, 1.00000000e+02]),\n",
       "        store_cv_values=True)</pre></div></div></div></div></div></div></div>"
      ],
      "text/plain": [
       "Pipeline(steps=[('polynomialfeatures', PolynomialFeatures()),\n",
       "                ('standardscaler', StandardScaler()),\n",
       "                ('ridgecv',\n",
       "                 RidgeCV(alphas=array([1.00000000e-02, 1.20679264e-02, 1.45634848e-02, 1.75751062e-02,\n",
       "       2.12095089e-02, 2.55954792e-02, 3.08884360e-02, 3.72759372e-02,\n",
       "       4.49843267e-02, 5.42867544e-02, 6.55128557e-02, 7.90604321e-02,\n",
       "       9.54095476e-02, 1.15139540e-01, 1.38949549e...\n",
       "       1.93069773e+00, 2.32995181e+00, 2.81176870e+00, 3.39322177e+00,\n",
       "       4.09491506e+00, 4.94171336e+00, 5.96362332e+00, 7.19685673e+00,\n",
       "       8.68511374e+00, 1.04811313e+01, 1.26485522e+01, 1.52641797e+01,\n",
       "       1.84206997e+01, 2.22299648e+01, 2.68269580e+01, 3.23745754e+01,\n",
       "       3.90693994e+01, 4.71486636e+01, 5.68986603e+01, 6.86648845e+01,\n",
       "       8.28642773e+01, 1.00000000e+02]),\n",
       "                         store_cv_values=True))])"
      ]
     },
     "execution_count": 108,
     "metadata": {},
     "output_type": "execute_result"
    }
   ],
   "source": [
    "%%time\n",
    "model.fit(X_train, y_train)"
   ]
  },
  {
   "cell_type": "markdown",
   "id": "66247e22-48cc-48bc-a5ee-e4be4ed51ae7",
   "metadata": {},
   "source": [
    "## Inspection of hyperparameters in cross-validation"
   ]
  },
  {
   "cell_type": "markdown",
   "id": "89b18131-94b4-4c40-81fd-6ce1e207d116",
   "metadata": {},
   "source": [
    "Sometimes, we perform a search cross-validation inside a cross-validation evaluation. In this case, we potentially have different set of hyperparameter values for each individual cross-validation split. We can indeed inspect these values. Let's define a `GridSearchCV` model."
   ]
  },
  {
   "cell_type": "code",
   "execution_count": 114,
   "id": "1a68abe5-a849-4c12-bbd9-65419e45632a",
   "metadata": {},
   "outputs": [
    {
     "data": {
      "text/html": [
       "<style>#sk-ec7e75cf-9c5d-4e85-a80a-54d440281464 {color: black;background-color: white;}#sk-ec7e75cf-9c5d-4e85-a80a-54d440281464 pre{padding: 0;}#sk-ec7e75cf-9c5d-4e85-a80a-54d440281464 div.sk-toggleable {background-color: white;}#sk-ec7e75cf-9c5d-4e85-a80a-54d440281464 label.sk-toggleable__label {cursor: pointer;display: block;width: 100%;margin-bottom: 0;padding: 0.3em;box-sizing: border-box;text-align: center;}#sk-ec7e75cf-9c5d-4e85-a80a-54d440281464 div.sk-toggleable__content {max-height: 0;max-width: 0;overflow: hidden;text-align: left;background-color: #f0f8ff;}#sk-ec7e75cf-9c5d-4e85-a80a-54d440281464 div.sk-toggleable__content pre {margin: 0.2em;color: black;border-radius: 0.25em;background-color: #f0f8ff;}#sk-ec7e75cf-9c5d-4e85-a80a-54d440281464 input.sk-toggleable__control:checked~div.sk-toggleable__content {max-height: 200px;max-width: 100%;overflow: auto;}#sk-ec7e75cf-9c5d-4e85-a80a-54d440281464 div.sk-estimator input.sk-toggleable__control:checked~label.sk-toggleable__label {background-color: #d4ebff;}#sk-ec7e75cf-9c5d-4e85-a80a-54d440281464 div.sk-label input.sk-toggleable__control:checked~label.sk-toggleable__label {background-color: #d4ebff;}#sk-ec7e75cf-9c5d-4e85-a80a-54d440281464 input.sk-hidden--visually {border: 0;clip: rect(1px 1px 1px 1px);clip: rect(1px, 1px, 1px, 1px);height: 1px;margin: -1px;overflow: hidden;padding: 0;position: absolute;width: 1px;}#sk-ec7e75cf-9c5d-4e85-a80a-54d440281464 div.sk-estimator {font-family: monospace;background-color: #f0f8ff;border: 1px dotted black;border-radius: 0.25em;box-sizing: border-box;margin-bottom: 0.5em;}#sk-ec7e75cf-9c5d-4e85-a80a-54d440281464 div.sk-estimator:hover {background-color: #d4ebff;}#sk-ec7e75cf-9c5d-4e85-a80a-54d440281464 div.sk-parallel-item::after {content: \"\";width: 100%;border-bottom: 1px solid gray;flex-grow: 1;}#sk-ec7e75cf-9c5d-4e85-a80a-54d440281464 div.sk-label:hover label.sk-toggleable__label {background-color: #d4ebff;}#sk-ec7e75cf-9c5d-4e85-a80a-54d440281464 div.sk-serial::before {content: \"\";position: absolute;border-left: 1px solid gray;box-sizing: border-box;top: 2em;bottom: 0;left: 50%;}#sk-ec7e75cf-9c5d-4e85-a80a-54d440281464 div.sk-serial {display: flex;flex-direction: column;align-items: center;background-color: white;padding-right: 0.2em;padding-left: 0.2em;}#sk-ec7e75cf-9c5d-4e85-a80a-54d440281464 div.sk-item {z-index: 1;}#sk-ec7e75cf-9c5d-4e85-a80a-54d440281464 div.sk-parallel {display: flex;align-items: stretch;justify-content: center;background-color: white;}#sk-ec7e75cf-9c5d-4e85-a80a-54d440281464 div.sk-parallel::before {content: \"\";position: absolute;border-left: 1px solid gray;box-sizing: border-box;top: 2em;bottom: 0;left: 50%;}#sk-ec7e75cf-9c5d-4e85-a80a-54d440281464 div.sk-parallel-item {display: flex;flex-direction: column;position: relative;background-color: white;}#sk-ec7e75cf-9c5d-4e85-a80a-54d440281464 div.sk-parallel-item:first-child::after {align-self: flex-end;width: 50%;}#sk-ec7e75cf-9c5d-4e85-a80a-54d440281464 div.sk-parallel-item:last-child::after {align-self: flex-start;width: 50%;}#sk-ec7e75cf-9c5d-4e85-a80a-54d440281464 div.sk-parallel-item:only-child::after {width: 0;}#sk-ec7e75cf-9c5d-4e85-a80a-54d440281464 div.sk-dashed-wrapped {border: 1px dashed gray;margin: 0 0.4em 0.5em 0.4em;box-sizing: border-box;padding-bottom: 0.4em;background-color: white;position: relative;}#sk-ec7e75cf-9c5d-4e85-a80a-54d440281464 div.sk-label label {font-family: monospace;font-weight: bold;background-color: white;display: inline-block;line-height: 1.2em;}#sk-ec7e75cf-9c5d-4e85-a80a-54d440281464 div.sk-label-container {position: relative;z-index: 2;text-align: center;}#sk-ec7e75cf-9c5d-4e85-a80a-54d440281464 div.sk-container {display: inline-block;position: relative;}</style><div id=\"sk-ec7e75cf-9c5d-4e85-a80a-54d440281464\" class\"sk-top-container\"><div class=\"sk-container\"><div class=\"sk-item sk-dashed-wrapped\"><div class=\"sk-label-container\"><div class=\"sk-label sk-toggleable\"><input class=\"sk-toggleable__control sk-hidden--visually\" id=\"571ef0b6-4f45-49e4-8017-20978890096f\" type=\"checkbox\" ><label class=\"sk-toggleable__label\" for=\"571ef0b6-4f45-49e4-8017-20978890096f\">GridSearchCV</label><div class=\"sk-toggleable__content\"><pre>GridSearchCV(estimator=Pipeline(steps=[('polynomialfeatures',\n",
       "                                        PolynomialFeatures()),\n",
       "                                       ('standardscaler', StandardScaler()),\n",
       "                                       ('ridge', Ridge())]),\n",
       "             param_grid={'ridge__alpha': array([1.00000000e-02, 1.20679264e-02, 1.45634848e-02, 1.75751062e-02,\n",
       "       2.12095089e-02, 2.55954792e-02, 3.08884360e-02, 3.72759372e-02,\n",
       "       4.49843267e-02, 5.42867544e-02, 6.55128557e-02, 7.90604321e-...\n",
       "       1.93069773e+00, 2.32995181e+00, 2.81176870e+00, 3.39322177e+00,\n",
       "       4.09491506e+00, 4.94171336e+00, 5.96362332e+00, 7.19685673e+00,\n",
       "       8.68511374e+00, 1.04811313e+01, 1.26485522e+01, 1.52641797e+01,\n",
       "       1.84206997e+01, 2.22299648e+01, 2.68269580e+01, 3.23745754e+01,\n",
       "       3.90693994e+01, 4.71486636e+01, 5.68986603e+01, 6.86648845e+01,\n",
       "       8.28642773e+01, 1.00000000e+02])},\n",
       "             scoring='neg_mean_squared_error')</pre></div></div></div><div class=\"sk-parallel\"><div class=\"sk-parallel-item\"><div class=\"sk-item\"><div class=\"sk-serial\"><div class=\"sk-item\"><div class=\"sk-serial\"><div class=\"sk-item\"><div class=\"sk-estimator sk-toggleable\"><input class=\"sk-toggleable__control sk-hidden--visually\" id=\"ac55e5ac-3c00-43e4-bea3-4de647eea0b7\" type=\"checkbox\" ><label class=\"sk-toggleable__label\" for=\"ac55e5ac-3c00-43e4-bea3-4de647eea0b7\">PolynomialFeatures</label><div class=\"sk-toggleable__content\"><pre>PolynomialFeatures()</pre></div></div></div><div class=\"sk-item\"><div class=\"sk-estimator sk-toggleable\"><input class=\"sk-toggleable__control sk-hidden--visually\" id=\"62dbc4c2-691a-485c-9801-e1feece5bd19\" type=\"checkbox\" ><label class=\"sk-toggleable__label\" for=\"62dbc4c2-691a-485c-9801-e1feece5bd19\">StandardScaler</label><div class=\"sk-toggleable__content\"><pre>StandardScaler()</pre></div></div></div><div class=\"sk-item\"><div class=\"sk-estimator sk-toggleable\"><input class=\"sk-toggleable__control sk-hidden--visually\" id=\"faa7ab6f-09f2-4e44-a189-b895161d3e12\" type=\"checkbox\" ><label class=\"sk-toggleable__label\" for=\"faa7ab6f-09f2-4e44-a189-b895161d3e12\">Ridge</label><div class=\"sk-toggleable__content\"><pre>Ridge()</pre></div></div></div></div></div></div></div></div></div></div></div></div>"
      ],
      "text/plain": [
       "GridSearchCV(estimator=Pipeline(steps=[('polynomialfeatures',\n",
       "                                        PolynomialFeatures()),\n",
       "                                       ('standardscaler', StandardScaler()),\n",
       "                                       ('ridge', Ridge())]),\n",
       "             param_grid={'ridge__alpha': array([1.00000000e-02, 1.20679264e-02, 1.45634848e-02, 1.75751062e-02,\n",
       "       2.12095089e-02, 2.55954792e-02, 3.08884360e-02, 3.72759372e-02,\n",
       "       4.49843267e-02, 5.42867544e-02, 6.55128557e-02, 7.90604321e-...\n",
       "       1.93069773e+00, 2.32995181e+00, 2.81176870e+00, 3.39322177e+00,\n",
       "       4.09491506e+00, 4.94171336e+00, 5.96362332e+00, 7.19685673e+00,\n",
       "       8.68511374e+00, 1.04811313e+01, 1.26485522e+01, 1.52641797e+01,\n",
       "       1.84206997e+01, 2.22299648e+01, 2.68269580e+01, 3.23745754e+01,\n",
       "       3.90693994e+01, 4.71486636e+01, 5.68986603e+01, 6.86648845e+01,\n",
       "       8.28642773e+01, 1.00000000e+02])},\n",
       "             scoring='neg_mean_squared_error')"
      ]
     },
     "execution_count": 114,
     "metadata": {},
     "output_type": "execute_result"
    }
   ],
   "source": [
    "from sklearn.linear_model import Ridge\n",
    "\n",
    "alphas = np.logspace(-2, 2, num=50)\n",
    "\n",
    "model = GridSearchCV(\n",
    "    make_pipeline(\n",
    "        PolynomialFeatures(),\n",
    "        StandardScaler(),\n",
    "        Ridge(),\n",
    "    ),\n",
    "    param_grid={\n",
    "        \"ridge__alpha\": alphas\n",
    "    },\n",
    "    scoring=\"neg_mean_squared_error\",\n",
    ")\n",
    "model"
   ]
  },
  {
   "cell_type": "markdown",
   "id": "46915d7a-0826-4719-b5e3-ab821946d51c",
   "metadata": {},
   "source": [
    "Then, we can run a cross-validation by passing the model to `cross_validate`. In addition, we can store every model train on each cross-validation splits by setting `return_estimator` to `True`."
   ]
  },
  {
   "cell_type": "code",
   "execution_count": 115,
   "id": "528c75fa-bb34-4a6b-af9b-8530396d6f87",
   "metadata": {},
   "outputs": [
    {
     "data": {
      "text/html": [
       "<div>\n",
       "<style scoped>\n",
       "    .dataframe tbody tr th:only-of-type {\n",
       "        vertical-align: middle;\n",
       "    }\n",
       "\n",
       "    .dataframe tbody tr th {\n",
       "        vertical-align: top;\n",
       "    }\n",
       "\n",
       "    .dataframe thead th {\n",
       "        text-align: right;\n",
       "    }\n",
       "</style>\n",
       "<table border=\"1\" class=\"dataframe\">\n",
       "  <thead>\n",
       "    <tr style=\"text-align: right;\">\n",
       "      <th></th>\n",
       "      <th>fit_time</th>\n",
       "      <th>score_time</th>\n",
       "      <th>estimator</th>\n",
       "      <th>test_score</th>\n",
       "    </tr>\n",
       "  </thead>\n",
       "  <tbody>\n",
       "    <tr>\n",
       "      <th>0</th>\n",
       "      <td>2.479363</td>\n",
       "      <td>0.002521</td>\n",
       "      <td>GridSearchCV(estimator=Pipeline(steps=[('polyn...</td>\n",
       "      <td>-0.693117</td>\n",
       "    </tr>\n",
       "    <tr>\n",
       "      <th>1</th>\n",
       "      <td>2.588212</td>\n",
       "      <td>0.002671</td>\n",
       "      <td>GridSearchCV(estimator=Pipeline(steps=[('polyn...</td>\n",
       "      <td>-0.493655</td>\n",
       "    </tr>\n",
       "    <tr>\n",
       "      <th>2</th>\n",
       "      <td>2.749654</td>\n",
       "      <td>0.003345</td>\n",
       "      <td>GridSearchCV(estimator=Pipeline(steps=[('polyn...</td>\n",
       "      <td>-9.096473</td>\n",
       "    </tr>\n",
       "  </tbody>\n",
       "</table>\n",
       "</div>"
      ],
      "text/plain": [
       "   fit_time  score_time                                          estimator  \\\n",
       "0  2.479363    0.002521  GridSearchCV(estimator=Pipeline(steps=[('polyn...   \n",
       "1  2.588212    0.002671  GridSearchCV(estimator=Pipeline(steps=[('polyn...   \n",
       "2  2.749654    0.003345  GridSearchCV(estimator=Pipeline(steps=[('polyn...   \n",
       "\n",
       "   test_score  \n",
       "0   -0.693117  \n",
       "1   -0.493655  \n",
       "2   -9.096473  "
      ]
     },
     "execution_count": 115,
     "metadata": {},
     "output_type": "execute_result"
    }
   ],
   "source": [
    "cv_results = cross_validate(model, X, y, cv=3, return_estimator=True)\n",
    "cv_results = pd.DataFrame(cv_results)\n",
    "cv_results"
   ]
  },
  {
   "cell_type": "markdown",
   "id": "9b38165e-dbc2-4e80-81f8-a3528140512a",
   "metadata": {},
   "source": [
    "We see that the `estimator` columns contain the different estimators. Thus we can check the `best_params_` stored by the `GridSearchCV`."
   ]
  },
  {
   "cell_type": "code",
   "execution_count": 116,
   "id": "f16ad7a1-ec9f-4a04-a207-fa9f69c3cac8",
   "metadata": {},
   "outputs": [
    {
     "name": "stdout",
     "output_type": "stream",
     "text": [
      "{'ridge__alpha': 22.229964825261934}\n",
      "{'ridge__alpha': 0.20235896477251566}\n",
      "{'ridge__alpha': 1.0985411419875584}\n"
     ]
    }
   ],
   "source": [
    "for estimator_cv_fold in cv_results[\"estimator\"]:\n",
    "    print(estimator_cv_fold.best_params_)"
   ]
  },
  {
   "cell_type": "markdown",
   "id": "a6c1e45f-28ed-4813-a2b4-c8a90e096653",
   "metadata": {},
   "source": [
    "Such inspection allows to study the stability of the hyperparameter values."
   ]
  }
 ],
 "metadata": {
  "kernelspec": {
   "display_name": "Python 3 (ipykernel)",
   "language": "python",
   "name": "python3"
  },
  "language_info": {
   "codemirror_mode": {
    "name": "ipython",
    "version": 3
   },
   "file_extension": ".py",
   "mimetype": "text/x-python",
   "name": "python",
   "nbconvert_exporter": "python",
   "pygments_lexer": "ipython3",
   "version": "3.8.12"
  }
 },
 "nbformat": 4,
 "nbformat_minor": 5
}
