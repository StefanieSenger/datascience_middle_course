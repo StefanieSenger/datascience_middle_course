{
 "cells": [
  {
   "cell_type": "markdown",
   "id": "2d95bdb5-0815-4d30-8c9f-6aa194bf4355",
   "metadata": {},
   "source": [
    "# Classifier calibration"
   ]
  },
  {
   "cell_type": "markdown",
   "id": "5b169f8e-7a4b-437c-854c-2a8523eeeb4a",
   "metadata": {},
   "source": [
    "For some applications, experts would like to interpret the output of the probabilities that a classifier is providing. Let's take the example of weather forecasting and specifically prediction of severe rainfall classification. If an event declare a 80% probability to have a severe rainfall, on 100 events with such particular weather, 80 of them had a severe rainfall outcome while 20 of them did not.\n",
    "\n",
    "Thus, it happens that classifiers do not provide a probabilities that translate into such interpretation: these classifiers are not calibrated. When such interpretations are required, one should make sure that classifiers are calibrated and if not, should calibrate them.\n",
    "\n",
    "In this notebook, we will investigate how to check if a classifier or not is calibrated and how to calibrate one.\n",
    "\n",
    "## Presentation of our dataset\n",
    "\n",
    "Let's load the dataset where we will illustrate our problem."
   ]
  },
  {
   "cell_type": "code",
   "execution_count": 1,
   "id": "c09f0573-eb90-4f4f-bfc7-5b900f3978c7",
   "metadata": {},
   "outputs": [],
   "source": [
    "import sklearn\n",
    "\n",
    "sklearn.set_config(display=\"diagram\")"
   ]
  },
  {
   "cell_type": "code",
   "execution_count": 2,
   "id": "f10791af-f784-496f-847e-cd9ee0071d05",
   "metadata": {},
   "outputs": [
    {
     "data": {
      "text/html": [
       "<div>\n",
       "<style scoped>\n",
       "    .dataframe tbody tr th:only-of-type {\n",
       "        vertical-align: middle;\n",
       "    }\n",
       "\n",
       "    .dataframe tbody tr th {\n",
       "        vertical-align: top;\n",
       "    }\n",
       "\n",
       "    .dataframe thead th {\n",
       "        text-align: right;\n",
       "    }\n",
       "</style>\n",
       "<table border=\"1\" class=\"dataframe\">\n",
       "  <thead>\n",
       "    <tr style=\"text-align: right;\">\n",
       "      <th></th>\n",
       "      <th>Date</th>\n",
       "      <th>Location</th>\n",
       "      <th>MinTemp</th>\n",
       "      <th>MaxTemp</th>\n",
       "      <th>Rainfall</th>\n",
       "      <th>Evaporation</th>\n",
       "      <th>Sunshine</th>\n",
       "      <th>WindGustDir</th>\n",
       "      <th>WindGustSpeed</th>\n",
       "      <th>WindDir9am</th>\n",
       "      <th>...</th>\n",
       "      <th>Humidity9am</th>\n",
       "      <th>Humidity3pm</th>\n",
       "      <th>Pressure9am</th>\n",
       "      <th>Pressure3pm</th>\n",
       "      <th>Cloud9am</th>\n",
       "      <th>Cloud3pm</th>\n",
       "      <th>Temp9am</th>\n",
       "      <th>Temp3pm</th>\n",
       "      <th>RainToday</th>\n",
       "      <th>RainTomorrow</th>\n",
       "    </tr>\n",
       "  </thead>\n",
       "  <tbody>\n",
       "    <tr>\n",
       "      <th>0</th>\n",
       "      <td>2008-12-01</td>\n",
       "      <td>Albury</td>\n",
       "      <td>13.4</td>\n",
       "      <td>22.9</td>\n",
       "      <td>0.6</td>\n",
       "      <td>NaN</td>\n",
       "      <td>NaN</td>\n",
       "      <td>W</td>\n",
       "      <td>44.0</td>\n",
       "      <td>W</td>\n",
       "      <td>...</td>\n",
       "      <td>71.0</td>\n",
       "      <td>22.0</td>\n",
       "      <td>1007.7</td>\n",
       "      <td>1007.1</td>\n",
       "      <td>8.0</td>\n",
       "      <td>NaN</td>\n",
       "      <td>16.9</td>\n",
       "      <td>21.8</td>\n",
       "      <td>No</td>\n",
       "      <td>No</td>\n",
       "    </tr>\n",
       "    <tr>\n",
       "      <th>1</th>\n",
       "      <td>2008-12-02</td>\n",
       "      <td>Albury</td>\n",
       "      <td>7.4</td>\n",
       "      <td>25.1</td>\n",
       "      <td>0.0</td>\n",
       "      <td>NaN</td>\n",
       "      <td>NaN</td>\n",
       "      <td>WNW</td>\n",
       "      <td>44.0</td>\n",
       "      <td>NNW</td>\n",
       "      <td>...</td>\n",
       "      <td>44.0</td>\n",
       "      <td>25.0</td>\n",
       "      <td>1010.6</td>\n",
       "      <td>1007.8</td>\n",
       "      <td>NaN</td>\n",
       "      <td>NaN</td>\n",
       "      <td>17.2</td>\n",
       "      <td>24.3</td>\n",
       "      <td>No</td>\n",
       "      <td>No</td>\n",
       "    </tr>\n",
       "    <tr>\n",
       "      <th>2</th>\n",
       "      <td>2008-12-03</td>\n",
       "      <td>Albury</td>\n",
       "      <td>12.9</td>\n",
       "      <td>25.7</td>\n",
       "      <td>0.0</td>\n",
       "      <td>NaN</td>\n",
       "      <td>NaN</td>\n",
       "      <td>WSW</td>\n",
       "      <td>46.0</td>\n",
       "      <td>W</td>\n",
       "      <td>...</td>\n",
       "      <td>38.0</td>\n",
       "      <td>30.0</td>\n",
       "      <td>1007.6</td>\n",
       "      <td>1008.7</td>\n",
       "      <td>NaN</td>\n",
       "      <td>2.0</td>\n",
       "      <td>21.0</td>\n",
       "      <td>23.2</td>\n",
       "      <td>No</td>\n",
       "      <td>No</td>\n",
       "    </tr>\n",
       "    <tr>\n",
       "      <th>3</th>\n",
       "      <td>2008-12-04</td>\n",
       "      <td>Albury</td>\n",
       "      <td>9.2</td>\n",
       "      <td>28.0</td>\n",
       "      <td>0.0</td>\n",
       "      <td>NaN</td>\n",
       "      <td>NaN</td>\n",
       "      <td>NE</td>\n",
       "      <td>24.0</td>\n",
       "      <td>SE</td>\n",
       "      <td>...</td>\n",
       "      <td>45.0</td>\n",
       "      <td>16.0</td>\n",
       "      <td>1017.6</td>\n",
       "      <td>1012.8</td>\n",
       "      <td>NaN</td>\n",
       "      <td>NaN</td>\n",
       "      <td>18.1</td>\n",
       "      <td>26.5</td>\n",
       "      <td>No</td>\n",
       "      <td>No</td>\n",
       "    </tr>\n",
       "    <tr>\n",
       "      <th>4</th>\n",
       "      <td>2008-12-05</td>\n",
       "      <td>Albury</td>\n",
       "      <td>17.5</td>\n",
       "      <td>32.3</td>\n",
       "      <td>1.0</td>\n",
       "      <td>NaN</td>\n",
       "      <td>NaN</td>\n",
       "      <td>W</td>\n",
       "      <td>41.0</td>\n",
       "      <td>ENE</td>\n",
       "      <td>...</td>\n",
       "      <td>82.0</td>\n",
       "      <td>33.0</td>\n",
       "      <td>1010.8</td>\n",
       "      <td>1006.0</td>\n",
       "      <td>7.0</td>\n",
       "      <td>8.0</td>\n",
       "      <td>17.8</td>\n",
       "      <td>29.7</td>\n",
       "      <td>No</td>\n",
       "      <td>No</td>\n",
       "    </tr>\n",
       "  </tbody>\n",
       "</table>\n",
       "<p>5 rows × 23 columns</p>\n",
       "</div>"
      ],
      "text/plain": [
       "        Date Location  MinTemp  MaxTemp  Rainfall  Evaporation  Sunshine  \\\n",
       "0 2008-12-01   Albury     13.4     22.9       0.6          NaN       NaN   \n",
       "1 2008-12-02   Albury      7.4     25.1       0.0          NaN       NaN   \n",
       "2 2008-12-03   Albury     12.9     25.7       0.0          NaN       NaN   \n",
       "3 2008-12-04   Albury      9.2     28.0       0.0          NaN       NaN   \n",
       "4 2008-12-05   Albury     17.5     32.3       1.0          NaN       NaN   \n",
       "\n",
       "  WindGustDir  WindGustSpeed WindDir9am  ... Humidity9am  Humidity3pm  \\\n",
       "0           W           44.0          W  ...        71.0         22.0   \n",
       "1         WNW           44.0        NNW  ...        44.0         25.0   \n",
       "2         WSW           46.0          W  ...        38.0         30.0   \n",
       "3          NE           24.0         SE  ...        45.0         16.0   \n",
       "4           W           41.0        ENE  ...        82.0         33.0   \n",
       "\n",
       "   Pressure9am  Pressure3pm  Cloud9am  Cloud3pm  Temp9am  Temp3pm  RainToday  \\\n",
       "0       1007.7       1007.1       8.0       NaN     16.9     21.8         No   \n",
       "1       1010.6       1007.8       NaN       NaN     17.2     24.3         No   \n",
       "2       1007.6       1008.7       NaN       2.0     21.0     23.2         No   \n",
       "3       1017.6       1012.8       NaN       NaN     18.1     26.5         No   \n",
       "4       1010.8       1006.0       7.0       8.0     17.8     29.7         No   \n",
       "\n",
       "   RainTomorrow  \n",
       "0            No  \n",
       "1            No  \n",
       "2            No  \n",
       "3            No  \n",
       "4            No  \n",
       "\n",
       "[5 rows x 23 columns]"
      ]
     },
     "execution_count": 2,
     "metadata": {},
     "output_type": "execute_result"
    }
   ],
   "source": [
    "import pandas as pd\n",
    "\n",
    "data = pd.read_csv(\"../datasets/weather.csv\", parse_dates=[\"Date\"])\n",
    "data.head()"
   ]
  },
  {
   "cell_type": "markdown",
   "id": "63f5372c-e73c-4ac0-a23a-cf739c93d7ca",
   "metadata": {},
   "source": [
    "This dataset contains information about weather forecast. We will modify this dataset such that our target will be the `\"Rainfall\"` column. We will create a classification problem by thresholding the target to get to category: >50 mm that will be severe rainfall and <50 mm that will not be a severe rainfall.\n",
    "\n",
    "In addition, we will drop the `\"RainToday\"` and `\"RainTomorrow\"` features that are the link with the original classification problem."
   ]
  },
  {
   "cell_type": "code",
   "execution_count": 3,
   "id": "fe20339b-ecd0-4088-a59a-9468189b00aa",
   "metadata": {},
   "outputs": [],
   "source": [
    "import numpy as np\n",
    "\n",
    "target_name = \"Rainfall\"\n",
    "data = data.dropna(axis=\"index\", subset=[target_name])\n",
    "X = data.drop(columns=[\"RainToday\", \"RainTomorrow\", target_name])\n",
    "y = (data[target_name] > 50).astype(np.int64)"
   ]
  },
  {
   "cell_type": "markdown",
   "id": "6bbecf3b-dce6-4e2a-89cd-3f42f5101e9b",
   "metadata": {},
   "source": [
    "Now let's have a look at the available features and their types"
   ]
  },
  {
   "cell_type": "code",
   "execution_count": 4,
   "id": "489bd199-ab04-448b-b7fa-0f0e183bf695",
   "metadata": {},
   "outputs": [
    {
     "name": "stdout",
     "output_type": "stream",
     "text": [
      "<class 'pandas.core.frame.DataFrame'>\n",
      "Int64Index: 142199 entries, 0 to 145459\n",
      "Data columns (total 20 columns):\n",
      " #   Column         Non-Null Count   Dtype         \n",
      "---  ------         --------------   -----         \n",
      " 0   Date           142199 non-null  datetime64[ns]\n",
      " 1   Location       142199 non-null  object        \n",
      " 2   MinTemp        141712 non-null  float64       \n",
      " 3   MaxTemp        141729 non-null  float64       \n",
      " 4   Evaporation    81711 non-null   float64       \n",
      " 5   Sunshine       74379 non-null   float64       \n",
      " 6   WindGustDir    132474 non-null  object        \n",
      " 7   WindGustSpeed  132534 non-null  float64       \n",
      " 8   WindDir9am     132410 non-null  object        \n",
      " 9   WindDir3pm     138400 non-null  object        \n",
      " 10  WindSpeed9am   141108 non-null  float64       \n",
      " 11  WindSpeed3pm   139552 non-null  float64       \n",
      " 12  Humidity9am    140645 non-null  float64       \n",
      " 13  Humidity3pm    138569 non-null  float64       \n",
      " 14  Pressure9am    128259 non-null  float64       \n",
      " 15  Pressure3pm    128206 non-null  float64       \n",
      " 16  Cloud9am       88868 non-null   float64       \n",
      " 17  Cloud3pm       85325 non-null   float64       \n",
      " 18  Temp9am        141514 non-null  float64       \n",
      " 19  Temp3pm        139453 non-null  float64       \n",
      "dtypes: datetime64[ns](1), float64(15), object(4)\n",
      "memory usage: 22.8+ MB\n"
     ]
    }
   ],
   "source": [
    "X.info()"
   ]
  },
  {
   "cell_type": "markdown",
   "id": "1fc40b9d-6444-4669-9438-0368c5a21d6c",
   "metadata": {},
   "source": [
    "So we can see that we will need to:\n",
    "\n",
    "- encode the `\"Date\"` feature;\n",
    "- encode the column the `object` columns using an `OrdinalEncoder`;\n",
    "- let the numerical features as-is;\n",
    "- impute the missing values with a constant.\n",
    "\n",
    "In addition, let's check the distributionof the target."
   ]
  },
  {
   "cell_type": "code",
   "execution_count": 5,
   "id": "6f2bf237-fc4e-44f9-a1d9-e587e1882e1e",
   "metadata": {},
   "outputs": [
    {
     "data": {
      "text/plain": [
       "0    141400\n",
       "1       799\n",
       "Name: Rainfall, dtype: int64"
      ]
     },
     "execution_count": 5,
     "metadata": {},
     "output_type": "execute_result"
    }
   ],
   "source": [
    "y.value_counts()"
   ]
  },
  {
   "cell_type": "markdown",
   "id": "e209002a-271a-4c95-b82c-1eea20993f94",
   "metadata": {},
   "source": [
    "Thus, we can observe that the problem is imbalanced.\n",
    "\n",
    "## Our machine learning model\n",
    "\n",
    "We use a `BalancedRandomForestClassifier` on this problem. First, let's start to create a preprocessor.\n",
    "\n",
    "### Date parser\n",
    "\n",
    "Let's create a small function that would encode the date into three different features for the day, month, and year."
   ]
  },
  {
   "cell_type": "code",
   "execution_count": 6,
   "id": "8192678c-1a3f-4c7c-a4f8-0226422a8d65",
   "metadata": {},
   "outputs": [],
   "source": [
    "def date_parser(X):\n",
    "    X = X.copy()\n",
    "    X[\"day\"] = X[\"Date\"].dt.day\n",
    "    X[\"month\"] = X[\"Date\"].dt.month\n",
    "    X[\"year\"] = X[\"Date\"].dt.year\n",
    "    return X.drop(columns=[\"Date\"])"
   ]
  },
  {
   "cell_type": "markdown",
   "id": "df05bed1-6a7d-4fd4-845b-794608ff4748",
   "metadata": {},
   "source": [
    "### Data preprocessor\n",
    "\n",
    "Now, let's create a preprocessor to encode the categorical columns and let the numerical columns as-is. We will use `make_column_selector` based on the dtype to select the right columns."
   ]
  },
  {
   "cell_type": "code",
   "execution_count": 7,
   "id": "332a1d89-c0db-4eb2-9762-7e9d3dfbf8cb",
   "metadata": {},
   "outputs": [],
   "source": [
    "from sklearn.compose import make_column_selector\n",
    "\n",
    "numerical_columns = make_column_selector(dtype_exclude=[object, \"datetime\"])(X)\n",
    "categorical_columns = make_column_selector(dtype_include=object)(X)"
   ]
  },
  {
   "cell_type": "markdown",
   "id": "cda0064a-361b-44c6-aa9c-abf12c8405a5",
   "metadata": {},
   "source": [
    "Now, we will use a `ColumnTransformer` to encode and impute the missing data."
   ]
  },
  {
   "cell_type": "code",
   "execution_count": 8,
   "id": "afba89bb-8f03-4a1e-878b-405d812caa1b",
   "metadata": {},
   "outputs": [
    {
     "data": {
      "text/html": [
       "<style>#sk-9d9c5e0c-3ce2-4296-8786-0737b66e8a0f {color: black;background-color: white;}#sk-9d9c5e0c-3ce2-4296-8786-0737b66e8a0f pre{padding: 0;}#sk-9d9c5e0c-3ce2-4296-8786-0737b66e8a0f div.sk-toggleable {background-color: white;}#sk-9d9c5e0c-3ce2-4296-8786-0737b66e8a0f label.sk-toggleable__label {cursor: pointer;display: block;width: 100%;margin-bottom: 0;padding: 0.3em;box-sizing: border-box;text-align: center;}#sk-9d9c5e0c-3ce2-4296-8786-0737b66e8a0f div.sk-toggleable__content {max-height: 0;max-width: 0;overflow: hidden;text-align: left;background-color: #f0f8ff;}#sk-9d9c5e0c-3ce2-4296-8786-0737b66e8a0f div.sk-toggleable__content pre {margin: 0.2em;color: black;border-radius: 0.25em;background-color: #f0f8ff;}#sk-9d9c5e0c-3ce2-4296-8786-0737b66e8a0f input.sk-toggleable__control:checked~div.sk-toggleable__content {max-height: 200px;max-width: 100%;overflow: auto;}#sk-9d9c5e0c-3ce2-4296-8786-0737b66e8a0f div.sk-estimator input.sk-toggleable__control:checked~label.sk-toggleable__label {background-color: #d4ebff;}#sk-9d9c5e0c-3ce2-4296-8786-0737b66e8a0f div.sk-label input.sk-toggleable__control:checked~label.sk-toggleable__label {background-color: #d4ebff;}#sk-9d9c5e0c-3ce2-4296-8786-0737b66e8a0f input.sk-hidden--visually {border: 0;clip: rect(1px 1px 1px 1px);clip: rect(1px, 1px, 1px, 1px);height: 1px;margin: -1px;overflow: hidden;padding: 0;position: absolute;width: 1px;}#sk-9d9c5e0c-3ce2-4296-8786-0737b66e8a0f div.sk-estimator {font-family: monospace;background-color: #f0f8ff;border: 1px dotted black;border-radius: 0.25em;box-sizing: border-box;margin-bottom: 0.5em;}#sk-9d9c5e0c-3ce2-4296-8786-0737b66e8a0f div.sk-estimator:hover {background-color: #d4ebff;}#sk-9d9c5e0c-3ce2-4296-8786-0737b66e8a0f div.sk-parallel-item::after {content: \"\";width: 100%;border-bottom: 1px solid gray;flex-grow: 1;}#sk-9d9c5e0c-3ce2-4296-8786-0737b66e8a0f div.sk-label:hover label.sk-toggleable__label {background-color: #d4ebff;}#sk-9d9c5e0c-3ce2-4296-8786-0737b66e8a0f div.sk-serial::before {content: \"\";position: absolute;border-left: 1px solid gray;box-sizing: border-box;top: 2em;bottom: 0;left: 50%;}#sk-9d9c5e0c-3ce2-4296-8786-0737b66e8a0f div.sk-serial {display: flex;flex-direction: column;align-items: center;background-color: white;padding-right: 0.2em;padding-left: 0.2em;}#sk-9d9c5e0c-3ce2-4296-8786-0737b66e8a0f div.sk-item {z-index: 1;}#sk-9d9c5e0c-3ce2-4296-8786-0737b66e8a0f div.sk-parallel {display: flex;align-items: stretch;justify-content: center;background-color: white;}#sk-9d9c5e0c-3ce2-4296-8786-0737b66e8a0f div.sk-parallel::before {content: \"\";position: absolute;border-left: 1px solid gray;box-sizing: border-box;top: 2em;bottom: 0;left: 50%;}#sk-9d9c5e0c-3ce2-4296-8786-0737b66e8a0f div.sk-parallel-item {display: flex;flex-direction: column;position: relative;background-color: white;}#sk-9d9c5e0c-3ce2-4296-8786-0737b66e8a0f div.sk-parallel-item:first-child::after {align-self: flex-end;width: 50%;}#sk-9d9c5e0c-3ce2-4296-8786-0737b66e8a0f div.sk-parallel-item:last-child::after {align-self: flex-start;width: 50%;}#sk-9d9c5e0c-3ce2-4296-8786-0737b66e8a0f div.sk-parallel-item:only-child::after {width: 0;}#sk-9d9c5e0c-3ce2-4296-8786-0737b66e8a0f div.sk-dashed-wrapped {border: 1px dashed gray;margin: 0 0.4em 0.5em 0.4em;box-sizing: border-box;padding-bottom: 0.4em;background-color: white;position: relative;}#sk-9d9c5e0c-3ce2-4296-8786-0737b66e8a0f div.sk-label label {font-family: monospace;font-weight: bold;background-color: white;display: inline-block;line-height: 1.2em;}#sk-9d9c5e0c-3ce2-4296-8786-0737b66e8a0f div.sk-label-container {position: relative;z-index: 2;text-align: center;}#sk-9d9c5e0c-3ce2-4296-8786-0737b66e8a0f div.sk-container {display: inline-block;position: relative;}</style><div id=\"sk-9d9c5e0c-3ce2-4296-8786-0737b66e8a0f\" class\"sk-top-container\"><div class=\"sk-container\"><div class=\"sk-item sk-dashed-wrapped\"><div class=\"sk-label-container\"><div class=\"sk-label sk-toggleable\"><input class=\"sk-toggleable__control sk-hidden--visually\" id=\"7a680c2c-8217-4dda-8d71-8876df508fdf\" type=\"checkbox\" ><label class=\"sk-toggleable__label\" for=\"7a680c2c-8217-4dda-8d71-8876df508fdf\">ColumnTransformer</label><div class=\"sk-toggleable__content\"><pre>ColumnTransformer(transformers=[('categorical',\n",
       "                                 Pipeline(steps=[('ordinalencoder',\n",
       "                                                  OrdinalEncoder(handle_unknown='use_encoded_value',\n",
       "                                                                 unknown_value=-1)),\n",
       "                                                 ('simpleimputer',\n",
       "                                                  SimpleImputer(fill_value=-1,\n",
       "                                                                strategy='constant'))]),\n",
       "                                 ['Location', 'WindGustDir', 'WindDir9am',\n",
       "                                  'WindDir3pm']),\n",
       "                                ('numerical',\n",
       "                                 SimpleImputer(fill_value=-1,\n",
       "                                               strategy='constant'),\n",
       "                                 ['MinTemp', 'MaxTemp', 'Evaporation',\n",
       "                                  'Sunshine', 'WindGustSpeed', 'WindSpeed9am',\n",
       "                                  'WindSpeed3pm', 'Humidity9am', 'Humidity3pm',\n",
       "                                  'Pressure9am', 'Pressure3pm', 'Cloud9am',\n",
       "                                  'Cloud3pm', 'Temp9am', 'Temp3pm'])])</pre></div></div></div><div class=\"sk-parallel\"><div class=\"sk-parallel-item\"><div class=\"sk-item\"><div class=\"sk-label-container\"><div class=\"sk-label sk-toggleable\"><input class=\"sk-toggleable__control sk-hidden--visually\" id=\"28659658-113e-4108-8736-609ffccc2379\" type=\"checkbox\" ><label class=\"sk-toggleable__label\" for=\"28659658-113e-4108-8736-609ffccc2379\">categorical</label><div class=\"sk-toggleable__content\"><pre>['Location', 'WindGustDir', 'WindDir9am', 'WindDir3pm']</pre></div></div></div><div class=\"sk-serial\"><div class=\"sk-item\"><div class=\"sk-serial\"><div class=\"sk-item\"><div class=\"sk-estimator sk-toggleable\"><input class=\"sk-toggleable__control sk-hidden--visually\" id=\"56abfbd9-2107-41ef-94dd-f4f751e2a39c\" type=\"checkbox\" ><label class=\"sk-toggleable__label\" for=\"56abfbd9-2107-41ef-94dd-f4f751e2a39c\">OrdinalEncoder</label><div class=\"sk-toggleable__content\"><pre>OrdinalEncoder(handle_unknown='use_encoded_value', unknown_value=-1)</pre></div></div></div><div class=\"sk-item\"><div class=\"sk-estimator sk-toggleable\"><input class=\"sk-toggleable__control sk-hidden--visually\" id=\"18522e5c-c615-486b-ad88-26e873a0a6ef\" type=\"checkbox\" ><label class=\"sk-toggleable__label\" for=\"18522e5c-c615-486b-ad88-26e873a0a6ef\">SimpleImputer</label><div class=\"sk-toggleable__content\"><pre>SimpleImputer(fill_value=-1, strategy='constant')</pre></div></div></div></div></div></div></div></div><div class=\"sk-parallel-item\"><div class=\"sk-item\"><div class=\"sk-label-container\"><div class=\"sk-label sk-toggleable\"><input class=\"sk-toggleable__control sk-hidden--visually\" id=\"6220d100-7a4e-4216-a740-4552443972c7\" type=\"checkbox\" ><label class=\"sk-toggleable__label\" for=\"6220d100-7a4e-4216-a740-4552443972c7\">numerical</label><div class=\"sk-toggleable__content\"><pre>['MinTemp', 'MaxTemp', 'Evaporation', 'Sunshine', 'WindGustSpeed', 'WindSpeed9am', 'WindSpeed3pm', 'Humidity9am', 'Humidity3pm', 'Pressure9am', 'Pressure3pm', 'Cloud9am', 'Cloud3pm', 'Temp9am', 'Temp3pm']</pre></div></div></div><div class=\"sk-serial\"><div class=\"sk-item\"><div class=\"sk-estimator sk-toggleable\"><input class=\"sk-toggleable__control sk-hidden--visually\" id=\"5c7bc022-f8f6-45e3-9480-a72b76031ed1\" type=\"checkbox\" ><label class=\"sk-toggleable__label\" for=\"5c7bc022-f8f6-45e3-9480-a72b76031ed1\">SimpleImputer</label><div class=\"sk-toggleable__content\"><pre>SimpleImputer(fill_value=-1, strategy='constant')</pre></div></div></div></div></div></div></div></div></div></div>"
      ],
      "text/plain": [
       "ColumnTransformer(transformers=[('categorical',\n",
       "                                 Pipeline(steps=[('ordinalencoder',\n",
       "                                                  OrdinalEncoder(handle_unknown='use_encoded_value',\n",
       "                                                                 unknown_value=-1)),\n",
       "                                                 ('simpleimputer',\n",
       "                                                  SimpleImputer(fill_value=-1,\n",
       "                                                                strategy='constant'))]),\n",
       "                                 ['Location', 'WindGustDir', 'WindDir9am',\n",
       "                                  'WindDir3pm']),\n",
       "                                ('numerical',\n",
       "                                 SimpleImputer(fill_value=-1,\n",
       "                                               strategy='constant'),\n",
       "                                 ['MinTemp', 'MaxTemp', 'Evaporation',\n",
       "                                  'Sunshine', 'WindGustSpeed', 'WindSpeed9am',\n",
       "                                  'WindSpeed3pm', 'Humidity9am', 'Humidity3pm',\n",
       "                                  'Pressure9am', 'Pressure3pm', 'Cloud9am',\n",
       "                                  'Cloud3pm', 'Temp9am', 'Temp3pm'])])"
      ]
     },
     "execution_count": 8,
     "metadata": {},
     "output_type": "execute_result"
    }
   ],
   "source": [
    "from sklearn.compose import ColumnTransformer\n",
    "from sklearn.preprocessing import OrdinalEncoder\n",
    "from sklearn.impute import SimpleImputer\n",
    "from sklearn.pipeline import make_pipeline\n",
    "\n",
    "preprocessor = ColumnTransformer(\n",
    "    transformers=[\n",
    "        (\n",
    "            \"categorical\",\n",
    "            make_pipeline(\n",
    "                OrdinalEncoder(handle_unknown=\"use_encoded_value\", unknown_value=-1),\n",
    "                SimpleImputer(strategy=\"constant\", fill_value=-1),\n",
    "            ),\n",
    "            categorical_columns,\n",
    "        ),\n",
    "        (\n",
    "            \"numerical\",\n",
    "            SimpleImputer(strategy=\"constant\", fill_value=-1),\n",
    "            numerical_columns,\n",
    "        )\n",
    "    ],\n",
    ")\n",
    "preprocessor"
   ]
  },
  {
   "cell_type": "markdown",
   "id": "ba281549-5415-4fbf-a9df-f44fbdfb9a6b",
   "metadata": {},
   "source": [
    "### Full model\n",
    "\n",
    "Now that we have our preprocessor, we can create our entire model finshing by a `BalancedRandomForestClassifier`."
   ]
  },
  {
   "cell_type": "code",
   "execution_count": 9,
   "id": "029539f3-7cdd-442d-ab79-0245b34fae2e",
   "metadata": {},
   "outputs": [
    {
     "data": {
      "text/html": [
       "<style>#sk-15bf9b3f-0823-4643-b133-f6d950e6e2da {color: black;background-color: white;}#sk-15bf9b3f-0823-4643-b133-f6d950e6e2da pre{padding: 0;}#sk-15bf9b3f-0823-4643-b133-f6d950e6e2da div.sk-toggleable {background-color: white;}#sk-15bf9b3f-0823-4643-b133-f6d950e6e2da label.sk-toggleable__label {cursor: pointer;display: block;width: 100%;margin-bottom: 0;padding: 0.3em;box-sizing: border-box;text-align: center;}#sk-15bf9b3f-0823-4643-b133-f6d950e6e2da div.sk-toggleable__content {max-height: 0;max-width: 0;overflow: hidden;text-align: left;background-color: #f0f8ff;}#sk-15bf9b3f-0823-4643-b133-f6d950e6e2da div.sk-toggleable__content pre {margin: 0.2em;color: black;border-radius: 0.25em;background-color: #f0f8ff;}#sk-15bf9b3f-0823-4643-b133-f6d950e6e2da input.sk-toggleable__control:checked~div.sk-toggleable__content {max-height: 200px;max-width: 100%;overflow: auto;}#sk-15bf9b3f-0823-4643-b133-f6d950e6e2da div.sk-estimator input.sk-toggleable__control:checked~label.sk-toggleable__label {background-color: #d4ebff;}#sk-15bf9b3f-0823-4643-b133-f6d950e6e2da div.sk-label input.sk-toggleable__control:checked~label.sk-toggleable__label {background-color: #d4ebff;}#sk-15bf9b3f-0823-4643-b133-f6d950e6e2da input.sk-hidden--visually {border: 0;clip: rect(1px 1px 1px 1px);clip: rect(1px, 1px, 1px, 1px);height: 1px;margin: -1px;overflow: hidden;padding: 0;position: absolute;width: 1px;}#sk-15bf9b3f-0823-4643-b133-f6d950e6e2da div.sk-estimator {font-family: monospace;background-color: #f0f8ff;border: 1px dotted black;border-radius: 0.25em;box-sizing: border-box;margin-bottom: 0.5em;}#sk-15bf9b3f-0823-4643-b133-f6d950e6e2da div.sk-estimator:hover {background-color: #d4ebff;}#sk-15bf9b3f-0823-4643-b133-f6d950e6e2da div.sk-parallel-item::after {content: \"\";width: 100%;border-bottom: 1px solid gray;flex-grow: 1;}#sk-15bf9b3f-0823-4643-b133-f6d950e6e2da div.sk-label:hover label.sk-toggleable__label {background-color: #d4ebff;}#sk-15bf9b3f-0823-4643-b133-f6d950e6e2da div.sk-serial::before {content: \"\";position: absolute;border-left: 1px solid gray;box-sizing: border-box;top: 2em;bottom: 0;left: 50%;}#sk-15bf9b3f-0823-4643-b133-f6d950e6e2da div.sk-serial {display: flex;flex-direction: column;align-items: center;background-color: white;padding-right: 0.2em;padding-left: 0.2em;}#sk-15bf9b3f-0823-4643-b133-f6d950e6e2da div.sk-item {z-index: 1;}#sk-15bf9b3f-0823-4643-b133-f6d950e6e2da div.sk-parallel {display: flex;align-items: stretch;justify-content: center;background-color: white;}#sk-15bf9b3f-0823-4643-b133-f6d950e6e2da div.sk-parallel::before {content: \"\";position: absolute;border-left: 1px solid gray;box-sizing: border-box;top: 2em;bottom: 0;left: 50%;}#sk-15bf9b3f-0823-4643-b133-f6d950e6e2da div.sk-parallel-item {display: flex;flex-direction: column;position: relative;background-color: white;}#sk-15bf9b3f-0823-4643-b133-f6d950e6e2da div.sk-parallel-item:first-child::after {align-self: flex-end;width: 50%;}#sk-15bf9b3f-0823-4643-b133-f6d950e6e2da div.sk-parallel-item:last-child::after {align-self: flex-start;width: 50%;}#sk-15bf9b3f-0823-4643-b133-f6d950e6e2da div.sk-parallel-item:only-child::after {width: 0;}#sk-15bf9b3f-0823-4643-b133-f6d950e6e2da div.sk-dashed-wrapped {border: 1px dashed gray;margin: 0 0.4em 0.5em 0.4em;box-sizing: border-box;padding-bottom: 0.4em;background-color: white;position: relative;}#sk-15bf9b3f-0823-4643-b133-f6d950e6e2da div.sk-label label {font-family: monospace;font-weight: bold;background-color: white;display: inline-block;line-height: 1.2em;}#sk-15bf9b3f-0823-4643-b133-f6d950e6e2da div.sk-label-container {position: relative;z-index: 2;text-align: center;}#sk-15bf9b3f-0823-4643-b133-f6d950e6e2da div.sk-container {display: inline-block;position: relative;}</style><div id=\"sk-15bf9b3f-0823-4643-b133-f6d950e6e2da\" class\"sk-top-container\"><div class=\"sk-container\"><div class=\"sk-item sk-dashed-wrapped\"><div class=\"sk-label-container\"><div class=\"sk-label sk-toggleable\"><input class=\"sk-toggleable__control sk-hidden--visually\" id=\"508d9d24-1c10-4388-8a7f-9777a1c5aee5\" type=\"checkbox\" ><label class=\"sk-toggleable__label\" for=\"508d9d24-1c10-4388-8a7f-9777a1c5aee5\">Pipeline</label><div class=\"sk-toggleable__content\"><pre>Pipeline(steps=[('functiontransformer',\n",
       "                 FunctionTransformer(func=<function date_parser at 0x158539f70>)),\n",
       "                ('columntransformer',\n",
       "                 ColumnTransformer(transformers=[('categorical',\n",
       "                                                  Pipeline(steps=[('ordinalencoder',\n",
       "                                                                   OrdinalEncoder(handle_unknown='use_encoded_value',\n",
       "                                                                                  unknown_value=-1)),\n",
       "                                                                  ('simpleimputer',\n",
       "                                                                   SimpleImputer(fill_value=-1,\n",
       "                                                                                 strategy='constant'))]),\n",
       "                                                  ['Locatio...\n",
       "                                                 ('numerical',\n",
       "                                                  SimpleImputer(fill_value=-1,\n",
       "                                                                strategy='constant'),\n",
       "                                                  ['MinTemp', 'MaxTemp',\n",
       "                                                   'Evaporation', 'Sunshine',\n",
       "                                                   'WindGustSpeed',\n",
       "                                                   'WindSpeed9am',\n",
       "                                                   'WindSpeed3pm',\n",
       "                                                   'Humidity9am', 'Humidity3pm',\n",
       "                                                   'Pressure9am', 'Pressure3pm',\n",
       "                                                   'Cloud9am', 'Cloud3pm',\n",
       "                                                   'Temp9am', 'Temp3pm'])])),\n",
       "                ('balancedrandomforestclassifier',\n",
       "                 BalancedRandomForestClassifier(n_jobs=-1, random_state=0))])</pre></div></div></div><div class=\"sk-serial\"><div class=\"sk-item\"><div class=\"sk-estimator sk-toggleable\"><input class=\"sk-toggleable__control sk-hidden--visually\" id=\"b872e050-bff9-4d68-9a87-bed299415f3a\" type=\"checkbox\" ><label class=\"sk-toggleable__label\" for=\"b872e050-bff9-4d68-9a87-bed299415f3a\">FunctionTransformer</label><div class=\"sk-toggleable__content\"><pre>FunctionTransformer(func=<function date_parser at 0x158539f70>)</pre></div></div></div><div class=\"sk-item sk-dashed-wrapped\"><div class=\"sk-label-container\"><div class=\"sk-label sk-toggleable\"><input class=\"sk-toggleable__control sk-hidden--visually\" id=\"ba3ca4b9-805c-4c6c-9b51-db0f69059586\" type=\"checkbox\" ><label class=\"sk-toggleable__label\" for=\"ba3ca4b9-805c-4c6c-9b51-db0f69059586\">columntransformer: ColumnTransformer</label><div class=\"sk-toggleable__content\"><pre>ColumnTransformer(transformers=[('categorical',\n",
       "                                 Pipeline(steps=[('ordinalencoder',\n",
       "                                                  OrdinalEncoder(handle_unknown='use_encoded_value',\n",
       "                                                                 unknown_value=-1)),\n",
       "                                                 ('simpleimputer',\n",
       "                                                  SimpleImputer(fill_value=-1,\n",
       "                                                                strategy='constant'))]),\n",
       "                                 ['Location', 'WindGustDir', 'WindDir9am',\n",
       "                                  'WindDir3pm']),\n",
       "                                ('numerical',\n",
       "                                 SimpleImputer(fill_value=-1,\n",
       "                                               strategy='constant'),\n",
       "                                 ['MinTemp', 'MaxTemp', 'Evaporation',\n",
       "                                  'Sunshine', 'WindGustSpeed', 'WindSpeed9am',\n",
       "                                  'WindSpeed3pm', 'Humidity9am', 'Humidity3pm',\n",
       "                                  'Pressure9am', 'Pressure3pm', 'Cloud9am',\n",
       "                                  'Cloud3pm', 'Temp9am', 'Temp3pm'])])</pre></div></div></div><div class=\"sk-parallel\"><div class=\"sk-parallel-item\"><div class=\"sk-item\"><div class=\"sk-label-container\"><div class=\"sk-label sk-toggleable\"><input class=\"sk-toggleable__control sk-hidden--visually\" id=\"8b68c015-7c54-4c5e-a597-ea67fe71e6d5\" type=\"checkbox\" ><label class=\"sk-toggleable__label\" for=\"8b68c015-7c54-4c5e-a597-ea67fe71e6d5\">categorical</label><div class=\"sk-toggleable__content\"><pre>['Location', 'WindGustDir', 'WindDir9am', 'WindDir3pm']</pre></div></div></div><div class=\"sk-serial\"><div class=\"sk-item\"><div class=\"sk-serial\"><div class=\"sk-item\"><div class=\"sk-estimator sk-toggleable\"><input class=\"sk-toggleable__control sk-hidden--visually\" id=\"bdd3f2ae-53cf-461a-bbec-d22e70cf1eed\" type=\"checkbox\" ><label class=\"sk-toggleable__label\" for=\"bdd3f2ae-53cf-461a-bbec-d22e70cf1eed\">OrdinalEncoder</label><div class=\"sk-toggleable__content\"><pre>OrdinalEncoder(handle_unknown='use_encoded_value', unknown_value=-1)</pre></div></div></div><div class=\"sk-item\"><div class=\"sk-estimator sk-toggleable\"><input class=\"sk-toggleable__control sk-hidden--visually\" id=\"4ec11738-299b-433e-8958-737f8f98051d\" type=\"checkbox\" ><label class=\"sk-toggleable__label\" for=\"4ec11738-299b-433e-8958-737f8f98051d\">SimpleImputer</label><div class=\"sk-toggleable__content\"><pre>SimpleImputer(fill_value=-1, strategy='constant')</pre></div></div></div></div></div></div></div></div><div class=\"sk-parallel-item\"><div class=\"sk-item\"><div class=\"sk-label-container\"><div class=\"sk-label sk-toggleable\"><input class=\"sk-toggleable__control sk-hidden--visually\" id=\"c8d3adbd-2363-4e00-80e9-eab3cad5bf77\" type=\"checkbox\" ><label class=\"sk-toggleable__label\" for=\"c8d3adbd-2363-4e00-80e9-eab3cad5bf77\">numerical</label><div class=\"sk-toggleable__content\"><pre>['MinTemp', 'MaxTemp', 'Evaporation', 'Sunshine', 'WindGustSpeed', 'WindSpeed9am', 'WindSpeed3pm', 'Humidity9am', 'Humidity3pm', 'Pressure9am', 'Pressure3pm', 'Cloud9am', 'Cloud3pm', 'Temp9am', 'Temp3pm']</pre></div></div></div><div class=\"sk-serial\"><div class=\"sk-item\"><div class=\"sk-estimator sk-toggleable\"><input class=\"sk-toggleable__control sk-hidden--visually\" id=\"fa56ca21-a233-4643-bab9-4431140dc4a2\" type=\"checkbox\" ><label class=\"sk-toggleable__label\" for=\"fa56ca21-a233-4643-bab9-4431140dc4a2\">SimpleImputer</label><div class=\"sk-toggleable__content\"><pre>SimpleImputer(fill_value=-1, strategy='constant')</pre></div></div></div></div></div></div></div></div><div class=\"sk-item\"><div class=\"sk-estimator sk-toggleable\"><input class=\"sk-toggleable__control sk-hidden--visually\" id=\"01d24ffb-1f89-4faf-9a2a-b1082065983e\" type=\"checkbox\" ><label class=\"sk-toggleable__label\" for=\"01d24ffb-1f89-4faf-9a2a-b1082065983e\">BalancedRandomForestClassifier</label><div class=\"sk-toggleable__content\"><pre>BalancedRandomForestClassifier(n_jobs=-1, random_state=0)</pre></div></div></div></div></div></div></div>"
      ],
      "text/plain": [
       "Pipeline(steps=[('functiontransformer',\n",
       "                 FunctionTransformer(func=<function date_parser at 0x158539f70>)),\n",
       "                ('columntransformer',\n",
       "                 ColumnTransformer(transformers=[('categorical',\n",
       "                                                  Pipeline(steps=[('ordinalencoder',\n",
       "                                                                   OrdinalEncoder(handle_unknown='use_encoded_value',\n",
       "                                                                                  unknown_value=-1)),\n",
       "                                                                  ('simpleimputer',\n",
       "                                                                   SimpleImputer(fill_value=-1,\n",
       "                                                                                 strategy='constant'))]),\n",
       "                                                  ['Locatio...\n",
       "                                                 ('numerical',\n",
       "                                                  SimpleImputer(fill_value=-1,\n",
       "                                                                strategy='constant'),\n",
       "                                                  ['MinTemp', 'MaxTemp',\n",
       "                                                   'Evaporation', 'Sunshine',\n",
       "                                                   'WindGustSpeed',\n",
       "                                                   'WindSpeed9am',\n",
       "                                                   'WindSpeed3pm',\n",
       "                                                   'Humidity9am', 'Humidity3pm',\n",
       "                                                   'Pressure9am', 'Pressure3pm',\n",
       "                                                   'Cloud9am', 'Cloud3pm',\n",
       "                                                   'Temp9am', 'Temp3pm'])])),\n",
       "                ('balancedrandomforestclassifier',\n",
       "                 BalancedRandomForestClassifier(n_jobs=-1, random_state=0))])"
      ]
     },
     "execution_count": 9,
     "metadata": {},
     "output_type": "execute_result"
    }
   ],
   "source": [
    "from sklearn.preprocessing import FunctionTransformer\n",
    "from imblearn.ensemble import BalancedRandomForestClassifier\n",
    "\n",
    "model = make_pipeline(\n",
    "    FunctionTransformer(date_parser),\n",
    "    preprocessor,\n",
    "    BalancedRandomForestClassifier(n_jobs=-1, random_state=0),\n",
    ")\n",
    "model"
   ]
  },
  {
   "cell_type": "markdown",
   "id": "13da26ad-ee72-47d9-ad95-2243e6e24e81",
   "metadata": {},
   "source": [
    "We can now evaluate our model using cross-validation. Since we deal with time series, we will use a `TimeSeriesSplit` cross-validation scheme.\n",
    "\n",
    "In addition, we will use several metrics: balanced accuracy, average precision, and brier loss."
   ]
  },
  {
   "cell_type": "code",
   "execution_count": 10,
   "id": "f0281302-283e-41de-9412-cf436ec296a7",
   "metadata": {},
   "outputs": [],
   "source": [
    "from sklearn.model_selection import TimeSeriesSplit\n",
    "from sklearn.metrics import make_scorer, balanced_accuracy_score, average_precision_score, brier_score_loss\n",
    "\n",
    "scoring = {\n",
    "    \"balanced_accuracy\": make_scorer(balanced_accuracy_score),\n",
    "    \"average_precision\": make_scorer(average_precision_score, needs_proba=True),\n",
    "    \"brier_score\": make_scorer(\n",
    "        brier_score_loss, greater_is_better=False, needs_proba=True,\n",
    "    ),\n",
    "}\n",
    "cv = TimeSeriesSplit()"
   ]
  },
  {
   "cell_type": "markdown",
   "id": "734ddcf7-2e38-4a86-bf73-cbe696eda9c9",
   "metadata": {},
   "source": [
    "We are finally ready to run our cross-validation."
   ]
  },
  {
   "cell_type": "code",
   "execution_count": 11,
   "id": "fabb91f6-9c00-4402-9d95-e427376be432",
   "metadata": {},
   "outputs": [],
   "source": [
    "from sklearn.model_selection import cross_validate\n",
    "\n",
    "cv_results = cross_validate(\n",
    "    model, X, y, cv=cv, scoring=scoring, n_jobs=-1,\n",
    ")"
   ]
  },
  {
   "cell_type": "code",
   "execution_count": 12,
   "id": "6aa45309-05d8-4b47-afb4-bd300dbcf446",
   "metadata": {},
   "outputs": [
    {
     "data": {
      "text/html": [
       "<div>\n",
       "<style scoped>\n",
       "    .dataframe tbody tr th:only-of-type {\n",
       "        vertical-align: middle;\n",
       "    }\n",
       "\n",
       "    .dataframe tbody tr th {\n",
       "        vertical-align: top;\n",
       "    }\n",
       "\n",
       "    .dataframe thead th {\n",
       "        text-align: right;\n",
       "    }\n",
       "</style>\n",
       "<table border=\"1\" class=\"dataframe\">\n",
       "  <thead>\n",
       "    <tr style=\"text-align: right;\">\n",
       "      <th></th>\n",
       "      <th>fit_time</th>\n",
       "      <th>score_time</th>\n",
       "      <th>test_balanced_accuracy</th>\n",
       "      <th>test_average_precision</th>\n",
       "      <th>test_brier_score</th>\n",
       "    </tr>\n",
       "  </thead>\n",
       "  <tbody>\n",
       "    <tr>\n",
       "      <th>0</th>\n",
       "      <td>1.579969</td>\n",
       "      <td>0.514580</td>\n",
       "      <td>0.839420</td>\n",
       "      <td>0.139180</td>\n",
       "      <td>-0.109866</td>\n",
       "    </tr>\n",
       "    <tr>\n",
       "      <th>1</th>\n",
       "      <td>2.764772</td>\n",
       "      <td>0.250829</td>\n",
       "      <td>0.767202</td>\n",
       "      <td>0.024706</td>\n",
       "      <td>-0.099576</td>\n",
       "    </tr>\n",
       "    <tr>\n",
       "      <th>2</th>\n",
       "      <td>3.576741</td>\n",
       "      <td>0.190916</td>\n",
       "      <td>0.807447</td>\n",
       "      <td>0.107282</td>\n",
       "      <td>-0.088014</td>\n",
       "    </tr>\n",
       "    <tr>\n",
       "      <th>3</th>\n",
       "      <td>4.407301</td>\n",
       "      <td>0.538416</td>\n",
       "      <td>0.863462</td>\n",
       "      <td>0.174819</td>\n",
       "      <td>-0.080819</td>\n",
       "    </tr>\n",
       "    <tr>\n",
       "      <th>4</th>\n",
       "      <td>6.731789</td>\n",
       "      <td>0.167283</td>\n",
       "      <td>0.869446</td>\n",
       "      <td>0.168652</td>\n",
       "      <td>-0.093083</td>\n",
       "    </tr>\n",
       "  </tbody>\n",
       "</table>\n",
       "</div>"
      ],
      "text/plain": [
       "   fit_time  score_time  test_balanced_accuracy  test_average_precision  \\\n",
       "0  1.579969    0.514580                0.839420                0.139180   \n",
       "1  2.764772    0.250829                0.767202                0.024706   \n",
       "2  3.576741    0.190916                0.807447                0.107282   \n",
       "3  4.407301    0.538416                0.863462                0.174819   \n",
       "4  6.731789    0.167283                0.869446                0.168652   \n",
       "\n",
       "   test_brier_score  \n",
       "0         -0.109866  \n",
       "1         -0.099576  \n",
       "2         -0.088014  \n",
       "3         -0.080819  \n",
       "4         -0.093083  "
      ]
     },
     "execution_count": 12,
     "metadata": {},
     "output_type": "execute_result"
    }
   ],
   "source": [
    "cv_results = pd.DataFrame(cv_results)\n",
    "cv_results"
   ]
  },
  {
   "cell_type": "code",
   "execution_count": 13,
   "id": "1eb01025-8045-49f9-b1de-5c2e037276d3",
   "metadata": {},
   "outputs": [
    {
     "data": {
      "text/plain": [
       "fit_time                  3.812114\n",
       "score_time                0.332405\n",
       "test_balanced_accuracy    0.829395\n",
       "test_average_precision    0.122928\n",
       "test_brier_score         -0.094272\n",
       "dtype: float64"
      ]
     },
     "execution_count": 13,
     "metadata": {},
     "output_type": "execute_result"
    }
   ],
   "source": [
    "cv_results.mean()"
   ]
  },
  {
   "cell_type": "markdown",
   "id": "65a8dd01-87b6-4f7c-afd1-23da7ed8f32c",
   "metadata": {},
   "source": [
    "### A note about the Brier score"
   ]
  },
  {
   "cell_type": "markdown",
   "id": "06d885a6-7de5-4678-937d-9743d553e759",
   "metadata": {},
   "source": [
    "The Brier score (that is indeed a loss) measures the if the probability predicted by a classifier are accurate. An uncalibrated classifier will result in an higher Brier score than a well calibrated classifier."
   ]
  },
  {
   "cell_type": "markdown",
   "id": "909aae35-5d91-4ae0-b73a-38b6e469af15",
   "metadata": {},
   "source": [
    "## About classifier calibration"
   ]
  },
  {
   "cell_type": "markdown",
   "id": "a7ca427e-a60a-42f5-af70-f0e3f4be5e36",
   "metadata": {},
   "source": [
    "Now, that we have our model, we will show how to check if it is calibrated. Let's first make a single train-test split and train our classifier."
   ]
  },
  {
   "cell_type": "code",
   "execution_count": 14,
   "id": "ff9a53e4-b32e-4c67-9534-e11a83090a86",
   "metadata": {},
   "outputs": [],
   "source": [
    "from sklearn.model_selection import train_test_split\n",
    "\n",
    "X_train, X_test, y_train, y_test = train_test_split(\n",
    "    X, y, stratify=y, test_size=0.5, random_state=0\n",
    ")"
   ]
  },
  {
   "cell_type": "code",
   "execution_count": 15,
   "id": "e3ebd2c8-2c81-4c97-8d46-078f17193827",
   "metadata": {},
   "outputs": [
    {
     "data": {
      "text/html": [
       "<style>#sk-c6d7418c-326f-4159-b0bf-f45c2f58bfd2 {color: black;background-color: white;}#sk-c6d7418c-326f-4159-b0bf-f45c2f58bfd2 pre{padding: 0;}#sk-c6d7418c-326f-4159-b0bf-f45c2f58bfd2 div.sk-toggleable {background-color: white;}#sk-c6d7418c-326f-4159-b0bf-f45c2f58bfd2 label.sk-toggleable__label {cursor: pointer;display: block;width: 100%;margin-bottom: 0;padding: 0.3em;box-sizing: border-box;text-align: center;}#sk-c6d7418c-326f-4159-b0bf-f45c2f58bfd2 div.sk-toggleable__content {max-height: 0;max-width: 0;overflow: hidden;text-align: left;background-color: #f0f8ff;}#sk-c6d7418c-326f-4159-b0bf-f45c2f58bfd2 div.sk-toggleable__content pre {margin: 0.2em;color: black;border-radius: 0.25em;background-color: #f0f8ff;}#sk-c6d7418c-326f-4159-b0bf-f45c2f58bfd2 input.sk-toggleable__control:checked~div.sk-toggleable__content {max-height: 200px;max-width: 100%;overflow: auto;}#sk-c6d7418c-326f-4159-b0bf-f45c2f58bfd2 div.sk-estimator input.sk-toggleable__control:checked~label.sk-toggleable__label {background-color: #d4ebff;}#sk-c6d7418c-326f-4159-b0bf-f45c2f58bfd2 div.sk-label input.sk-toggleable__control:checked~label.sk-toggleable__label {background-color: #d4ebff;}#sk-c6d7418c-326f-4159-b0bf-f45c2f58bfd2 input.sk-hidden--visually {border: 0;clip: rect(1px 1px 1px 1px);clip: rect(1px, 1px, 1px, 1px);height: 1px;margin: -1px;overflow: hidden;padding: 0;position: absolute;width: 1px;}#sk-c6d7418c-326f-4159-b0bf-f45c2f58bfd2 div.sk-estimator {font-family: monospace;background-color: #f0f8ff;border: 1px dotted black;border-radius: 0.25em;box-sizing: border-box;margin-bottom: 0.5em;}#sk-c6d7418c-326f-4159-b0bf-f45c2f58bfd2 div.sk-estimator:hover {background-color: #d4ebff;}#sk-c6d7418c-326f-4159-b0bf-f45c2f58bfd2 div.sk-parallel-item::after {content: \"\";width: 100%;border-bottom: 1px solid gray;flex-grow: 1;}#sk-c6d7418c-326f-4159-b0bf-f45c2f58bfd2 div.sk-label:hover label.sk-toggleable__label {background-color: #d4ebff;}#sk-c6d7418c-326f-4159-b0bf-f45c2f58bfd2 div.sk-serial::before {content: \"\";position: absolute;border-left: 1px solid gray;box-sizing: border-box;top: 2em;bottom: 0;left: 50%;}#sk-c6d7418c-326f-4159-b0bf-f45c2f58bfd2 div.sk-serial {display: flex;flex-direction: column;align-items: center;background-color: white;padding-right: 0.2em;padding-left: 0.2em;}#sk-c6d7418c-326f-4159-b0bf-f45c2f58bfd2 div.sk-item {z-index: 1;}#sk-c6d7418c-326f-4159-b0bf-f45c2f58bfd2 div.sk-parallel {display: flex;align-items: stretch;justify-content: center;background-color: white;}#sk-c6d7418c-326f-4159-b0bf-f45c2f58bfd2 div.sk-parallel::before {content: \"\";position: absolute;border-left: 1px solid gray;box-sizing: border-box;top: 2em;bottom: 0;left: 50%;}#sk-c6d7418c-326f-4159-b0bf-f45c2f58bfd2 div.sk-parallel-item {display: flex;flex-direction: column;position: relative;background-color: white;}#sk-c6d7418c-326f-4159-b0bf-f45c2f58bfd2 div.sk-parallel-item:first-child::after {align-self: flex-end;width: 50%;}#sk-c6d7418c-326f-4159-b0bf-f45c2f58bfd2 div.sk-parallel-item:last-child::after {align-self: flex-start;width: 50%;}#sk-c6d7418c-326f-4159-b0bf-f45c2f58bfd2 div.sk-parallel-item:only-child::after {width: 0;}#sk-c6d7418c-326f-4159-b0bf-f45c2f58bfd2 div.sk-dashed-wrapped {border: 1px dashed gray;margin: 0 0.4em 0.5em 0.4em;box-sizing: border-box;padding-bottom: 0.4em;background-color: white;position: relative;}#sk-c6d7418c-326f-4159-b0bf-f45c2f58bfd2 div.sk-label label {font-family: monospace;font-weight: bold;background-color: white;display: inline-block;line-height: 1.2em;}#sk-c6d7418c-326f-4159-b0bf-f45c2f58bfd2 div.sk-label-container {position: relative;z-index: 2;text-align: center;}#sk-c6d7418c-326f-4159-b0bf-f45c2f58bfd2 div.sk-container {display: inline-block;position: relative;}</style><div id=\"sk-c6d7418c-326f-4159-b0bf-f45c2f58bfd2\" class\"sk-top-container\"><div class=\"sk-container\"><div class=\"sk-item sk-dashed-wrapped\"><div class=\"sk-label-container\"><div class=\"sk-label sk-toggleable\"><input class=\"sk-toggleable__control sk-hidden--visually\" id=\"21bb4723-4c6c-47c7-9281-ea12b15e9f77\" type=\"checkbox\" ><label class=\"sk-toggleable__label\" for=\"21bb4723-4c6c-47c7-9281-ea12b15e9f77\">Pipeline</label><div class=\"sk-toggleable__content\"><pre>Pipeline(steps=[('functiontransformer',\n",
       "                 FunctionTransformer(func=<function date_parser at 0x158539f70>)),\n",
       "                ('columntransformer',\n",
       "                 ColumnTransformer(transformers=[('categorical',\n",
       "                                                  Pipeline(steps=[('ordinalencoder',\n",
       "                                                                   OrdinalEncoder(handle_unknown='use_encoded_value',\n",
       "                                                                                  unknown_value=-1)),\n",
       "                                                                  ('simpleimputer',\n",
       "                                                                   SimpleImputer(fill_value=-1,\n",
       "                                                                                 strategy='constant'))]),\n",
       "                                                  ['Locatio...\n",
       "                                                 ('numerical',\n",
       "                                                  SimpleImputer(fill_value=-1,\n",
       "                                                                strategy='constant'),\n",
       "                                                  ['MinTemp', 'MaxTemp',\n",
       "                                                   'Evaporation', 'Sunshine',\n",
       "                                                   'WindGustSpeed',\n",
       "                                                   'WindSpeed9am',\n",
       "                                                   'WindSpeed3pm',\n",
       "                                                   'Humidity9am', 'Humidity3pm',\n",
       "                                                   'Pressure9am', 'Pressure3pm',\n",
       "                                                   'Cloud9am', 'Cloud3pm',\n",
       "                                                   'Temp9am', 'Temp3pm'])])),\n",
       "                ('balancedrandomforestclassifier',\n",
       "                 BalancedRandomForestClassifier(n_jobs=-1, random_state=0))])</pre></div></div></div><div class=\"sk-serial\"><div class=\"sk-item\"><div class=\"sk-estimator sk-toggleable\"><input class=\"sk-toggleable__control sk-hidden--visually\" id=\"15304363-0780-44e5-a0e6-e6041a881f3e\" type=\"checkbox\" ><label class=\"sk-toggleable__label\" for=\"15304363-0780-44e5-a0e6-e6041a881f3e\">FunctionTransformer</label><div class=\"sk-toggleable__content\"><pre>FunctionTransformer(func=<function date_parser at 0x158539f70>)</pre></div></div></div><div class=\"sk-item sk-dashed-wrapped\"><div class=\"sk-label-container\"><div class=\"sk-label sk-toggleable\"><input class=\"sk-toggleable__control sk-hidden--visually\" id=\"144f3756-bdc5-408e-9134-8e9fd2b91624\" type=\"checkbox\" ><label class=\"sk-toggleable__label\" for=\"144f3756-bdc5-408e-9134-8e9fd2b91624\">columntransformer: ColumnTransformer</label><div class=\"sk-toggleable__content\"><pre>ColumnTransformer(transformers=[('categorical',\n",
       "                                 Pipeline(steps=[('ordinalencoder',\n",
       "                                                  OrdinalEncoder(handle_unknown='use_encoded_value',\n",
       "                                                                 unknown_value=-1)),\n",
       "                                                 ('simpleimputer',\n",
       "                                                  SimpleImputer(fill_value=-1,\n",
       "                                                                strategy='constant'))]),\n",
       "                                 ['Location', 'WindGustDir', 'WindDir9am',\n",
       "                                  'WindDir3pm']),\n",
       "                                ('numerical',\n",
       "                                 SimpleImputer(fill_value=-1,\n",
       "                                               strategy='constant'),\n",
       "                                 ['MinTemp', 'MaxTemp', 'Evaporation',\n",
       "                                  'Sunshine', 'WindGustSpeed', 'WindSpeed9am',\n",
       "                                  'WindSpeed3pm', 'Humidity9am', 'Humidity3pm',\n",
       "                                  'Pressure9am', 'Pressure3pm', 'Cloud9am',\n",
       "                                  'Cloud3pm', 'Temp9am', 'Temp3pm'])])</pre></div></div></div><div class=\"sk-parallel\"><div class=\"sk-parallel-item\"><div class=\"sk-item\"><div class=\"sk-label-container\"><div class=\"sk-label sk-toggleable\"><input class=\"sk-toggleable__control sk-hidden--visually\" id=\"7921b0fd-8d31-40ed-affc-3bf033aee625\" type=\"checkbox\" ><label class=\"sk-toggleable__label\" for=\"7921b0fd-8d31-40ed-affc-3bf033aee625\">categorical</label><div class=\"sk-toggleable__content\"><pre>['Location', 'WindGustDir', 'WindDir9am', 'WindDir3pm']</pre></div></div></div><div class=\"sk-serial\"><div class=\"sk-item\"><div class=\"sk-serial\"><div class=\"sk-item\"><div class=\"sk-estimator sk-toggleable\"><input class=\"sk-toggleable__control sk-hidden--visually\" id=\"7d187e3d-eb50-462a-80d5-7bad1841a713\" type=\"checkbox\" ><label class=\"sk-toggleable__label\" for=\"7d187e3d-eb50-462a-80d5-7bad1841a713\">OrdinalEncoder</label><div class=\"sk-toggleable__content\"><pre>OrdinalEncoder(handle_unknown='use_encoded_value', unknown_value=-1)</pre></div></div></div><div class=\"sk-item\"><div class=\"sk-estimator sk-toggleable\"><input class=\"sk-toggleable__control sk-hidden--visually\" id=\"13484ae3-7023-4d23-aac9-d13369eed1d1\" type=\"checkbox\" ><label class=\"sk-toggleable__label\" for=\"13484ae3-7023-4d23-aac9-d13369eed1d1\">SimpleImputer</label><div class=\"sk-toggleable__content\"><pre>SimpleImputer(fill_value=-1, strategy='constant')</pre></div></div></div></div></div></div></div></div><div class=\"sk-parallel-item\"><div class=\"sk-item\"><div class=\"sk-label-container\"><div class=\"sk-label sk-toggleable\"><input class=\"sk-toggleable__control sk-hidden--visually\" id=\"9562274d-a3b7-4786-b4c2-72a67a632fdf\" type=\"checkbox\" ><label class=\"sk-toggleable__label\" for=\"9562274d-a3b7-4786-b4c2-72a67a632fdf\">numerical</label><div class=\"sk-toggleable__content\"><pre>['MinTemp', 'MaxTemp', 'Evaporation', 'Sunshine', 'WindGustSpeed', 'WindSpeed9am', 'WindSpeed3pm', 'Humidity9am', 'Humidity3pm', 'Pressure9am', 'Pressure3pm', 'Cloud9am', 'Cloud3pm', 'Temp9am', 'Temp3pm']</pre></div></div></div><div class=\"sk-serial\"><div class=\"sk-item\"><div class=\"sk-estimator sk-toggleable\"><input class=\"sk-toggleable__control sk-hidden--visually\" id=\"a0cfb863-9682-4dff-8301-727b20e8cd01\" type=\"checkbox\" ><label class=\"sk-toggleable__label\" for=\"a0cfb863-9682-4dff-8301-727b20e8cd01\">SimpleImputer</label><div class=\"sk-toggleable__content\"><pre>SimpleImputer(fill_value=-1, strategy='constant')</pre></div></div></div></div></div></div></div></div><div class=\"sk-item\"><div class=\"sk-estimator sk-toggleable\"><input class=\"sk-toggleable__control sk-hidden--visually\" id=\"78703c51-bd5f-4cd4-84c4-4c68307a7ae4\" type=\"checkbox\" ><label class=\"sk-toggleable__label\" for=\"78703c51-bd5f-4cd4-84c4-4c68307a7ae4\">BalancedRandomForestClassifier</label><div class=\"sk-toggleable__content\"><pre>BalancedRandomForestClassifier(n_jobs=-1, random_state=0)</pre></div></div></div></div></div></div></div>"
      ],
      "text/plain": [
       "Pipeline(steps=[('functiontransformer',\n",
       "                 FunctionTransformer(func=<function date_parser at 0x158539f70>)),\n",
       "                ('columntransformer',\n",
       "                 ColumnTransformer(transformers=[('categorical',\n",
       "                                                  Pipeline(steps=[('ordinalencoder',\n",
       "                                                                   OrdinalEncoder(handle_unknown='use_encoded_value',\n",
       "                                                                                  unknown_value=-1)),\n",
       "                                                                  ('simpleimputer',\n",
       "                                                                   SimpleImputer(fill_value=-1,\n",
       "                                                                                 strategy='constant'))]),\n",
       "                                                  ['Locatio...\n",
       "                                                 ('numerical',\n",
       "                                                  SimpleImputer(fill_value=-1,\n",
       "                                                                strategy='constant'),\n",
       "                                                  ['MinTemp', 'MaxTemp',\n",
       "                                                   'Evaporation', 'Sunshine',\n",
       "                                                   'WindGustSpeed',\n",
       "                                                   'WindSpeed9am',\n",
       "                                                   'WindSpeed3pm',\n",
       "                                                   'Humidity9am', 'Humidity3pm',\n",
       "                                                   'Pressure9am', 'Pressure3pm',\n",
       "                                                   'Cloud9am', 'Cloud3pm',\n",
       "                                                   'Temp9am', 'Temp3pm'])])),\n",
       "                ('balancedrandomforestclassifier',\n",
       "                 BalancedRandomForestClassifier(n_jobs=-1, random_state=0))])"
      ]
     },
     "execution_count": 15,
     "metadata": {},
     "output_type": "execute_result"
    }
   ],
   "source": [
    "model.fit(X_train, y_train)"
   ]
  },
  {
   "cell_type": "markdown",
   "id": "863f9679-d5e3-46ec-94ca-45563ec4e94a",
   "metadata": {},
   "source": [
    "We can use the `CalibrationDisplay` that will plot the fraction of positive against the mean predicted probability. For a calibrated classifier, we would expect the fraction of positive to be aligned wiht the mean predicted probability, such that is follow our original explanation. Let's check if our classifier is calibrated."
   ]
  },
  {
   "cell_type": "code",
   "execution_count": 16,
   "id": "27f7964d-4df0-4cf7-a509-43f5b2ffe88e",
   "metadata": {},
   "outputs": [],
   "source": [
    "import seaborn as sns\n",
    "sns.set_context(\"poster\")"
   ]
  },
  {
   "cell_type": "code",
   "execution_count": 26,
   "id": "0a1681e4-d047-46ef-8391-df00c7eb0a0a",
   "metadata": {},
   "outputs": [
    {
     "data": {
      "image/png": "[encoded data removed]",
      "text/plain": [
       "<Figure size 432x288 with 1 Axes>"
      ]
     },
     "metadata": {
      "needs_background": "light"
     },
     "output_type": "display_data"
    }
   ],
   "source": [
    "from sklearn.calibration import CalibrationDisplay\n",
    "\n",
    "display = CalibrationDisplay.from_estimator(\n",
    "    model, X_test, y_test, strategy=\"quantile\", n_bins=20,\n",
    "    name=\"Original classifier\", markersize=10,\n",
    ")\n",
    "display.ax_.legend(loc=\"best\", bbox_to_anchor=(1, 0.5))\n",
    "_ = display.ax_.set_title(\"Reliabiliry of original classifier\")"
   ]
  },
  {
   "cell_type": "markdown",
   "id": "278c753b-70b1-43af-adf0-2a63aca55b6a",
   "metadata": {},
   "source": [
    "We observe that our classifier is not well calibrated since it does not follow the diagonal.\n",
    "\n",
    "When a model is not calibrated, it can be either:\n",
    "\n",
    "- overconfident: the predicted probability will be higher than the fraction of positives, or\n",
    "- underconfident: the predicted probability will be lower than the fraction of positives.\n",
    "\n",
    "Here, our model is clearly overconfident. A classifier can be recalibrated using `CalibratedClassifierCV`. This classifier will use a calibrator that will fit a function to map the probabilities of the uncalibrated classifier to the true predictions."
   ]
  },
  {
   "cell_type": "code",
   "execution_count": 18,
   "id": "81037813-26a3-4be0-9da7-da2fcdfaab16",
   "metadata": {},
   "outputs": [
    {
     "data": {
      "text/html": [
       "<style>#sk-c4733d3e-7c0d-42db-bf10-e415ce5423d1 {color: black;background-color: white;}#sk-c4733d3e-7c0d-42db-bf10-e415ce5423d1 pre{padding: 0;}#sk-c4733d3e-7c0d-42db-bf10-e415ce5423d1 div.sk-toggleable {background-color: white;}#sk-c4733d3e-7c0d-42db-bf10-e415ce5423d1 label.sk-toggleable__label {cursor: pointer;display: block;width: 100%;margin-bottom: 0;padding: 0.3em;box-sizing: border-box;text-align: center;}#sk-c4733d3e-7c0d-42db-bf10-e415ce5423d1 div.sk-toggleable__content {max-height: 0;max-width: 0;overflow: hidden;text-align: left;background-color: #f0f8ff;}#sk-c4733d3e-7c0d-42db-bf10-e415ce5423d1 div.sk-toggleable__content pre {margin: 0.2em;color: black;border-radius: 0.25em;background-color: #f0f8ff;}#sk-c4733d3e-7c0d-42db-bf10-e415ce5423d1 input.sk-toggleable__control:checked~div.sk-toggleable__content {max-height: 200px;max-width: 100%;overflow: auto;}#sk-c4733d3e-7c0d-42db-bf10-e415ce5423d1 div.sk-estimator input.sk-toggleable__control:checked~label.sk-toggleable__label {background-color: #d4ebff;}#sk-c4733d3e-7c0d-42db-bf10-e415ce5423d1 div.sk-label input.sk-toggleable__control:checked~label.sk-toggleable__label {background-color: #d4ebff;}#sk-c4733d3e-7c0d-42db-bf10-e415ce5423d1 input.sk-hidden--visually {border: 0;clip: rect(1px 1px 1px 1px);clip: rect(1px, 1px, 1px, 1px);height: 1px;margin: -1px;overflow: hidden;padding: 0;position: absolute;width: 1px;}#sk-c4733d3e-7c0d-42db-bf10-e415ce5423d1 div.sk-estimator {font-family: monospace;background-color: #f0f8ff;border: 1px dotted black;border-radius: 0.25em;box-sizing: border-box;margin-bottom: 0.5em;}#sk-c4733d3e-7c0d-42db-bf10-e415ce5423d1 div.sk-estimator:hover {background-color: #d4ebff;}#sk-c4733d3e-7c0d-42db-bf10-e415ce5423d1 div.sk-parallel-item::after {content: \"\";width: 100%;border-bottom: 1px solid gray;flex-grow: 1;}#sk-c4733d3e-7c0d-42db-bf10-e415ce5423d1 div.sk-label:hover label.sk-toggleable__label {background-color: #d4ebff;}#sk-c4733d3e-7c0d-42db-bf10-e415ce5423d1 div.sk-serial::before {content: \"\";position: absolute;border-left: 1px solid gray;box-sizing: border-box;top: 2em;bottom: 0;left: 50%;}#sk-c4733d3e-7c0d-42db-bf10-e415ce5423d1 div.sk-serial {display: flex;flex-direction: column;align-items: center;background-color: white;padding-right: 0.2em;padding-left: 0.2em;}#sk-c4733d3e-7c0d-42db-bf10-e415ce5423d1 div.sk-item {z-index: 1;}#sk-c4733d3e-7c0d-42db-bf10-e415ce5423d1 div.sk-parallel {display: flex;align-items: stretch;justify-content: center;background-color: white;}#sk-c4733d3e-7c0d-42db-bf10-e415ce5423d1 div.sk-parallel::before {content: \"\";position: absolute;border-left: 1px solid gray;box-sizing: border-box;top: 2em;bottom: 0;left: 50%;}#sk-c4733d3e-7c0d-42db-bf10-e415ce5423d1 div.sk-parallel-item {display: flex;flex-direction: column;position: relative;background-color: white;}#sk-c4733d3e-7c0d-42db-bf10-e415ce5423d1 div.sk-parallel-item:first-child::after {align-self: flex-end;width: 50%;}#sk-c4733d3e-7c0d-42db-bf10-e415ce5423d1 div.sk-parallel-item:last-child::after {align-self: flex-start;width: 50%;}#sk-c4733d3e-7c0d-42db-bf10-e415ce5423d1 div.sk-parallel-item:only-child::after {width: 0;}#sk-c4733d3e-7c0d-42db-bf10-e415ce5423d1 div.sk-dashed-wrapped {border: 1px dashed gray;margin: 0 0.4em 0.5em 0.4em;box-sizing: border-box;padding-bottom: 0.4em;background-color: white;position: relative;}#sk-c4733d3e-7c0d-42db-bf10-e415ce5423d1 div.sk-label label {font-family: monospace;font-weight: bold;background-color: white;display: inline-block;line-height: 1.2em;}#sk-c4733d3e-7c0d-42db-bf10-e415ce5423d1 div.sk-label-container {position: relative;z-index: 2;text-align: center;}#sk-c4733d3e-7c0d-42db-bf10-e415ce5423d1 div.sk-container {display: inline-block;position: relative;}</style><div id=\"sk-c4733d3e-7c0d-42db-bf10-e415ce5423d1\" class\"sk-top-container\"><div class=\"sk-container\"><div class=\"sk-item sk-dashed-wrapped\"><div class=\"sk-label-container\"><div class=\"sk-label sk-toggleable\"><input class=\"sk-toggleable__control sk-hidden--visually\" id=\"3d0040e6-4714-4ad2-bb69-b6eae2e5820d\" type=\"checkbox\" ><label class=\"sk-toggleable__label\" for=\"3d0040e6-4714-4ad2-bb69-b6eae2e5820d\">CalibratedClassifierCV</label><div class=\"sk-toggleable__content\"><pre>CalibratedClassifierCV(base_estimator=Pipeline(steps=[('functiontransformer',\n",
       "                                                       FunctionTransformer(func=<function date_parser at 0x158539f70>)),\n",
       "                                                      ('columntransformer',\n",
       "                                                       ColumnTransformer(transformers=[('categorical',\n",
       "                                                                                        Pipeline(steps=[('ordinalencoder',\n",
       "                                                                                                         OrdinalEncoder(handle_unknown='use_encoded_value',\n",
       "                                                                                                                        unknown_value=-1)),\n",
       "                                                                                                        ('simpleimputer',\n",
       "                                                                                                         SimpleImputer(fill_valu...\n",
       "                                                                                        SimpleImputer(fill_value=-1,\n",
       "                                                                                                      strategy='constant'),\n",
       "                                                                                        ['MinTemp',\n",
       "                                                                                         'MaxTemp',\n",
       "                                                                                         'Evaporation',\n",
       "                                                                                         'Sunshine',\n",
       "                                                                                         'WindGustSpeed',\n",
       "                                                                                         'WindSpeed9am',\n",
       "                                                                                         'WindSpeed3pm',\n",
       "                                                                                         'Humidity9am',\n",
       "                                                                                         'Humidity3pm',\n",
       "                                                                                         'Pressure9am',\n",
       "                                                                                         'Pressure3pm',\n",
       "                                                                                         'Cloud9am',\n",
       "                                                                                         'Cloud3pm',\n",
       "                                                                                         'Temp9am',\n",
       "                                                                                         'Temp3pm'])])),\n",
       "                                                      ('balancedrandomforestclassifier',\n",
       "                                                       BalancedRandomForestClassifier(n_jobs=-1,\n",
       "                                                                                      random_state=0))]),\n",
       "                       method='isotonic')</pre></div></div></div><div class=\"sk-parallel\"><div class=\"sk-parallel-item\"><div class=\"sk-item\"><div class=\"sk-serial\"><div class=\"sk-item\"><div class=\"sk-serial\"><div class=\"sk-item\"><div class=\"sk-estimator sk-toggleable\"><input class=\"sk-toggleable__control sk-hidden--visually\" id=\"8b78be3b-06b1-4c20-8350-fa38a20832c1\" type=\"checkbox\" ><label class=\"sk-toggleable__label\" for=\"8b78be3b-06b1-4c20-8350-fa38a20832c1\">FunctionTransformer</label><div class=\"sk-toggleable__content\"><pre>FunctionTransformer(func=<function date_parser at 0x158539f70>)</pre></div></div></div><div class=\"sk-item sk-dashed-wrapped\"><div class=\"sk-label-container\"><div class=\"sk-label sk-toggleable\"><input class=\"sk-toggleable__control sk-hidden--visually\" id=\"6a1effc6-7165-4194-bd24-58d40c5e717f\" type=\"checkbox\" ><label class=\"sk-toggleable__label\" for=\"6a1effc6-7165-4194-bd24-58d40c5e717f\">columntransformer: ColumnTransformer</label><div class=\"sk-toggleable__content\"><pre>ColumnTransformer(transformers=[('categorical',\n",
       "                                 Pipeline(steps=[('ordinalencoder',\n",
       "                                                  OrdinalEncoder(handle_unknown='use_encoded_value',\n",
       "                                                                 unknown_value=-1)),\n",
       "                                                 ('simpleimputer',\n",
       "                                                  SimpleImputer(fill_value=-1,\n",
       "                                                                strategy='constant'))]),\n",
       "                                 ['Location', 'WindGustDir', 'WindDir9am',\n",
       "                                  'WindDir3pm']),\n",
       "                                ('numerical',\n",
       "                                 SimpleImputer(fill_value=-1,\n",
       "                                               strategy='constant'),\n",
       "                                 ['MinTemp', 'MaxTemp', 'Evaporation',\n",
       "                                  'Sunshine', 'WindGustSpeed', 'WindSpeed9am',\n",
       "                                  'WindSpeed3pm', 'Humidity9am', 'Humidity3pm',\n",
       "                                  'Pressure9am', 'Pressure3pm', 'Cloud9am',\n",
       "                                  'Cloud3pm', 'Temp9am', 'Temp3pm'])])</pre></div></div></div><div class=\"sk-parallel\"><div class=\"sk-parallel-item\"><div class=\"sk-item\"><div class=\"sk-label-container\"><div class=\"sk-label sk-toggleable\"><input class=\"sk-toggleable__control sk-hidden--visually\" id=\"bc5a94b1-07fb-4d7a-b913-f539e652f838\" type=\"checkbox\" ><label class=\"sk-toggleable__label\" for=\"bc5a94b1-07fb-4d7a-b913-f539e652f838\">categorical</label><div class=\"sk-toggleable__content\"><pre>['Location', 'WindGustDir', 'WindDir9am', 'WindDir3pm']</pre></div></div></div><div class=\"sk-serial\"><div class=\"sk-item\"><div class=\"sk-serial\"><div class=\"sk-item\"><div class=\"sk-estimator sk-toggleable\"><input class=\"sk-toggleable__control sk-hidden--visually\" id=\"5339d83a-4864-4cb6-b6aa-3bbaf9db6b99\" type=\"checkbox\" ><label class=\"sk-toggleable__label\" for=\"5339d83a-4864-4cb6-b6aa-3bbaf9db6b99\">OrdinalEncoder</label><div class=\"sk-toggleable__content\"><pre>OrdinalEncoder(handle_unknown='use_encoded_value', unknown_value=-1)</pre></div></div></div><div class=\"sk-item\"><div class=\"sk-estimator sk-toggleable\"><input class=\"sk-toggleable__control sk-hidden--visually\" id=\"0938b885-a4b8-45d1-ad50-b5c80aacc491\" type=\"checkbox\" ><label class=\"sk-toggleable__label\" for=\"0938b885-a4b8-45d1-ad50-b5c80aacc491\">SimpleImputer</label><div class=\"sk-toggleable__content\"><pre>SimpleImputer(fill_value=-1, strategy='constant')</pre></div></div></div></div></div></div></div></div><div class=\"sk-parallel-item\"><div class=\"sk-item\"><div class=\"sk-label-container\"><div class=\"sk-label sk-toggleable\"><input class=\"sk-toggleable__control sk-hidden--visually\" id=\"31b037c1-fec5-4569-b256-7f0b549f5b43\" type=\"checkbox\" ><label class=\"sk-toggleable__label\" for=\"31b037c1-fec5-4569-b256-7f0b549f5b43\">numerical</label><div class=\"sk-toggleable__content\"><pre>['MinTemp', 'MaxTemp', 'Evaporation', 'Sunshine', 'WindGustSpeed', 'WindSpeed9am', 'WindSpeed3pm', 'Humidity9am', 'Humidity3pm', 'Pressure9am', 'Pressure3pm', 'Cloud9am', 'Cloud3pm', 'Temp9am', 'Temp3pm']</pre></div></div></div><div class=\"sk-serial\"><div class=\"sk-item\"><div class=\"sk-estimator sk-toggleable\"><input class=\"sk-toggleable__control sk-hidden--visually\" id=\"dc939f3c-db76-4818-8a91-e929c6c013a8\" type=\"checkbox\" ><label class=\"sk-toggleable__label\" for=\"dc939f3c-db76-4818-8a91-e929c6c013a8\">SimpleImputer</label><div class=\"sk-toggleable__content\"><pre>SimpleImputer(fill_value=-1, strategy='constant')</pre></div></div></div></div></div></div></div></div><div class=\"sk-item\"><div class=\"sk-estimator sk-toggleable\"><input class=\"sk-toggleable__control sk-hidden--visually\" id=\"a1f6ad78-dbf2-44f4-a2ab-fee10103563a\" type=\"checkbox\" ><label class=\"sk-toggleable__label\" for=\"a1f6ad78-dbf2-44f4-a2ab-fee10103563a\">BalancedRandomForestClassifier</label><div class=\"sk-toggleable__content\"><pre>BalancedRandomForestClassifier(n_jobs=-1, random_state=0)</pre></div></div></div></div></div></div></div></div></div></div></div></div>"
      ],
      "text/plain": [
       "CalibratedClassifierCV(base_estimator=Pipeline(steps=[('functiontransformer',\n",
       "                                                       FunctionTransformer(func=<function date_parser at 0x158539f70>)),\n",
       "                                                      ('columntransformer',\n",
       "                                                       ColumnTransformer(transformers=[('categorical',\n",
       "                                                                                        Pipeline(steps=[('ordinalencoder',\n",
       "                                                                                                         OrdinalEncoder(handle_unknown='use_encoded_value',\n",
       "                                                                                                                        unknown_value=-1)),\n",
       "                                                                                                        ('simpleimputer',\n",
       "                                                                                                         SimpleImputer(fill_valu...\n",
       "                                                                                        SimpleImputer(fill_value=-1,\n",
       "                                                                                                      strategy='constant'),\n",
       "                                                                                        ['MinTemp',\n",
       "                                                                                         'MaxTemp',\n",
       "                                                                                         'Evaporation',\n",
       "                                                                                         'Sunshine',\n",
       "                                                                                         'WindGustSpeed',\n",
       "                                                                                         'WindSpeed9am',\n",
       "                                                                                         'WindSpeed3pm',\n",
       "                                                                                         'Humidity9am',\n",
       "                                                                                         'Humidity3pm',\n",
       "                                                                                         'Pressure9am',\n",
       "                                                                                         'Pressure3pm',\n",
       "                                                                                         'Cloud9am',\n",
       "                                                                                         'Cloud3pm',\n",
       "                                                                                         'Temp9am',\n",
       "                                                                                         'Temp3pm'])])),\n",
       "                                                      ('balancedrandomforestclassifier',\n",
       "                                                       BalancedRandomForestClassifier(n_jobs=-1,\n",
       "                                                                                      random_state=0))]),\n",
       "                       method='isotonic')"
      ]
     },
     "execution_count": 18,
     "metadata": {},
     "output_type": "execute_result"
    }
   ],
   "source": [
    "from sklearn.calibration import CalibratedClassifierCV\n",
    "\n",
    "model_calibrated = CalibratedClassifierCV(\n",
    "    model, method=\"isotonic\",\n",
    ")\n",
    "model_calibrated"
   ]
  },
  {
   "cell_type": "markdown",
   "id": "8a5bce1d-6c47-44a1-9dd4-2c1ff2757b31",
   "metadata": {},
   "source": [
    "Now, we can evaluate our model with cross-validation."
   ]
  },
  {
   "cell_type": "code",
   "execution_count": 19,
   "id": "04005e5c-bc6e-45d7-8a32-84ea33e59016",
   "metadata": {},
   "outputs": [],
   "source": [
    "cv_results = cross_validate(\n",
    "    model_calibrated, X, y, cv=cv, scoring=scoring, n_jobs=-1,\n",
    ")"
   ]
  },
  {
   "cell_type": "code",
   "execution_count": 31,
   "id": "5cfa70fd-9026-48c7-87af-6823c21c6262",
   "metadata": {},
   "outputs": [
    {
     "data": {
      "text/html": [
       "<div>\n",
       "<style scoped>\n",
       "    .dataframe tbody tr th:only-of-type {\n",
       "        vertical-align: middle;\n",
       "    }\n",
       "\n",
       "    .dataframe tbody tr th {\n",
       "        vertical-align: top;\n",
       "    }\n",
       "\n",
       "    .dataframe thead th {\n",
       "        text-align: right;\n",
       "    }\n",
       "</style>\n",
       "<table border=\"1\" class=\"dataframe\">\n",
       "  <thead>\n",
       "    <tr style=\"text-align: right;\">\n",
       "      <th></th>\n",
       "      <th>fit_time</th>\n",
       "      <th>score_time</th>\n",
       "      <th>test_balanced_accuracy</th>\n",
       "      <th>test_average_precision</th>\n",
       "      <th>test_brier_score</th>\n",
       "    </tr>\n",
       "  </thead>\n",
       "  <tbody>\n",
       "    <tr>\n",
       "      <th>0</th>\n",
       "      <td>6.167604</td>\n",
       "      <td>2.248713</td>\n",
       "      <td>0.5</td>\n",
       "      <td>0.128863</td>\n",
       "      <td>-0.006857</td>\n",
       "    </tr>\n",
       "    <tr>\n",
       "      <th>1</th>\n",
       "      <td>11.017486</td>\n",
       "      <td>1.089218</td>\n",
       "      <td>0.5</td>\n",
       "      <td>0.044497</td>\n",
       "      <td>-0.002675</td>\n",
       "    </tr>\n",
       "    <tr>\n",
       "      <th>2</th>\n",
       "      <td>14.120957</td>\n",
       "      <td>0.923373</td>\n",
       "      <td>0.5</td>\n",
       "      <td>0.099340</td>\n",
       "      <td>-0.010340</td>\n",
       "    </tr>\n",
       "    <tr>\n",
       "      <th>3</th>\n",
       "      <td>16.957580</td>\n",
       "      <td>2.680314</td>\n",
       "      <td>0.5</td>\n",
       "      <td>0.117855</td>\n",
       "      <td>-0.001151</td>\n",
       "    </tr>\n",
       "    <tr>\n",
       "      <th>4</th>\n",
       "      <td>24.632815</td>\n",
       "      <td>0.821166</td>\n",
       "      <td>0.5</td>\n",
       "      <td>0.206617</td>\n",
       "      <td>-0.003962</td>\n",
       "    </tr>\n",
       "  </tbody>\n",
       "</table>\n",
       "</div>"
      ],
      "text/plain": [
       "    fit_time  score_time  test_balanced_accuracy  test_average_precision  \\\n",
       "0   6.167604    2.248713                     0.5                0.128863   \n",
       "1  11.017486    1.089218                     0.5                0.044497   \n",
       "2  14.120957    0.923373                     0.5                0.099340   \n",
       "3  16.957580    2.680314                     0.5                0.117855   \n",
       "4  24.632815    0.821166                     0.5                0.206617   \n",
       "\n",
       "   test_brier_score  \n",
       "0         -0.006857  \n",
       "1         -0.002675  \n",
       "2         -0.010340  \n",
       "3         -0.001151  \n",
       "4         -0.003962  "
      ]
     },
     "execution_count": 31,
     "metadata": {},
     "output_type": "execute_result"
    }
   ],
   "source": [
    "cv_results = pd.DataFrame(cv_results)\n",
    "cv_results"
   ]
  },
  {
   "cell_type": "code",
   "execution_count": 32,
   "id": "6fdba861-04bb-4d43-8caa-b53ed3a120a7",
   "metadata": {},
   "outputs": [
    {
     "data": {
      "text/plain": [
       "fit_time                  14.579288\n",
       "score_time                 1.552557\n",
       "test_balanced_accuracy     0.500000\n",
       "test_average_precision     0.119435\n",
       "test_brier_score          -0.004997\n",
       "dtype: float64"
      ]
     },
     "execution_count": 32,
     "metadata": {},
     "output_type": "execute_result"
    }
   ],
   "source": [
    "cv_results.mean()"
   ]
  },
  {
   "cell_type": "markdown",
   "id": "28ea13c6-8464-4141-a0ef-6bfba033793d",
   "metadata": {},
   "source": [
    "We observe that while the balanced accuracy goes down, the average precision remains more or less stable. More importantly the Brier score is much smaller meaning that our classifier is better calibrated. We can check now the reliability diagram."
   ]
  },
  {
   "cell_type": "code",
   "execution_count": 33,
   "id": "fdc1e788-5962-40fd-9c4d-6d49eb8dd444",
   "metadata": {},
   "outputs": [
    {
     "data": {
      "text/html": [
       "<style>#sk-a4158a5f-f28e-4831-9d80-770730396122 {color: black;background-color: white;}#sk-a4158a5f-f28e-4831-9d80-770730396122 pre{padding: 0;}#sk-a4158a5f-f28e-4831-9d80-770730396122 div.sk-toggleable {background-color: white;}#sk-a4158a5f-f28e-4831-9d80-770730396122 label.sk-toggleable__label {cursor: pointer;display: block;width: 100%;margin-bottom: 0;padding: 0.3em;box-sizing: border-box;text-align: center;}#sk-a4158a5f-f28e-4831-9d80-770730396122 div.sk-toggleable__content {max-height: 0;max-width: 0;overflow: hidden;text-align: left;background-color: #f0f8ff;}#sk-a4158a5f-f28e-4831-9d80-770730396122 div.sk-toggleable__content pre {margin: 0.2em;color: black;border-radius: 0.25em;background-color: #f0f8ff;}#sk-a4158a5f-f28e-4831-9d80-770730396122 input.sk-toggleable__control:checked~div.sk-toggleable__content {max-height: 200px;max-width: 100%;overflow: auto;}#sk-a4158a5f-f28e-4831-9d80-770730396122 div.sk-estimator input.sk-toggleable__control:checked~label.sk-toggleable__label {background-color: #d4ebff;}#sk-a4158a5f-f28e-4831-9d80-770730396122 div.sk-label input.sk-toggleable__control:checked~label.sk-toggleable__label {background-color: #d4ebff;}#sk-a4158a5f-f28e-4831-9d80-770730396122 input.sk-hidden--visually {border: 0;clip: rect(1px 1px 1px 1px);clip: rect(1px, 1px, 1px, 1px);height: 1px;margin: -1px;overflow: hidden;padding: 0;position: absolute;width: 1px;}#sk-a4158a5f-f28e-4831-9d80-770730396122 div.sk-estimator {font-family: monospace;background-color: #f0f8ff;border: 1px dotted black;border-radius: 0.25em;box-sizing: border-box;margin-bottom: 0.5em;}#sk-a4158a5f-f28e-4831-9d80-770730396122 div.sk-estimator:hover {background-color: #d4ebff;}#sk-a4158a5f-f28e-4831-9d80-770730396122 div.sk-parallel-item::after {content: \"\";width: 100%;border-bottom: 1px solid gray;flex-grow: 1;}#sk-a4158a5f-f28e-4831-9d80-770730396122 div.sk-label:hover label.sk-toggleable__label {background-color: #d4ebff;}#sk-a4158a5f-f28e-4831-9d80-770730396122 div.sk-serial::before {content: \"\";position: absolute;border-left: 1px solid gray;box-sizing: border-box;top: 2em;bottom: 0;left: 50%;}#sk-a4158a5f-f28e-4831-9d80-770730396122 div.sk-serial {display: flex;flex-direction: column;align-items: center;background-color: white;padding-right: 0.2em;padding-left: 0.2em;}#sk-a4158a5f-f28e-4831-9d80-770730396122 div.sk-item {z-index: 1;}#sk-a4158a5f-f28e-4831-9d80-770730396122 div.sk-parallel {display: flex;align-items: stretch;justify-content: center;background-color: white;}#sk-a4158a5f-f28e-4831-9d80-770730396122 div.sk-parallel::before {content: \"\";position: absolute;border-left: 1px solid gray;box-sizing: border-box;top: 2em;bottom: 0;left: 50%;}#sk-a4158a5f-f28e-4831-9d80-770730396122 div.sk-parallel-item {display: flex;flex-direction: column;position: relative;background-color: white;}#sk-a4158a5f-f28e-4831-9d80-770730396122 div.sk-parallel-item:first-child::after {align-self: flex-end;width: 50%;}#sk-a4158a5f-f28e-4831-9d80-770730396122 div.sk-parallel-item:last-child::after {align-self: flex-start;width: 50%;}#sk-a4158a5f-f28e-4831-9d80-770730396122 div.sk-parallel-item:only-child::after {width: 0;}#sk-a4158a5f-f28e-4831-9d80-770730396122 div.sk-dashed-wrapped {border: 1px dashed gray;margin: 0 0.4em 0.5em 0.4em;box-sizing: border-box;padding-bottom: 0.4em;background-color: white;position: relative;}#sk-a4158a5f-f28e-4831-9d80-770730396122 div.sk-label label {font-family: monospace;font-weight: bold;background-color: white;display: inline-block;line-height: 1.2em;}#sk-a4158a5f-f28e-4831-9d80-770730396122 div.sk-label-container {position: relative;z-index: 2;text-align: center;}#sk-a4158a5f-f28e-4831-9d80-770730396122 div.sk-container {display: inline-block;position: relative;}</style><div id=\"sk-a4158a5f-f28e-4831-9d80-770730396122\" class\"sk-top-container\"><div class=\"sk-container\"><div class=\"sk-item sk-dashed-wrapped\"><div class=\"sk-label-container\"><div class=\"sk-label sk-toggleable\"><input class=\"sk-toggleable__control sk-hidden--visually\" id=\"53f1527e-433d-4a85-bd62-0b2619b81cdb\" type=\"checkbox\" ><label class=\"sk-toggleable__label\" for=\"53f1527e-433d-4a85-bd62-0b2619b81cdb\">CalibratedClassifierCV</label><div class=\"sk-toggleable__content\"><pre>CalibratedClassifierCV(base_estimator=Pipeline(steps=[('functiontransformer',\n",
       "                                                       FunctionTransformer(func=<function date_parser at 0x158539f70>)),\n",
       "                                                      ('columntransformer',\n",
       "                                                       ColumnTransformer(transformers=[('categorical',\n",
       "                                                                                        Pipeline(steps=[('ordinalencoder',\n",
       "                                                                                                         OrdinalEncoder(handle_unknown='use_encoded_value',\n",
       "                                                                                                                        unknown_value=-1)),\n",
       "                                                                                                        ('simpleimputer',\n",
       "                                                                                                         SimpleImputer(fill_valu...\n",
       "                                                                                        SimpleImputer(fill_value=-1,\n",
       "                                                                                                      strategy='constant'),\n",
       "                                                                                        ['MinTemp',\n",
       "                                                                                         'MaxTemp',\n",
       "                                                                                         'Evaporation',\n",
       "                                                                                         'Sunshine',\n",
       "                                                                                         'WindGustSpeed',\n",
       "                                                                                         'WindSpeed9am',\n",
       "                                                                                         'WindSpeed3pm',\n",
       "                                                                                         'Humidity9am',\n",
       "                                                                                         'Humidity3pm',\n",
       "                                                                                         'Pressure9am',\n",
       "                                                                                         'Pressure3pm',\n",
       "                                                                                         'Cloud9am',\n",
       "                                                                                         'Cloud3pm',\n",
       "                                                                                         'Temp9am',\n",
       "                                                                                         'Temp3pm'])])),\n",
       "                                                      ('balancedrandomforestclassifier',\n",
       "                                                       BalancedRandomForestClassifier(n_jobs=-1,\n",
       "                                                                                      random_state=0))]),\n",
       "                       method='isotonic')</pre></div></div></div><div class=\"sk-parallel\"><div class=\"sk-parallel-item\"><div class=\"sk-item\"><div class=\"sk-serial\"><div class=\"sk-item\"><div class=\"sk-serial\"><div class=\"sk-item\"><div class=\"sk-estimator sk-toggleable\"><input class=\"sk-toggleable__control sk-hidden--visually\" id=\"59498b40-6de7-4032-9bad-daec556a61b8\" type=\"checkbox\" ><label class=\"sk-toggleable__label\" for=\"59498b40-6de7-4032-9bad-daec556a61b8\">FunctionTransformer</label><div class=\"sk-toggleable__content\"><pre>FunctionTransformer(func=<function date_parser at 0x158539f70>)</pre></div></div></div><div class=\"sk-item sk-dashed-wrapped\"><div class=\"sk-label-container\"><div class=\"sk-label sk-toggleable\"><input class=\"sk-toggleable__control sk-hidden--visually\" id=\"5c47ebca-48f4-465b-82e4-5f8cbaf6fba3\" type=\"checkbox\" ><label class=\"sk-toggleable__label\" for=\"5c47ebca-48f4-465b-82e4-5f8cbaf6fba3\">columntransformer: ColumnTransformer</label><div class=\"sk-toggleable__content\"><pre>ColumnTransformer(transformers=[('categorical',\n",
       "                                 Pipeline(steps=[('ordinalencoder',\n",
       "                                                  OrdinalEncoder(handle_unknown='use_encoded_value',\n",
       "                                                                 unknown_value=-1)),\n",
       "                                                 ('simpleimputer',\n",
       "                                                  SimpleImputer(fill_value=-1,\n",
       "                                                                strategy='constant'))]),\n",
       "                                 ['Location', 'WindGustDir', 'WindDir9am',\n",
       "                                  'WindDir3pm']),\n",
       "                                ('numerical',\n",
       "                                 SimpleImputer(fill_value=-1,\n",
       "                                               strategy='constant'),\n",
       "                                 ['MinTemp', 'MaxTemp', 'Evaporation',\n",
       "                                  'Sunshine', 'WindGustSpeed', 'WindSpeed9am',\n",
       "                                  'WindSpeed3pm', 'Humidity9am', 'Humidity3pm',\n",
       "                                  'Pressure9am', 'Pressure3pm', 'Cloud9am',\n",
       "                                  'Cloud3pm', 'Temp9am', 'Temp3pm'])])</pre></div></div></div><div class=\"sk-parallel\"><div class=\"sk-parallel-item\"><div class=\"sk-item\"><div class=\"sk-label-container\"><div class=\"sk-label sk-toggleable\"><input class=\"sk-toggleable__control sk-hidden--visually\" id=\"43f49867-7284-40b1-9ae2-9dbbf3a85afc\" type=\"checkbox\" ><label class=\"sk-toggleable__label\" for=\"43f49867-7284-40b1-9ae2-9dbbf3a85afc\">categorical</label><div class=\"sk-toggleable__content\"><pre>['Location', 'WindGustDir', 'WindDir9am', 'WindDir3pm']</pre></div></div></div><div class=\"sk-serial\"><div class=\"sk-item\"><div class=\"sk-serial\"><div class=\"sk-item\"><div class=\"sk-estimator sk-toggleable\"><input class=\"sk-toggleable__control sk-hidden--visually\" id=\"ccf65d59-20e5-4ff0-bab2-6be498e8152b\" type=\"checkbox\" ><label class=\"sk-toggleable__label\" for=\"ccf65d59-20e5-4ff0-bab2-6be498e8152b\">OrdinalEncoder</label><div class=\"sk-toggleable__content\"><pre>OrdinalEncoder(handle_unknown='use_encoded_value', unknown_value=-1)</pre></div></div></div><div class=\"sk-item\"><div class=\"sk-estimator sk-toggleable\"><input class=\"sk-toggleable__control sk-hidden--visually\" id=\"33cbf3fe-ab2e-482f-95e8-0be0d1adf2fe\" type=\"checkbox\" ><label class=\"sk-toggleable__label\" for=\"33cbf3fe-ab2e-482f-95e8-0be0d1adf2fe\">SimpleImputer</label><div class=\"sk-toggleable__content\"><pre>SimpleImputer(fill_value=-1, strategy='constant')</pre></div></div></div></div></div></div></div></div><div class=\"sk-parallel-item\"><div class=\"sk-item\"><div class=\"sk-label-container\"><div class=\"sk-label sk-toggleable\"><input class=\"sk-toggleable__control sk-hidden--visually\" id=\"f2f4525e-e5ee-4fde-a51b-ac2a4b2e6119\" type=\"checkbox\" ><label class=\"sk-toggleable__label\" for=\"f2f4525e-e5ee-4fde-a51b-ac2a4b2e6119\">numerical</label><div class=\"sk-toggleable__content\"><pre>['MinTemp', 'MaxTemp', 'Evaporation', 'Sunshine', 'WindGustSpeed', 'WindSpeed9am', 'WindSpeed3pm', 'Humidity9am', 'Humidity3pm', 'Pressure9am', 'Pressure3pm', 'Cloud9am', 'Cloud3pm', 'Temp9am', 'Temp3pm']</pre></div></div></div><div class=\"sk-serial\"><div class=\"sk-item\"><div class=\"sk-estimator sk-toggleable\"><input class=\"sk-toggleable__control sk-hidden--visually\" id=\"820a0ccb-1602-40bd-8850-f7e8c874950b\" type=\"checkbox\" ><label class=\"sk-toggleable__label\" for=\"820a0ccb-1602-40bd-8850-f7e8c874950b\">SimpleImputer</label><div class=\"sk-toggleable__content\"><pre>SimpleImputer(fill_value=-1, strategy='constant')</pre></div></div></div></div></div></div></div></div><div class=\"sk-item\"><div class=\"sk-estimator sk-toggleable\"><input class=\"sk-toggleable__control sk-hidden--visually\" id=\"d367df2a-46b4-4106-a31c-503d07a9664f\" type=\"checkbox\" ><label class=\"sk-toggleable__label\" for=\"d367df2a-46b4-4106-a31c-503d07a9664f\">BalancedRandomForestClassifier</label><div class=\"sk-toggleable__content\"><pre>BalancedRandomForestClassifier(n_jobs=-1, random_state=0)</pre></div></div></div></div></div></div></div></div></div></div></div></div>"
      ],
      "text/plain": [
       "CalibratedClassifierCV(base_estimator=Pipeline(steps=[('functiontransformer',\n",
       "                                                       FunctionTransformer(func=<function date_parser at 0x158539f70>)),\n",
       "                                                      ('columntransformer',\n",
       "                                                       ColumnTransformer(transformers=[('categorical',\n",
       "                                                                                        Pipeline(steps=[('ordinalencoder',\n",
       "                                                                                                         OrdinalEncoder(handle_unknown='use_encoded_value',\n",
       "                                                                                                                        unknown_value=-1)),\n",
       "                                                                                                        ('simpleimputer',\n",
       "                                                                                                         SimpleImputer(fill_valu...\n",
       "                                                                                        SimpleImputer(fill_value=-1,\n",
       "                                                                                                      strategy='constant'),\n",
       "                                                                                        ['MinTemp',\n",
       "                                                                                         'MaxTemp',\n",
       "                                                                                         'Evaporation',\n",
       "                                                                                         'Sunshine',\n",
       "                                                                                         'WindGustSpeed',\n",
       "                                                                                         'WindSpeed9am',\n",
       "                                                                                         'WindSpeed3pm',\n",
       "                                                                                         'Humidity9am',\n",
       "                                                                                         'Humidity3pm',\n",
       "                                                                                         'Pressure9am',\n",
       "                                                                                         'Pressure3pm',\n",
       "                                                                                         'Cloud9am',\n",
       "                                                                                         'Cloud3pm',\n",
       "                                                                                         'Temp9am',\n",
       "                                                                                         'Temp3pm'])])),\n",
       "                                                      ('balancedrandomforestclassifier',\n",
       "                                                       BalancedRandomForestClassifier(n_jobs=-1,\n",
       "                                                                                      random_state=0))]),\n",
       "                       method='isotonic')"
      ]
     },
     "execution_count": 33,
     "metadata": {},
     "output_type": "execute_result"
    }
   ],
   "source": [
    "model_calibrated.fit(X_train, y_train)"
   ]
  },
  {
   "cell_type": "code",
   "execution_count": 34,
   "id": "2d90b6ae-2111-43d5-91a5-9d91c9ff012c",
   "metadata": {},
   "outputs": [
    {
     "data": {
      "image/png": "[encoded data removed]",
      "text/plain": [
       "<Figure size 432x288 with 1 Axes>"
      ]
     },
     "metadata": {
      "needs_background": "light"
     },
     "output_type": "display_data"
    }
   ],
   "source": [
    "display = CalibrationDisplay.from_estimator(\n",
    "    model_calibrated, X_test, y_test, strategy=\"quantile\", n_bins=20\n",
    ")\n",
    "display.ax_.legend(loc=\"best\", bbox_to_anchor=(1, 0.5))\n",
    "_ = display.ax_.set_title(\"Reliability of calibrated classifier\")"
   ]
  },
  {
   "cell_type": "markdown",
   "id": "7609b2e8-20aa-42a4-8868-fefcfb709690",
   "metadata": {},
   "source": [
    "We observe that our classifier follow the diagonal. Since we are using quantile and most probability are in the lower probability, we don't have data point above 10%. We could force the binning to use a uniform sampling. However, we might have very few points and thus a lot of variance then."
   ]
  },
  {
   "cell_type": "code",
   "execution_count": 40,
   "id": "12a7e6f9-9da2-4794-965f-452b2a6d252a",
   "metadata": {},
   "outputs": [
    {
     "data": {
      "image/png": "[encoded data removed]",
      "text/plain": [
       "<Figure size 432x288 with 1 Axes>"
      ]
     },
     "metadata": {
      "needs_background": "light"
     },
     "output_type": "display_data"
    }
   ],
   "source": [
    "display = CalibrationDisplay.from_estimator(\n",
    "    model_calibrated, X_test, y_test, strategy=\"uniform\", n_bins=20\n",
    ")\n",
    "display.ax_.legend(loc=\"best\", bbox_to_anchor=(1, 0.5))\n",
    "_ = display.ax_.set_title(\"Reliability of calibrated classifier\")"
   ]
  }
 ],
 "metadata": {
  "kernelspec": {
   "display_name": "Python 3.9.6 64-bit ('dev': conda)",
   "language": "python",
   "name": "python396jvsc74a57bd09a169727f211857ff40b7480da7adfec0d4f2de575b69ddb6e8fbd736e9b2f58"
  },
  "language_info": {
   "codemirror_mode": {
    "name": "ipython",
    "version": 3
   },
   "file_extension": ".py",
   "mimetype": "text/x-python",
   "name": "python",
   "nbconvert_exporter": "python",
   "pygments_lexer": "ipython3",
   "version": "3.8.12"
  }
 },
 "nbformat": 4,
 "nbformat_minor": 5
}
